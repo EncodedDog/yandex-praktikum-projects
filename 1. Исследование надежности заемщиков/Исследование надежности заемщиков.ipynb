{
 "cells": [
  {
   "cell_type": "markdown",
   "id": "6fde9864",
   "metadata": {
    "deletable": false,
    "editable": false,
    "id": "c81daeeb"
   },
   "source": [
    "# Исследование надежности заемщиков\n"
   ]
  },
  {
   "cell_type": "markdown",
   "id": "c9c1e364",
   "metadata": {
    "deletable": false,
    "editable": false,
    "id": "827c20bf"
   },
   "source": [
    "Во второй части проекта вы выполните шаги 3 и 4. Их вручную проверит ревьюер.\n",
    "Чтобы вам не пришлось писать код заново для шагов 1 и 2, мы добавили авторские решения в ячейки с кодом. \n",
    "\n"
   ]
  },
  {
   "cell_type": "markdown",
   "id": "06ab899f",
   "metadata": {
    "deletable": false,
    "editable": false,
    "id": "744d7639"
   },
   "source": [
    "## Откройте таблицу и изучите общую информацию о данных"
   ]
  },
  {
   "cell_type": "markdown",
   "id": "e229ddbf",
   "metadata": {
    "deletable": false,
    "editable": false,
    "id": "e7a14c31"
   },
   "source": [
    "**Задание 1. Импортируйте библиотеку pandas. Считайте данные из csv-файла в датафрейм и сохраните в переменную `data`. Путь к файлу:**\n",
    "\n",
    "`/datasets/data.csv`"
   ]
  },
  {
   "cell_type": "code",
   "execution_count": 1,
   "id": "d9cae685",
   "metadata": {
    "deletable": false,
    "id": "7bcf75c9"
   },
   "outputs": [],
   "source": [
    "import pandas as pd\n",
    "\n",
    "try:\n",
    "    data = pd.read_csv('/datasets/data.csv')\n",
    "except:\n",
    "    data = pd.read_csv('https://code.s3.yandex.net/datasets/data.csv')"
   ]
  },
  {
   "cell_type": "markdown",
   "id": "f6eef4d6",
   "metadata": {
    "deletable": false,
    "editable": false,
    "id": "b8038fe3"
   },
   "source": [
    "**Задание 2. Выведите первые 20 строчек датафрейма `data` на экран.**"
   ]
  },
  {
   "cell_type": "code",
   "execution_count": 2,
   "id": "2a322921",
   "metadata": {
    "deletable": false,
    "id": "2a7cab99",
    "outputId": "1a8f3ef2-d323-4ec2-ddf7-89670b5944c4"
   },
   "outputs": [
    {
     "data": {
      "text/html": [
       "<div>\n",
       "<style scoped>\n",
       "    .dataframe tbody tr th:only-of-type {\n",
       "        vertical-align: middle;\n",
       "    }\n",
       "\n",
       "    .dataframe tbody tr th {\n",
       "        vertical-align: top;\n",
       "    }\n",
       "\n",
       "    .dataframe thead th {\n",
       "        text-align: right;\n",
       "    }\n",
       "</style>\n",
       "<table border=\"1\" class=\"dataframe\">\n",
       "  <thead>\n",
       "    <tr style=\"text-align: right;\">\n",
       "      <th></th>\n",
       "      <th>children</th>\n",
       "      <th>days_employed</th>\n",
       "      <th>dob_years</th>\n",
       "      <th>education</th>\n",
       "      <th>education_id</th>\n",
       "      <th>family_status</th>\n",
       "      <th>family_status_id</th>\n",
       "      <th>gender</th>\n",
       "      <th>income_type</th>\n",
       "      <th>debt</th>\n",
       "      <th>total_income</th>\n",
       "      <th>purpose</th>\n",
       "    </tr>\n",
       "  </thead>\n",
       "  <tbody>\n",
       "    <tr>\n",
       "      <th>0</th>\n",
       "      <td>1</td>\n",
       "      <td>-8437.673028</td>\n",
       "      <td>42</td>\n",
       "      <td>высшее</td>\n",
       "      <td>0</td>\n",
       "      <td>женат / замужем</td>\n",
       "      <td>0</td>\n",
       "      <td>F</td>\n",
       "      <td>сотрудник</td>\n",
       "      <td>0</td>\n",
       "      <td>253875.639453</td>\n",
       "      <td>покупка жилья</td>\n",
       "    </tr>\n",
       "    <tr>\n",
       "      <th>1</th>\n",
       "      <td>1</td>\n",
       "      <td>-4024.803754</td>\n",
       "      <td>36</td>\n",
       "      <td>среднее</td>\n",
       "      <td>1</td>\n",
       "      <td>женат / замужем</td>\n",
       "      <td>0</td>\n",
       "      <td>F</td>\n",
       "      <td>сотрудник</td>\n",
       "      <td>0</td>\n",
       "      <td>112080.014102</td>\n",
       "      <td>приобретение автомобиля</td>\n",
       "    </tr>\n",
       "    <tr>\n",
       "      <th>2</th>\n",
       "      <td>0</td>\n",
       "      <td>-5623.422610</td>\n",
       "      <td>33</td>\n",
       "      <td>Среднее</td>\n",
       "      <td>1</td>\n",
       "      <td>женат / замужем</td>\n",
       "      <td>0</td>\n",
       "      <td>M</td>\n",
       "      <td>сотрудник</td>\n",
       "      <td>0</td>\n",
       "      <td>145885.952297</td>\n",
       "      <td>покупка жилья</td>\n",
       "    </tr>\n",
       "    <tr>\n",
       "      <th>3</th>\n",
       "      <td>3</td>\n",
       "      <td>-4124.747207</td>\n",
       "      <td>32</td>\n",
       "      <td>среднее</td>\n",
       "      <td>1</td>\n",
       "      <td>женат / замужем</td>\n",
       "      <td>0</td>\n",
       "      <td>M</td>\n",
       "      <td>сотрудник</td>\n",
       "      <td>0</td>\n",
       "      <td>267628.550329</td>\n",
       "      <td>дополнительное образование</td>\n",
       "    </tr>\n",
       "    <tr>\n",
       "      <th>4</th>\n",
       "      <td>0</td>\n",
       "      <td>340266.072047</td>\n",
       "      <td>53</td>\n",
       "      <td>среднее</td>\n",
       "      <td>1</td>\n",
       "      <td>гражданский брак</td>\n",
       "      <td>1</td>\n",
       "      <td>F</td>\n",
       "      <td>пенсионер</td>\n",
       "      <td>0</td>\n",
       "      <td>158616.077870</td>\n",
       "      <td>сыграть свадьбу</td>\n",
       "    </tr>\n",
       "    <tr>\n",
       "      <th>5</th>\n",
       "      <td>0</td>\n",
       "      <td>-926.185831</td>\n",
       "      <td>27</td>\n",
       "      <td>высшее</td>\n",
       "      <td>0</td>\n",
       "      <td>гражданский брак</td>\n",
       "      <td>1</td>\n",
       "      <td>M</td>\n",
       "      <td>компаньон</td>\n",
       "      <td>0</td>\n",
       "      <td>255763.565419</td>\n",
       "      <td>покупка жилья</td>\n",
       "    </tr>\n",
       "    <tr>\n",
       "      <th>6</th>\n",
       "      <td>0</td>\n",
       "      <td>-2879.202052</td>\n",
       "      <td>43</td>\n",
       "      <td>высшее</td>\n",
       "      <td>0</td>\n",
       "      <td>женат / замужем</td>\n",
       "      <td>0</td>\n",
       "      <td>F</td>\n",
       "      <td>компаньон</td>\n",
       "      <td>0</td>\n",
       "      <td>240525.971920</td>\n",
       "      <td>операции с жильем</td>\n",
       "    </tr>\n",
       "    <tr>\n",
       "      <th>7</th>\n",
       "      <td>0</td>\n",
       "      <td>-152.779569</td>\n",
       "      <td>50</td>\n",
       "      <td>СРЕДНЕЕ</td>\n",
       "      <td>1</td>\n",
       "      <td>женат / замужем</td>\n",
       "      <td>0</td>\n",
       "      <td>M</td>\n",
       "      <td>сотрудник</td>\n",
       "      <td>0</td>\n",
       "      <td>135823.934197</td>\n",
       "      <td>образование</td>\n",
       "    </tr>\n",
       "    <tr>\n",
       "      <th>8</th>\n",
       "      <td>2</td>\n",
       "      <td>-6929.865299</td>\n",
       "      <td>35</td>\n",
       "      <td>ВЫСШЕЕ</td>\n",
       "      <td>0</td>\n",
       "      <td>гражданский брак</td>\n",
       "      <td>1</td>\n",
       "      <td>F</td>\n",
       "      <td>сотрудник</td>\n",
       "      <td>0</td>\n",
       "      <td>95856.832424</td>\n",
       "      <td>на проведение свадьбы</td>\n",
       "    </tr>\n",
       "    <tr>\n",
       "      <th>9</th>\n",
       "      <td>0</td>\n",
       "      <td>-2188.756445</td>\n",
       "      <td>41</td>\n",
       "      <td>среднее</td>\n",
       "      <td>1</td>\n",
       "      <td>женат / замужем</td>\n",
       "      <td>0</td>\n",
       "      <td>M</td>\n",
       "      <td>сотрудник</td>\n",
       "      <td>0</td>\n",
       "      <td>144425.938277</td>\n",
       "      <td>покупка жилья для семьи</td>\n",
       "    </tr>\n",
       "    <tr>\n",
       "      <th>10</th>\n",
       "      <td>2</td>\n",
       "      <td>-4171.483647</td>\n",
       "      <td>36</td>\n",
       "      <td>высшее</td>\n",
       "      <td>0</td>\n",
       "      <td>женат / замужем</td>\n",
       "      <td>0</td>\n",
       "      <td>M</td>\n",
       "      <td>компаньон</td>\n",
       "      <td>0</td>\n",
       "      <td>113943.491460</td>\n",
       "      <td>покупка недвижимости</td>\n",
       "    </tr>\n",
       "    <tr>\n",
       "      <th>11</th>\n",
       "      <td>0</td>\n",
       "      <td>-792.701887</td>\n",
       "      <td>40</td>\n",
       "      <td>среднее</td>\n",
       "      <td>1</td>\n",
       "      <td>женат / замужем</td>\n",
       "      <td>0</td>\n",
       "      <td>F</td>\n",
       "      <td>сотрудник</td>\n",
       "      <td>0</td>\n",
       "      <td>77069.234271</td>\n",
       "      <td>покупка коммерческой недвижимости</td>\n",
       "    </tr>\n",
       "    <tr>\n",
       "      <th>12</th>\n",
       "      <td>0</td>\n",
       "      <td>NaN</td>\n",
       "      <td>65</td>\n",
       "      <td>среднее</td>\n",
       "      <td>1</td>\n",
       "      <td>гражданский брак</td>\n",
       "      <td>1</td>\n",
       "      <td>M</td>\n",
       "      <td>пенсионер</td>\n",
       "      <td>0</td>\n",
       "      <td>NaN</td>\n",
       "      <td>сыграть свадьбу</td>\n",
       "    </tr>\n",
       "    <tr>\n",
       "      <th>13</th>\n",
       "      <td>0</td>\n",
       "      <td>-1846.641941</td>\n",
       "      <td>54</td>\n",
       "      <td>неоконченное высшее</td>\n",
       "      <td>2</td>\n",
       "      <td>женат / замужем</td>\n",
       "      <td>0</td>\n",
       "      <td>F</td>\n",
       "      <td>сотрудник</td>\n",
       "      <td>0</td>\n",
       "      <td>130458.228857</td>\n",
       "      <td>приобретение автомобиля</td>\n",
       "    </tr>\n",
       "    <tr>\n",
       "      <th>14</th>\n",
       "      <td>0</td>\n",
       "      <td>-1844.956182</td>\n",
       "      <td>56</td>\n",
       "      <td>высшее</td>\n",
       "      <td>0</td>\n",
       "      <td>гражданский брак</td>\n",
       "      <td>1</td>\n",
       "      <td>F</td>\n",
       "      <td>компаньон</td>\n",
       "      <td>1</td>\n",
       "      <td>165127.911772</td>\n",
       "      <td>покупка жилой недвижимости</td>\n",
       "    </tr>\n",
       "    <tr>\n",
       "      <th>15</th>\n",
       "      <td>1</td>\n",
       "      <td>-972.364419</td>\n",
       "      <td>26</td>\n",
       "      <td>среднее</td>\n",
       "      <td>1</td>\n",
       "      <td>женат / замужем</td>\n",
       "      <td>0</td>\n",
       "      <td>F</td>\n",
       "      <td>сотрудник</td>\n",
       "      <td>0</td>\n",
       "      <td>116820.904450</td>\n",
       "      <td>строительство собственной недвижимости</td>\n",
       "    </tr>\n",
       "    <tr>\n",
       "      <th>16</th>\n",
       "      <td>0</td>\n",
       "      <td>-1719.934226</td>\n",
       "      <td>35</td>\n",
       "      <td>среднее</td>\n",
       "      <td>1</td>\n",
       "      <td>женат / замужем</td>\n",
       "      <td>0</td>\n",
       "      <td>F</td>\n",
       "      <td>сотрудник</td>\n",
       "      <td>0</td>\n",
       "      <td>289202.704229</td>\n",
       "      <td>недвижимость</td>\n",
       "    </tr>\n",
       "    <tr>\n",
       "      <th>17</th>\n",
       "      <td>0</td>\n",
       "      <td>-2369.999720</td>\n",
       "      <td>33</td>\n",
       "      <td>высшее</td>\n",
       "      <td>0</td>\n",
       "      <td>гражданский брак</td>\n",
       "      <td>1</td>\n",
       "      <td>M</td>\n",
       "      <td>сотрудник</td>\n",
       "      <td>0</td>\n",
       "      <td>90410.586745</td>\n",
       "      <td>строительство недвижимости</td>\n",
       "    </tr>\n",
       "    <tr>\n",
       "      <th>18</th>\n",
       "      <td>0</td>\n",
       "      <td>400281.136913</td>\n",
       "      <td>53</td>\n",
       "      <td>среднее</td>\n",
       "      <td>1</td>\n",
       "      <td>вдовец / вдова</td>\n",
       "      <td>2</td>\n",
       "      <td>F</td>\n",
       "      <td>пенсионер</td>\n",
       "      <td>0</td>\n",
       "      <td>56823.777243</td>\n",
       "      <td>на покупку подержанного автомобиля</td>\n",
       "    </tr>\n",
       "    <tr>\n",
       "      <th>19</th>\n",
       "      <td>0</td>\n",
       "      <td>-10038.818549</td>\n",
       "      <td>48</td>\n",
       "      <td>СРЕДНЕЕ</td>\n",
       "      <td>1</td>\n",
       "      <td>в разводе</td>\n",
       "      <td>3</td>\n",
       "      <td>F</td>\n",
       "      <td>сотрудник</td>\n",
       "      <td>0</td>\n",
       "      <td>242831.107982</td>\n",
       "      <td>на покупку своего автомобиля</td>\n",
       "    </tr>\n",
       "  </tbody>\n",
       "</table>\n",
       "</div>"
      ],
      "text/plain": [
       "    children  days_employed  dob_years            education  education_id  \\\n",
       "0          1   -8437.673028         42               высшее             0   \n",
       "1          1   -4024.803754         36              среднее             1   \n",
       "2          0   -5623.422610         33              Среднее             1   \n",
       "3          3   -4124.747207         32              среднее             1   \n",
       "4          0  340266.072047         53              среднее             1   \n",
       "5          0    -926.185831         27               высшее             0   \n",
       "6          0   -2879.202052         43               высшее             0   \n",
       "7          0    -152.779569         50              СРЕДНЕЕ             1   \n",
       "8          2   -6929.865299         35               ВЫСШЕЕ             0   \n",
       "9          0   -2188.756445         41              среднее             1   \n",
       "10         2   -4171.483647         36               высшее             0   \n",
       "11         0    -792.701887         40              среднее             1   \n",
       "12         0            NaN         65              среднее             1   \n",
       "13         0   -1846.641941         54  неоконченное высшее             2   \n",
       "14         0   -1844.956182         56               высшее             0   \n",
       "15         1    -972.364419         26              среднее             1   \n",
       "16         0   -1719.934226         35              среднее             1   \n",
       "17         0   -2369.999720         33               высшее             0   \n",
       "18         0  400281.136913         53              среднее             1   \n",
       "19         0  -10038.818549         48              СРЕДНЕЕ             1   \n",
       "\n",
       "       family_status  family_status_id gender income_type  debt  \\\n",
       "0    женат / замужем                 0      F   сотрудник     0   \n",
       "1    женат / замужем                 0      F   сотрудник     0   \n",
       "2    женат / замужем                 0      M   сотрудник     0   \n",
       "3    женат / замужем                 0      M   сотрудник     0   \n",
       "4   гражданский брак                 1      F   пенсионер     0   \n",
       "5   гражданский брак                 1      M   компаньон     0   \n",
       "6    женат / замужем                 0      F   компаньон     0   \n",
       "7    женат / замужем                 0      M   сотрудник     0   \n",
       "8   гражданский брак                 1      F   сотрудник     0   \n",
       "9    женат / замужем                 0      M   сотрудник     0   \n",
       "10   женат / замужем                 0      M   компаньон     0   \n",
       "11   женат / замужем                 0      F   сотрудник     0   \n",
       "12  гражданский брак                 1      M   пенсионер     0   \n",
       "13   женат / замужем                 0      F   сотрудник     0   \n",
       "14  гражданский брак                 1      F   компаньон     1   \n",
       "15   женат / замужем                 0      F   сотрудник     0   \n",
       "16   женат / замужем                 0      F   сотрудник     0   \n",
       "17  гражданский брак                 1      M   сотрудник     0   \n",
       "18    вдовец / вдова                 2      F   пенсионер     0   \n",
       "19         в разводе                 3      F   сотрудник     0   \n",
       "\n",
       "     total_income                                 purpose  \n",
       "0   253875.639453                           покупка жилья  \n",
       "1   112080.014102                 приобретение автомобиля  \n",
       "2   145885.952297                           покупка жилья  \n",
       "3   267628.550329              дополнительное образование  \n",
       "4   158616.077870                         сыграть свадьбу  \n",
       "5   255763.565419                           покупка жилья  \n",
       "6   240525.971920                       операции с жильем  \n",
       "7   135823.934197                             образование  \n",
       "8    95856.832424                   на проведение свадьбы  \n",
       "9   144425.938277                 покупка жилья для семьи  \n",
       "10  113943.491460                    покупка недвижимости  \n",
       "11   77069.234271       покупка коммерческой недвижимости  \n",
       "12            NaN                         сыграть свадьбу  \n",
       "13  130458.228857                 приобретение автомобиля  \n",
       "14  165127.911772              покупка жилой недвижимости  \n",
       "15  116820.904450  строительство собственной недвижимости  \n",
       "16  289202.704229                            недвижимость  \n",
       "17   90410.586745              строительство недвижимости  \n",
       "18   56823.777243      на покупку подержанного автомобиля  \n",
       "19  242831.107982            на покупку своего автомобиля  "
      ]
     },
     "execution_count": 2,
     "metadata": {},
     "output_type": "execute_result"
    }
   ],
   "source": [
    "data.head(20)"
   ]
  },
  {
   "cell_type": "markdown",
   "id": "6dbdfbf4",
   "metadata": {
    "deletable": false,
    "editable": false,
    "id": "1c12e233"
   },
   "source": [
    "**Задание 3. Выведите основную информацию о датафрейме с помощью метода `info()`.**"
   ]
  },
  {
   "cell_type": "code",
   "execution_count": 3,
   "id": "a749b494",
   "metadata": {
    "deletable": false,
    "id": "2b757bca",
    "outputId": "15376089-8dad-46c9-b520-c05248d43158"
   },
   "outputs": [
    {
     "name": "stdout",
     "output_type": "stream",
     "text": [
      "<class 'pandas.core.frame.DataFrame'>\n",
      "RangeIndex: 21525 entries, 0 to 21524\n",
      "Data columns (total 12 columns):\n",
      " #   Column            Non-Null Count  Dtype  \n",
      "---  ------            --------------  -----  \n",
      " 0   children          21525 non-null  int64  \n",
      " 1   days_employed     19351 non-null  float64\n",
      " 2   dob_years         21525 non-null  int64  \n",
      " 3   education         21525 non-null  object \n",
      " 4   education_id      21525 non-null  int64  \n",
      " 5   family_status     21525 non-null  object \n",
      " 6   family_status_id  21525 non-null  int64  \n",
      " 7   gender            21525 non-null  object \n",
      " 8   income_type       21525 non-null  object \n",
      " 9   debt              21525 non-null  int64  \n",
      " 10  total_income      19351 non-null  float64\n",
      " 11  purpose           21525 non-null  object \n",
      "dtypes: float64(2), int64(5), object(5)\n",
      "memory usage: 2.0+ MB\n"
     ]
    }
   ],
   "source": [
    "data.info()"
   ]
  },
  {
   "cell_type": "markdown",
   "id": "f7bf5281",
   "metadata": {
    "deletable": false,
    "editable": false,
    "id": "333ec665"
   },
   "source": [
    "## Предобработка данных"
   ]
  },
  {
   "cell_type": "markdown",
   "id": "7bf26a60",
   "metadata": {
    "deletable": false,
    "editable": false,
    "id": "02d92d53"
   },
   "source": [
    "### Удаление пропусков"
   ]
  },
  {
   "cell_type": "markdown",
   "id": "a92c4e24",
   "metadata": {
    "deletable": false,
    "editable": false,
    "id": "cd84967c"
   },
   "source": [
    "**Задание 4. Выведите количество пропущенных значений для каждого столбца. Используйте комбинацию двух методов.**"
   ]
  },
  {
   "cell_type": "code",
   "execution_count": 4,
   "id": "80cc7ea0",
   "metadata": {
    "deletable": false,
    "id": "7f9b2309",
    "outputId": "81f4d817-781c-465c-ed15-91ce4446810d"
   },
   "outputs": [
    {
     "data": {
      "text/plain": [
       "children               0\n",
       "days_employed       2174\n",
       "dob_years              0\n",
       "education              0\n",
       "education_id           0\n",
       "family_status          0\n",
       "family_status_id       0\n",
       "gender                 0\n",
       "income_type            0\n",
       "debt                   0\n",
       "total_income        2174\n",
       "purpose                0\n",
       "dtype: int64"
      ]
     },
     "execution_count": 4,
     "metadata": {},
     "output_type": "execute_result"
    }
   ],
   "source": [
    "data.isna().sum()"
   ]
  },
  {
   "cell_type": "markdown",
   "id": "45557244",
   "metadata": {
    "deletable": false,
    "editable": false,
    "id": "db86e27b"
   },
   "source": [
    "**Задание 5. В двух столбцах есть пропущенные значения. Один из них — `days_employed`. Пропуски в этом столбце вы обработаете на следующем этапе. Другой столбец с пропущенными значениями — `total_income` — хранит данные о доходах. На сумму дохода сильнее всего влияет тип занятости, поэтому заполнить пропуски в этом столбце нужно медианным значением по каждому типу из столбца `income_type`. Например, у человека с типом занятости `сотрудник` пропуск в столбце `total_income` должен быть заполнен медианным доходом среди всех записей с тем же типом.**"
   ]
  },
  {
   "cell_type": "code",
   "execution_count": 5,
   "id": "fd000334",
   "metadata": {
    "deletable": false,
    "id": "42006a93"
   },
   "outputs": [],
   "source": [
    "for t in data['income_type'].unique():\n",
    "    data.loc[(data['income_type'] == t) & (data['total_income'].isna()), 'total_income'] = \\\n",
    "    data.loc[(data['income_type'] == t), 'total_income'].median()"
   ]
  },
  {
   "cell_type": "markdown",
   "id": "57daac69",
   "metadata": {
    "deletable": false,
    "editable": false,
    "id": "89da5ece"
   },
   "source": [
    "### Обработка аномальных значений"
   ]
  },
  {
   "cell_type": "markdown",
   "id": "1631a56f",
   "metadata": {
    "deletable": false,
    "editable": false,
    "id": "57964554"
   },
   "source": [
    "**Задание 6. В данных могут встречаться артефакты (аномалии) — значения, которые не отражают действительность и появились по какой-то ошибке. таким артефактом будет отрицательное количество дней трудового стажа в столбце `days_employed`. Для реальных данных это нормально. Обработайте значения в этом столбце: замените все отрицательные значения положительными с помощью метода `abs()`.**"
   ]
  },
  {
   "cell_type": "code",
   "execution_count": 6,
   "id": "3053e8b3",
   "metadata": {
    "deletable": false,
    "id": "f6f055bf"
   },
   "outputs": [],
   "source": [
    "data['days_employed'] = data['days_employed'].abs()"
   ]
  },
  {
   "cell_type": "markdown",
   "id": "48bb3aaa",
   "metadata": {
    "deletable": false,
    "editable": false,
    "id": "6107dd2f"
   },
   "source": [
    "**Задание 7. Для каждого типа занятости выведите медианное значение трудового стажа `days_employed` в днях.**"
   ]
  },
  {
   "cell_type": "code",
   "execution_count": 7,
   "id": "922716dd",
   "metadata": {
    "deletable": false,
    "id": "85a5faf6",
    "outputId": "801ef80e-522b-4668-f34e-565af7432bcf"
   },
   "outputs": [
    {
     "data": {
      "text/plain": [
       "income_type\n",
       "безработный        366413.652744\n",
       "в декрете            3296.759962\n",
       "госслужащий          2689.368353\n",
       "компаньон            1547.382223\n",
       "пенсионер          365213.306266\n",
       "предприниматель       520.848083\n",
       "сотрудник            1574.202821\n",
       "студент               578.751554\n",
       "Name: days_employed, dtype: float64"
      ]
     },
     "execution_count": 7,
     "metadata": {},
     "output_type": "execute_result"
    }
   ],
   "source": [
    "data.groupby('income_type')['days_employed'].agg('median')"
   ]
  },
  {
   "cell_type": "markdown",
   "id": "96f4f936",
   "metadata": {
    "deletable": false,
    "editable": false,
    "id": "38d1a030"
   },
   "source": [
    "У двух типов (безработные и пенсионеры) получатся аномально большие значения. Исправить такие значения сложно, поэтому оставьте их как есть. Тем более этот столбец не понадобится вам для исследования."
   ]
  },
  {
   "cell_type": "markdown",
   "id": "fa029014",
   "metadata": {
    "deletable": false,
    "editable": false,
    "id": "d8a9f147"
   },
   "source": [
    "**Задание 8. Выведите перечень уникальных значений столбца `children`.**"
   ]
  },
  {
   "cell_type": "code",
   "execution_count": 8,
   "id": "f01003eb",
   "metadata": {
    "deletable": false,
    "id": "ef5056eb",
    "outputId": "6975b15c-7f95-4697-d16d-a0c79b657b03"
   },
   "outputs": [
    {
     "data": {
      "text/plain": [
       "array([ 1,  0,  3,  2, -1,  4, 20,  5], dtype=int64)"
      ]
     },
     "execution_count": 8,
     "metadata": {},
     "output_type": "execute_result"
    }
   ],
   "source": [
    "data['children'].unique()"
   ]
  },
  {
   "cell_type": "markdown",
   "id": "0a10ba0c",
   "metadata": {
    "deletable": false,
    "editable": false,
    "id": "40b9ebf2"
   },
   "source": [
    "**Задание 9. В столбце `children` есть два аномальных значения. Удалите строки, в которых встречаются такие аномальные значения из датафрейма `data`.**"
   ]
  },
  {
   "cell_type": "code",
   "execution_count": 9,
   "id": "dd83ee01",
   "metadata": {
    "deletable": false,
    "id": "3ff9801d"
   },
   "outputs": [],
   "source": [
    "data = data[(data['children'] != -1) & (data['children'] != 20)]"
   ]
  },
  {
   "cell_type": "markdown",
   "id": "b205b7a6",
   "metadata": {
    "deletable": false,
    "editable": false,
    "id": "bbc4d0ce"
   },
   "source": [
    "**Задание 10. Ещё раз выведите перечень уникальных значений столбца `children`, чтобы убедиться, что артефакты удалены.**"
   ]
  },
  {
   "cell_type": "code",
   "execution_count": 10,
   "id": "69b05660",
   "metadata": {
    "deletable": false,
    "id": "ad4fa8b7",
    "outputId": "b2097101-d49d-44d9-901b-32a65c9463d1"
   },
   "outputs": [
    {
     "data": {
      "text/plain": [
       "array([1, 0, 3, 2, 4, 5], dtype=int64)"
      ]
     },
     "execution_count": 10,
     "metadata": {},
     "output_type": "execute_result"
    }
   ],
   "source": [
    "data['children'].unique()"
   ]
  },
  {
   "cell_type": "markdown",
   "id": "e96f263a",
   "metadata": {
    "deletable": false,
    "editable": false,
    "id": "75440b63"
   },
   "source": [
    "### Удаление пропусков (продолжение)"
   ]
  },
  {
   "cell_type": "markdown",
   "id": "14a5c579",
   "metadata": {
    "deletable": false,
    "editable": false,
    "id": "f4ea573f"
   },
   "source": [
    "**Задание 11. Заполните пропуски в столбце `days_employed` медианными значениями по каждого типа занятости `income_type`.**"
   ]
  },
  {
   "cell_type": "code",
   "execution_count": 11,
   "id": "f73af758",
   "metadata": {
    "deletable": false,
    "id": "af6b1a7e"
   },
   "outputs": [],
   "source": [
    "for t in data['income_type'].unique():\n",
    "    data.loc[(data['income_type'] == t) & (data['days_employed'].isna()), 'days_employed'] = \\\n",
    "    data.loc[(data['income_type'] == t), 'days_employed'].median()"
   ]
  },
  {
   "cell_type": "markdown",
   "id": "95ea02f8",
   "metadata": {
    "deletable": false,
    "editable": false,
    "id": "2753f40d"
   },
   "source": [
    "**Задание 12. Убедитесь, что все пропуски заполнены. Проверьте себя и ещё раз выведите количество пропущенных значений для каждого столбца с помощью двух методов.**"
   ]
  },
  {
   "cell_type": "code",
   "execution_count": 12,
   "id": "f530366a",
   "metadata": {
    "deletable": false,
    "id": "55f78bc2",
    "outputId": "8da1e4e1-358e-4e87-98c9-f261bce0a7b2"
   },
   "outputs": [
    {
     "data": {
      "text/plain": [
       "children            0\n",
       "days_employed       0\n",
       "dob_years           0\n",
       "education           0\n",
       "education_id        0\n",
       "family_status       0\n",
       "family_status_id    0\n",
       "gender              0\n",
       "income_type         0\n",
       "debt                0\n",
       "total_income        0\n",
       "purpose             0\n",
       "dtype: int64"
      ]
     },
     "execution_count": 12,
     "metadata": {},
     "output_type": "execute_result"
    }
   ],
   "source": [
    "data.isna().sum()"
   ]
  },
  {
   "cell_type": "markdown",
   "id": "c29be81e",
   "metadata": {
    "deletable": false,
    "editable": false,
    "id": "ddc81e43"
   },
   "source": [
    "### Изменение типов данных"
   ]
  },
  {
   "cell_type": "markdown",
   "id": "f8c40d3a",
   "metadata": {
    "deletable": false,
    "editable": false,
    "id": "42d19d24"
   },
   "source": [
    "**Задание 13. Замените вещественный тип данных в столбце `total_income` на целочисленный с помощью метода `astype()`.**"
   ]
  },
  {
   "cell_type": "code",
   "execution_count": 13,
   "id": "0866868b",
   "metadata": {
    "deletable": false,
    "id": "920b65ad"
   },
   "outputs": [],
   "source": [
    "data['total_income'] = data['total_income'].astype(int)"
   ]
  },
  {
   "cell_type": "markdown",
   "id": "753edb69",
   "metadata": {
    "deletable": false,
    "editable": false,
    "id": "80c420ba"
   },
   "source": [
    "### Обработка дубликатов"
   ]
  },
  {
   "cell_type": "markdown",
   "id": "71845103",
   "metadata": {
    "deletable": false,
    "editable": false
   },
   "source": [
    "**Задание 14. Обработайте неявные дубликаты в столбце `education`. В этом столбце есть одни и те же значения, но записанные по-разному: с использованием заглавных и строчных букв. Приведите их к нижнему регистру. Проверьте остальные столбцы.**"
   ]
  },
  {
   "cell_type": "code",
   "execution_count": 14,
   "id": "f10cfd8b",
   "metadata": {
    "deletable": false
   },
   "outputs": [],
   "source": [
    "data['education'] = data['education'].str.lower()"
   ]
  },
  {
   "cell_type": "markdown",
   "id": "5590dac3",
   "metadata": {
    "deletable": false,
    "editable": false,
    "id": "dc587695"
   },
   "source": [
    "**Задание 15. Выведите на экран количество строк-дубликатов в данных. Если такие строки присутствуют, удалите их.**"
   ]
  },
  {
   "cell_type": "code",
   "execution_count": 15,
   "id": "0a751dc3",
   "metadata": {
    "deletable": false,
    "id": "3ee445e4",
    "outputId": "9684deba-1934-42d1-99e1-cda61740f822"
   },
   "outputs": [
    {
     "data": {
      "text/plain": [
       "71"
      ]
     },
     "execution_count": 15,
     "metadata": {},
     "output_type": "execute_result"
    }
   ],
   "source": [
    "data.duplicated().sum()"
   ]
  },
  {
   "cell_type": "code",
   "execution_count": 16,
   "id": "996168a4",
   "metadata": {
    "deletable": false,
    "id": "8575fe05"
   },
   "outputs": [],
   "source": [
    "data = data.drop_duplicates()"
   ]
  },
  {
   "cell_type": "markdown",
   "id": "59809513",
   "metadata": {
    "deletable": false,
    "editable": false,
    "id": "9904cf55"
   },
   "source": [
    "### Категоризация данных"
   ]
  },
  {
   "cell_type": "markdown",
   "id": "7aa888ef",
   "metadata": {
    "deletable": false,
    "editable": false,
    "id": "72fcc8a2"
   },
   "source": [
    "**Задание 16. На основании диапазонов, указанных ниже, создайте в датафрейме `data` столбец `total_income_category` с категориями:**\n",
    "\n",
    "- 0–30000 — `'E'`;\n",
    "- 30001–50000 — `'D'`;\n",
    "- 50001–200000 — `'C'`;\n",
    "- 200001–1000000 — `'B'`;\n",
    "- 1000001 и выше — `'A'`.\n",
    "\n",
    "\n",
    "**Например, кредитополучателю с доходом 25000 нужно назначить категорию `'E'`, а клиенту, получающему 235000, — `'B'`. Используйте собственную функцию с именем `categorize_income()` и метод `apply()`.**"
   ]
  },
  {
   "cell_type": "code",
   "execution_count": 17,
   "id": "9e3b2ab9",
   "metadata": {
    "deletable": false,
    "id": "e1771346"
   },
   "outputs": [],
   "source": [
    "def categorize_income(income):\n",
    "    try:\n",
    "        if 0 <= income <= 30000:\n",
    "            return 'E'\n",
    "        elif 30001 <= income <= 50000:\n",
    "            return 'D'\n",
    "        elif 50001 <= income <= 200000:\n",
    "            return 'C'\n",
    "        elif 200001 <= income <= 1000000:\n",
    "            return 'B'\n",
    "        elif income >= 1000001:\n",
    "            return 'A'\n",
    "    except:\n",
    "        pass"
   ]
  },
  {
   "cell_type": "code",
   "execution_count": 18,
   "id": "edf81637",
   "metadata": {
    "deletable": false,
    "id": "d5f3586d"
   },
   "outputs": [],
   "source": [
    "data['total_income_category'] = data['total_income'].apply(categorize_income)"
   ]
  },
  {
   "cell_type": "markdown",
   "id": "7a692812",
   "metadata": {
    "deletable": false,
    "editable": false,
    "id": "dde49b5c"
   },
   "source": [
    "**Задание 17. Выведите на экран перечень уникальных целей взятия кредита из столбца `purpose`.**"
   ]
  },
  {
   "cell_type": "code",
   "execution_count": 19,
   "id": "f0467529",
   "metadata": {
    "deletable": false,
    "id": "f67ce9b3",
    "outputId": "673c12d9-7d7e-4ae0-9812-c622c89dd244"
   },
   "outputs": [
    {
     "data": {
      "text/plain": [
       "array(['покупка жилья', 'приобретение автомобиля',\n",
       "       'дополнительное образование', 'сыграть свадьбу',\n",
       "       'операции с жильем', 'образование', 'на проведение свадьбы',\n",
       "       'покупка жилья для семьи', 'покупка недвижимости',\n",
       "       'покупка коммерческой недвижимости', 'покупка жилой недвижимости',\n",
       "       'строительство собственной недвижимости', 'недвижимость',\n",
       "       'строительство недвижимости', 'на покупку подержанного автомобиля',\n",
       "       'на покупку своего автомобиля',\n",
       "       'операции с коммерческой недвижимостью',\n",
       "       'строительство жилой недвижимости', 'жилье',\n",
       "       'операции со своей недвижимостью', 'автомобили',\n",
       "       'заняться образованием', 'сделка с подержанным автомобилем',\n",
       "       'получение образования', 'автомобиль', 'свадьба',\n",
       "       'получение дополнительного образования', 'покупка своего жилья',\n",
       "       'операции с недвижимостью', 'получение высшего образования',\n",
       "       'свой автомобиль', 'сделка с автомобилем',\n",
       "       'профильное образование', 'высшее образование',\n",
       "       'покупка жилья для сдачи', 'на покупку автомобиля', 'ремонт жилью',\n",
       "       'заняться высшим образованием'], dtype=object)"
      ]
     },
     "execution_count": 19,
     "metadata": {},
     "output_type": "execute_result"
    }
   ],
   "source": [
    "data['purpose'].unique()"
   ]
  },
  {
   "cell_type": "markdown",
   "id": "2cf2551f",
   "metadata": {
    "deletable": false,
    "editable": false,
    "id": "85d0aef0"
   },
   "source": [
    "**Задание 18. Создайте функцию, которая на основании данных из столбца `purpose` сформирует новый столбец `purpose_category`, в который войдут следующие категории:**\n",
    "\n",
    "- `'операции с автомобилем'`,\n",
    "- `'операции с недвижимостью'`,\n",
    "- `'проведение свадьбы'`,\n",
    "- `'получение образования'`.\n",
    "\n",
    "**Например, если в столбце `purpose` находится подстрока `'на покупку автомобиля'`, то в столбце `purpose_category` должна появиться строка `'операции с автомобилем'`.**\n",
    "\n",
    "**Используйте собственную функцию с именем `categorize_purpose()` и метод `apply()`. Изучите данные в столбце `purpose` и определите, какие подстроки помогут вам правильно определить категорию.**"
   ]
  },
  {
   "cell_type": "code",
   "execution_count": 20,
   "id": "dca210c6",
   "metadata": {
    "deletable": false,
    "id": "e149fab4"
   },
   "outputs": [],
   "source": [
    "def categorize_purpose(row):\n",
    "    try:\n",
    "        if 'автом' in row:\n",
    "            return 'операции с автомобилем'\n",
    "        elif 'жил' in row or 'недвиж' in row:\n",
    "            return 'операции с недвижимостью'\n",
    "        elif 'свад' in row:\n",
    "            return 'проведение свадьбы'\n",
    "        elif 'образов' in row:\n",
    "            return 'получение образования'\n",
    "    except:\n",
    "        return 'нет категории'"
   ]
  },
  {
   "cell_type": "code",
   "execution_count": 21,
   "id": "84fd9b1e",
   "metadata": {
    "deletable": false,
    "id": "bf36e69b"
   },
   "outputs": [],
   "source": [
    "data['purpose_category'] = data['purpose'].apply(categorize_purpose)"
   ]
  },
  {
   "cell_type": "markdown",
   "id": "5fff498d",
   "metadata": {
    "deletable": false,
    "editable": false,
    "id": "09b242bf"
   },
   "source": [
    "### Шаг 3. Исследуйте данные и ответьте на вопросы"
   ]
  },
  {
   "cell_type": "markdown",
   "id": "a16bf23f",
   "metadata": {
    "deletable": false,
    "editable": false,
    "id": "c5d66278"
   },
   "source": [
    "#### 3.1 Есть ли зависимость между количеством детей и возвратом кредита в срок?"
   ]
  },
  {
   "cell_type": "markdown",
   "id": "c7f0bf7a",
   "metadata": {
    "deletable": false,
    "id": "2cacfc4a"
   },
   "source": [
    "Для анализа зависимости нам понадобятся 2 столбца: children, debt.\n",
    "Аномальные данные столбца children мы уже обработали.\n",
    "Необходимо проверить содержимое столбца debt."
   ]
  },
  {
   "cell_type": "code",
   "execution_count": 22,
   "id": "b584c6bc",
   "metadata": {},
   "outputs": [
    {
     "data": {
      "text/plain": [
       "array([0, 1], dtype=int64)"
      ]
     },
     "execution_count": 22,
     "metadata": {},
     "output_type": "execute_result"
    }
   ],
   "source": [
    "#Проверим уникальные значения столбца.\n",
    "data['debt'].unique()"
   ]
  },
  {
   "cell_type": "markdown",
   "id": "e2c98b06",
   "metadata": {},
   "source": [
    "В столбце debt присутствуют значения только 0 и 1, что говорит о корректности данных. Теперь сгруппируем данные по признаку children и просуммируем количество задолженности по каждому из признаков."
   ]
  },
  {
   "cell_type": "code",
   "execution_count": 23,
   "id": "4804b298",
   "metadata": {},
   "outputs": [
    {
     "data": {
      "text/plain": [
       "children\n",
       "0    1063\n",
       "1     444\n",
       "2     194\n",
       "3      27\n",
       "4       4\n",
       "5       0\n",
       "Name: debt, dtype: int64"
      ]
     },
     "execution_count": 23,
     "metadata": {},
     "output_type": "execute_result"
    }
   ],
   "source": [
    "debitors_by_children = data.groupby('children')['debt'].sum()\n",
    "debitors_by_children"
   ]
  },
  {
   "cell_type": "markdown",
   "id": "9c544fa8",
   "metadata": {},
   "source": [
    "**Вывод 1: из полученной таблицы видно, что с увеличением количества детей в семье, количество задолженностей сокращается. Однако на этот вывод нельзя положиться.  \n",
    "С демографической точки зрения логично, что представителей группы \"бездетные\" будет больше всего, а клиенты с семьей окажутся в меньшинстве пропорционально количеству детей в ней. Соответственно и числа должников будут больше у той группы клиентов, что широко распространена.**"
   ]
  },
  {
   "cell_type": "markdown",
   "id": "50276f9a",
   "metadata": {},
   "source": [
    "Рассмотрим относительные числа должников."
   ]
  },
  {
   "cell_type": "code",
   "execution_count": 24,
   "id": "77a13849",
   "metadata": {},
   "outputs": [
    {
     "name": "stdout",
     "output_type": "stream",
     "text": [
      "Количество детей в семье - 0, процент должников 7.54%\n",
      "Количество детей в семье - 1, процент должников 9.23%\n",
      "Количество детей в семье - 2, процент должников 9.45%\n",
      "Количество детей в семье - 3, процент должников 8.18%\n",
      "Количество детей в семье - 4, процент должников 9.76%\n",
      "Количество детей в семье - 5, процент должников 0.00%\n"
     ]
    }
   ],
   "source": [
    "#найдем общее количество клиентов сгруппированных по количеству детей в семье\n",
    "clients_by_children = data.groupby('children')['children'].count()\n",
    "\n",
    "#найдем соотношение количества должников к каждой группе клиентов\n",
    "debitors_proportion_by_children = debitors_by_children / clients_by_children\n",
    "\n",
    "#выведем полученные данные экран\n",
    "for i,v in debitors_proportion_by_children.items():\n",
    "    print(f'Количество детей в семье - {i}, процент должников {v * 100:.2f}%')"
   ]
  },
  {
   "cell_type": "markdown",
   "id": "72af3a5b",
   "metadata": {
    "deletable": false,
    "id": "3a6b99ec"
   },
   "source": [
    "**Вывод 2: среди всех групп меньше всего должников в группе бездетных клиентов и семьях с 5 детьми. Однако, количество клиентов в нашем датафрейме с 5 детьми крайне мало, чтобы по ним можно было сделать вывод о платежоспособности данной группы. Поэтому в вывод включим следующее: на основе полученных нами данных можно сказать, что зависимость между количеством детей и возвратом кредита в срок присутствует и вероятность появления задолженности меньше всего у бездетных клиентов.** "
   ]
  },
  {
   "cell_type": "markdown",
   "id": "2817b717",
   "metadata": {
    "deletable": false,
    "editable": false,
    "id": "97be82ca"
   },
   "source": [
    "#### 3.2 Есть ли зависимость между семейным положением и возвратом кредита в срок?"
   ]
  },
  {
   "cell_type": "markdown",
   "id": "bce32b2e",
   "metadata": {},
   "source": [
    "Для анализа нампонадобятся три столбца: family_status, debt, gender. \n",
    "  \n",
    "Мы можем углубить анализ, рассмотрев должников в разрезе сразу двух факторов: пола клиента и их семейного статуса. Поскольку положение мужчины и женщины в обществах одной и другой страны может отличаться, что объясняется социокультурным укладом страны.  \n",
    "\n",
    "Начнём с проверки данных. Для начала проверим 'family_status'"
   ]
  },
  {
   "cell_type": "code",
   "execution_count": 25,
   "id": "4604284a",
   "metadata": {},
   "outputs": [
    {
     "data": {
      "text/plain": [
       "array(['женат / замужем', 'гражданский брак', 'вдовец / вдова',\n",
       "       'в разводе', 'Не женат / не замужем'], dtype=object)"
      ]
     },
     "execution_count": 25,
     "metadata": {},
     "output_type": "execute_result"
    }
   ],
   "source": [
    "#найдем уникальные значения столбца 'family_status'\n",
    "data['family_status'].unique()"
   ]
  },
  {
   "cell_type": "markdown",
   "id": "a6b9b6e2",
   "metadata": {},
   "source": [
    "Данные 'family_status' корректны. Проверим значения столбца 'gender'."
   ]
  },
  {
   "cell_type": "code",
   "execution_count": 26,
   "id": "ee0e6939",
   "metadata": {},
   "outputs": [
    {
     "data": {
      "text/plain": [
       "array(['F', 'M', 'XNA'], dtype=object)"
      ]
     },
     "execution_count": 26,
     "metadata": {},
     "output_type": "execute_result"
    }
   ],
   "source": [
    "#найдем уникальные значения столбца 'gender'\n",
    "data['gender'].unique()"
   ]
  },
  {
   "cell_type": "markdown",
   "id": "d625cead",
   "metadata": {},
   "source": [
    "Среди значений столбца 'gender' присутствует значение 'XNA', что является некорректным. К сожалению данных, которые могли бы косвенно указать на пол клиента отсутствуют. В таком случае попробуем подсчитать количество таких строк и избавиться от них, если это возможно."
   ]
  },
  {
   "cell_type": "code",
   "execution_count": 27,
   "id": "24e4004c",
   "metadata": {},
   "outputs": [
    {
     "data": {
      "text/html": [
       "<div>\n",
       "<style scoped>\n",
       "    .dataframe tbody tr th:only-of-type {\n",
       "        vertical-align: middle;\n",
       "    }\n",
       "\n",
       "    .dataframe tbody tr th {\n",
       "        vertical-align: top;\n",
       "    }\n",
       "\n",
       "    .dataframe thead th {\n",
       "        text-align: right;\n",
       "    }\n",
       "</style>\n",
       "<table border=\"1\" class=\"dataframe\">\n",
       "  <thead>\n",
       "    <tr style=\"text-align: right;\">\n",
       "      <th></th>\n",
       "      <th>children</th>\n",
       "      <th>days_employed</th>\n",
       "      <th>dob_years</th>\n",
       "      <th>education</th>\n",
       "      <th>education_id</th>\n",
       "      <th>family_status</th>\n",
       "      <th>family_status_id</th>\n",
       "      <th>gender</th>\n",
       "      <th>income_type</th>\n",
       "      <th>debt</th>\n",
       "      <th>total_income</th>\n",
       "      <th>purpose</th>\n",
       "      <th>total_income_category</th>\n",
       "      <th>purpose_category</th>\n",
       "    </tr>\n",
       "  </thead>\n",
       "  <tbody>\n",
       "    <tr>\n",
       "      <th>10701</th>\n",
       "      <td>0</td>\n",
       "      <td>2358.600502</td>\n",
       "      <td>24</td>\n",
       "      <td>неоконченное высшее</td>\n",
       "      <td>2</td>\n",
       "      <td>гражданский брак</td>\n",
       "      <td>1</td>\n",
       "      <td>XNA</td>\n",
       "      <td>компаньон</td>\n",
       "      <td>0</td>\n",
       "      <td>203905</td>\n",
       "      <td>покупка недвижимости</td>\n",
       "      <td>B</td>\n",
       "      <td>операции с недвижимостью</td>\n",
       "    </tr>\n",
       "  </tbody>\n",
       "</table>\n",
       "</div>"
      ],
      "text/plain": [
       "       children  days_employed  dob_years            education  education_id  \\\n",
       "10701         0    2358.600502         24  неоконченное высшее             2   \n",
       "\n",
       "          family_status  family_status_id gender income_type  debt  \\\n",
       "10701  гражданский брак                 1    XNA   компаньон     0   \n",
       "\n",
       "       total_income               purpose total_income_category  \\\n",
       "10701        203905  покупка недвижимости                     B   \n",
       "\n",
       "               purpose_category  \n",
       "10701  операции с недвижимостью  "
      ]
     },
     "execution_count": 27,
     "metadata": {},
     "output_type": "execute_result"
    }
   ],
   "source": [
    "#выведем строки с неверными значениями\n",
    "data[data['gender'] == 'XNA']"
   ]
  },
  {
   "cell_type": "markdown",
   "id": "e1229940",
   "metadata": {},
   "source": [
    "Строк с неправильно указанным полом оказалось всего в количестве одной. Удаление такой строки не окажет значительного влияния на выводы."
   ]
  },
  {
   "cell_type": "code",
   "execution_count": 28,
   "id": "873a745d",
   "metadata": {},
   "outputs": [],
   "source": [
    "#отфильтруем датафрейм, убрав из него строку\n",
    "data = data[data['gender'] != 'XNA']"
   ]
  },
  {
   "cell_type": "markdown",
   "id": "801895e3",
   "metadata": {},
   "source": [
    "Данные корректны. Теперь посчитаем соотношение должников по семейному статусу"
   ]
  },
  {
   "cell_type": "code",
   "execution_count": 29,
   "id": "06583c58",
   "metadata": {},
   "outputs": [
    {
     "name": "stdout",
     "output_type": "stream",
     "text": [
      "Статус: Не женат / не замужем. Процент должников 9.76%\n",
      "Статус: в разводе. Процент должников 7.06%\n",
      "Статус: вдовец / вдова. Процент должников 6.62%\n",
      "Статус: гражданский брак. Процент должников 9.32%\n",
      "Статус: женат / замужем. Процент должников 7.56%\n"
     ]
    }
   ],
   "source": [
    "#разделим общее количество должников на общее количество клиентов\n",
    "debitors_proportion_by_family_status = data.groupby('family_status')['debt'].sum() / data.groupby('family_status')['family_status'].count()\n",
    "\n",
    "#выведем полученные данные экран\n",
    "for i,v in debitors_proportion_by_family_status.items():\n",
    "    print(f'Статус: {i}. Процент должников {v * 100:.2f}%')"
   ]
  },
  {
   "cell_type": "markdown",
   "id": "80b63ed5",
   "metadata": {},
   "source": [
    "**Вывод 1: меньше всего должников в трех группах: клиенты в разводе, вдовцы или вдовы, и супруги.  \n",
    "Углубимся и рассмотрим эти группы в разрезе пола должника и ответим на вопрос: равномерно ли распределны долги внутри групп по полу?**"
   ]
  },
  {
   "cell_type": "markdown",
   "id": "a6352daa",
   "metadata": {},
   "source": [
    "Для наглядности данных воспользуемся сводными таблицами для проверки должников в разрезах пола и семейного статуса."
   ]
  },
  {
   "cell_type": "code",
   "execution_count": 30,
   "id": "a916e1e8",
   "metadata": {
    "deletable": false,
    "id": "dc3f7ee8"
   },
   "outputs": [
    {
     "data": {
      "text/html": [
       "<div>\n",
       "<style scoped>\n",
       "    .dataframe tbody tr th:only-of-type {\n",
       "        vertical-align: middle;\n",
       "    }\n",
       "\n",
       "    .dataframe tbody tr th {\n",
       "        vertical-align: top;\n",
       "    }\n",
       "\n",
       "    .dataframe thead th {\n",
       "        text-align: right;\n",
       "    }\n",
       "</style>\n",
       "<table border=\"1\" class=\"dataframe\">\n",
       "  <thead>\n",
       "    <tr style=\"text-align: right;\">\n",
       "      <th>family_status</th>\n",
       "      <th>Не женат / не замужем</th>\n",
       "      <th>в разводе</th>\n",
       "      <th>вдовец / вдова</th>\n",
       "      <th>гражданский брак</th>\n",
       "      <th>женат / замужем</th>\n",
       "    </tr>\n",
       "    <tr>\n",
       "      <th>gender</th>\n",
       "      <th></th>\n",
       "      <th></th>\n",
       "      <th></th>\n",
       "      <th></th>\n",
       "      <th></th>\n",
       "    </tr>\n",
       "  </thead>\n",
       "  <tbody>\n",
       "    <tr>\n",
       "      <th>F</th>\n",
       "      <td>6.85</td>\n",
       "      <td>6.55</td>\n",
       "      <td>5.8</td>\n",
       "      <td>8.19</td>\n",
       "      <td>6.82</td>\n",
       "    </tr>\n",
       "    <tr>\n",
       "      <th>M</th>\n",
       "      <td>14.45</td>\n",
       "      <td>8.91</td>\n",
       "      <td>20.0</td>\n",
       "      <td>11.76</td>\n",
       "      <td>8.81</td>\n",
       "    </tr>\n",
       "  </tbody>\n",
       "</table>\n",
       "</div>"
      ],
      "text/plain": [
       "family_status  Не женат / не замужем  в разводе  вдовец / вдова  \\\n",
       "gender                                                            \n",
       "F                               6.85       6.55             5.8   \n",
       "M                              14.45       8.91            20.0   \n",
       "\n",
       "family_status  гражданский брак  женат / замужем  \n",
       "gender                                            \n",
       "F                          8.19             6.82  \n",
       "M                         11.76             8.81  "
      ]
     },
     "execution_count": 30,
     "metadata": {},
     "output_type": "execute_result"
    }
   ],
   "source": [
    "#найдем количество должников среди мужчин и женщин отдельно в каждой семейной группе\n",
    "pivot_debt = data.pivot_table('debt', index='gender', columns='family_status', aggfunc='sum')\n",
    "\n",
    "#найдем количество клиентов среди мужчин и женщин отдельно в каждой семейной группе\n",
    "pivot_total = data.pivot_table('debt', index='gender', columns='family_status', aggfunc='count')\n",
    "\n",
    "#выведем соотношение должников мужчин и женщин отдельно в каждой семейной группе\n",
    "round(pivot_debt / pivot_total * 100, 2)"
   ]
  },
  {
   "cell_type": "markdown",
   "id": "8a23aaf8",
   "metadata": {
    "deletable": false,
    "id": "1cef7837"
   },
   "source": [
    "**Вывод 2: долговые обязательства среди мужчин и женщины распределены неравномерно. Во всех группах большее количество должников среди мужского пола, что говорит о более высоких долговых рисках в отношении них.**"
   ]
  },
  {
   "cell_type": "markdown",
   "id": "5fcb5ac6",
   "metadata": {
    "deletable": false,
    "editable": false,
    "id": "1e8b2fca"
   },
   "source": [
    "#### 3.3 Есть ли зависимость между уровнем дохода и возвратом кредита в срок?"
   ]
  },
  {
   "cell_type": "markdown",
   "id": "45295471",
   "metadata": {},
   "source": [
    "Для анализа нам пригодятся столбцы total_income_category, debt. Данные ранее были проверены."
   ]
  },
  {
   "cell_type": "code",
   "execution_count": 31,
   "id": "9b668d3f",
   "metadata": {
    "deletable": false,
    "id": "cd7e3720"
   },
   "outputs": [
    {
     "name": "stdout",
     "output_type": "stream",
     "text": [
      "Категория дохода - A, процент должников 8.00%\n",
      "Категория дохода - B, процент должников 7.06%\n",
      "Категория дохода - C, процент должников 8.50%\n",
      "Категория дохода - D, процент должников 6.02%\n",
      "Категория дохода - E, процент должников 9.09%\n"
     ]
    },
    {
     "data": {
      "text/plain": [
       "total_income_category\n",
       "A       25\n",
       "B     5013\n",
       "C    15921\n",
       "D      349\n",
       "E       22\n",
       "Name: total_income_category, dtype: int64"
      ]
     },
     "execution_count": 31,
     "metadata": {},
     "output_type": "execute_result"
    }
   ],
   "source": [
    "#найдем количество должников по группам дохода\n",
    "debt_income_category = data.groupby('total_income_category')['debt'].sum()\n",
    "\n",
    "#найдем количество клиентов по группам дохода\n",
    "clients_income_category = data.groupby('total_income_category')['total_income_category'].count()\n",
    "\n",
    "#найде соотношение должников\n",
    "debt_income_category_prop = debt_income_category / clients_income_category\n",
    "\n",
    "#выведем полученные данные экран\n",
    "for i,v in debt_income_category_prop.items():\n",
    "    print(f'Категория дохода - {i}, процент должников {v * 100:.2f}%')\n",
    "    \n",
    "clients_income_category"
   ]
  },
  {
   "cell_type": "markdown",
   "id": "bdb11a7a",
   "metadata": {
    "deletable": false,
    "id": "e8593def"
   },
   "source": [
    "**Вывод:в категориях A и E довольно высокий процент должников, однако количество клиентов данных групп всего 20+, что является весьма небольшим количеством в выборке и выводы по задолженностям данных групп могут быть ошибочны. Их не стоит принимать во внимание.  \n",
    "Из оставшихся трех групп наименьшей задолженностью обладается группа с доходностью D.** "
   ]
  },
  {
   "cell_type": "markdown",
   "id": "83b52147",
   "metadata": {
    "deletable": false,
    "editable": false,
    "id": "99ecbd1f"
   },
   "source": [
    "#### 3.4 Как разные цели кредита влияют на его возврат в срок?"
   ]
  },
  {
   "cell_type": "markdown",
   "id": "87c6e0f7",
   "metadata": {},
   "source": [
    "Все цели кредиты мы разбили на несколько категорий и записали в колонке 'purpose_category' с которой и будем работать."
   ]
  },
  {
   "cell_type": "code",
   "execution_count": 32,
   "id": "ed268955",
   "metadata": {
    "deletable": false,
    "id": "2b687290"
   },
   "outputs": [
    {
     "name": "stdout",
     "output_type": "stream",
     "text": [
      "Категория дохода - операции с автомобилем, процент должников 9.35%\n",
      "Категория дохода - операции с недвижимостью, процент должников 7.26%\n",
      "Категория дохода - получение образования, процент должников 9.25%\n",
      "Категория дохода - проведение свадьбы, процент должников 7.91%\n"
     ]
    }
   ],
   "source": [
    "#найдем количество должников по целям кредита\n",
    "debt_purpose_category = data.groupby('purpose_category')['debt'].sum()\n",
    "\n",
    "#найдем количество клиентов по целям кредита\n",
    "clients_purpose_category = data.groupby('purpose_category')['purpose_category'].count()\n",
    "\n",
    "#найдем соотношение должников\n",
    "debt_purpose_category_prop = debt_purpose_category / clients_purpose_category\n",
    "\n",
    "#выведем полученные данные экран\n",
    "for i,v in debt_purpose_category_prop.items():\n",
    "    print(f'Категория дохода - {i}, процент должников {v * 100:.2f}%')"
   ]
  },
  {
   "cell_type": "markdown",
   "id": "414062a6",
   "metadata": {
    "deletable": false,
    "id": "b4bb2ce6"
   },
   "source": [
    "**Вывод: охотнее всего выплачивают кредит группы клиентов, чьи займы уходят на свадьбу или покупку недвижимости. БОльшие риски неоплаты несут займы на авто и образование.**"
   ]
  },
  {
   "cell_type": "markdown",
   "id": "1c15fdd4",
   "metadata": {
    "deletable": false,
    "editable": false,
    "id": "09c3ac4c"
   },
   "source": [
    "#### 3.5 Приведите возможные причины появления пропусков в исходных данных."
   ]
  },
  {
   "cell_type": "markdown",
   "id": "41fc1fc3",
   "metadata": {
    "deletable": false,
    "id": "9da2ceda"
   },
   "source": [
    "*Ответ: причины искажения данных могут быть следствием человеческого фактора или технического. Например, отрицательные числа в большом количестве могут говорить о том, что они записываются так программой, поскольку вероятность того что именно человек будет вносить данные со знаком минус мала.   \n",
    "В том время как разный регистр в написании может быть вполне допущен человеком при внесении данных, хотя и не исключает версии ошибки с технической стороны.  \n",
    "Пропуски значений также могут быть следствием того, что сотрудник при занесении данных не знал необходимых сведений или клиент намеренно не заполнил поле ввода, а может это вовсе БД, которые не поддерживает указанный клиентом тип данных и не сохранил результат?*"
   ]
  },
  {
   "cell_type": "markdown",
   "id": "49b7ec11",
   "metadata": {
    "deletable": false,
    "editable": false,
    "id": "7b0487d6"
   },
   "source": [
    "#### 3.6 Объясните, почему заполнить пропуски медианным значением — лучшее решение для количественных переменных."
   ]
  },
  {
   "cell_type": "markdown",
   "id": "2f0cb980",
   "metadata": {
    "deletable": false,
    "id": "7ecf2b8e"
   },
   "source": [
    "*Ответ: медианное значение менее зависимо от выбросов в данных в отличие от средней, которая может сильно сместиться.  \n",
    "Один из студентов нашего потока интересовался ещё применением моды для заполнения пропуска, но такой метод имеет минусы, например, данные обязательно должны содержать хотя бы одно повторяющееся значения, чтобы моду можно было применить. Интуиция так же подсказывается что данные должны иметь множество повторяющихся значений, иначе мода просто будет непоказательным значением.*"
   ]
  },
  {
   "cell_type": "markdown",
   "id": "47a1b6ae",
   "metadata": {
    "deletable": false,
    "editable": false,
    "id": "6db5255a"
   },
   "source": [
    "### Шаг 4: общий вывод."
   ]
  },
  {
   "cell_type": "markdown",
   "id": "9b85cd0c",
   "metadata": {
    "deletable": false,
    "id": "bad65432"
   },
   "source": [
    "Исследовав данные можно сделать следующий общий вывод, что наилучшим с точки зрения вероятности возникновения задолженности клиентом по кредиту является клиент со следующим портретом:\n",
    "1. женщина\n",
    "2. без детей\n",
    "3. в браке или после брака\n",
    "4. уровень дохода 30001–50000 у.е.\n",
    "5. кредит с целью ипотеки или свадьбы"
   ]
  },
  {
   "cell_type": "code",
   "execution_count": 33,
   "id": "0c6517ca",
   "metadata": {
    "scrolled": false
   },
   "outputs": [
    {
     "name": "stderr",
     "output_type": "stream",
     "text": [
      "C:\\Users\\79991\\AppData\\Local\\Temp\\ipykernel_15916\\3539442456.py:3: UserWarning: Boolean Series key will be reindexed to match DataFrame index.\n",
      "  best_client = best_client[data['children'] == 0]\n",
      "C:\\Users\\79991\\AppData\\Local\\Temp\\ipykernel_15916\\3539442456.py:4: UserWarning: Boolean Series key will be reindexed to match DataFrame index.\n",
      "  best_client = best_client[data['family_status'] == 'в разводе']\n",
      "C:\\Users\\79991\\AppData\\Local\\Temp\\ipykernel_15916\\3539442456.py:5: UserWarning: Boolean Series key will be reindexed to match DataFrame index.\n",
      "  best_client = best_client[data['total_income_category'] == 'D']\n",
      "C:\\Users\\79991\\AppData\\Local\\Temp\\ipykernel_15916\\3539442456.py:6: UserWarning: Boolean Series key will be reindexed to match DataFrame index.\n",
      "  best_client = best_client[data['purpose_category'] == 'операции с недвижимостью']\n"
     ]
    },
    {
     "data": {
      "text/html": [
       "<div>\n",
       "<style scoped>\n",
       "    .dataframe tbody tr th:only-of-type {\n",
       "        vertical-align: middle;\n",
       "    }\n",
       "\n",
       "    .dataframe tbody tr th {\n",
       "        vertical-align: top;\n",
       "    }\n",
       "\n",
       "    .dataframe thead th {\n",
       "        text-align: right;\n",
       "    }\n",
       "</style>\n",
       "<table border=\"1\" class=\"dataframe\">\n",
       "  <thead>\n",
       "    <tr style=\"text-align: right;\">\n",
       "      <th></th>\n",
       "      <th>children</th>\n",
       "      <th>days_employed</th>\n",
       "      <th>dob_years</th>\n",
       "      <th>education</th>\n",
       "      <th>education_id</th>\n",
       "      <th>family_status</th>\n",
       "      <th>family_status_id</th>\n",
       "      <th>gender</th>\n",
       "      <th>income_type</th>\n",
       "      <th>debt</th>\n",
       "      <th>total_income</th>\n",
       "      <th>purpose</th>\n",
       "      <th>total_income_category</th>\n",
       "      <th>purpose_category</th>\n",
       "    </tr>\n",
       "  </thead>\n",
       "  <tbody>\n",
       "    <tr>\n",
       "      <th>4467</th>\n",
       "      <td>0</td>\n",
       "      <td>395420.485663</td>\n",
       "      <td>50</td>\n",
       "      <td>среднее</td>\n",
       "      <td>1</td>\n",
       "      <td>в разводе</td>\n",
       "      <td>3</td>\n",
       "      <td>F</td>\n",
       "      <td>пенсионер</td>\n",
       "      <td>0</td>\n",
       "      <td>42218</td>\n",
       "      <td>жилье</td>\n",
       "      <td>D</td>\n",
       "      <td>операции с недвижимостью</td>\n",
       "    </tr>\n",
       "    <tr>\n",
       "      <th>8093</th>\n",
       "      <td>0</td>\n",
       "      <td>346622.215355</td>\n",
       "      <td>54</td>\n",
       "      <td>среднее</td>\n",
       "      <td>1</td>\n",
       "      <td>в разводе</td>\n",
       "      <td>3</td>\n",
       "      <td>F</td>\n",
       "      <td>пенсионер</td>\n",
       "      <td>0</td>\n",
       "      <td>34312</td>\n",
       "      <td>покупка коммерческой недвижимости</td>\n",
       "      <td>D</td>\n",
       "      <td>операции с недвижимостью</td>\n",
       "    </tr>\n",
       "    <tr>\n",
       "      <th>12948</th>\n",
       "      <td>0</td>\n",
       "      <td>341781.253706</td>\n",
       "      <td>60</td>\n",
       "      <td>среднее</td>\n",
       "      <td>1</td>\n",
       "      <td>в разводе</td>\n",
       "      <td>3</td>\n",
       "      <td>F</td>\n",
       "      <td>пенсионер</td>\n",
       "      <td>0</td>\n",
       "      <td>42819</td>\n",
       "      <td>покупка жилья для сдачи</td>\n",
       "      <td>D</td>\n",
       "      <td>операции с недвижимостью</td>\n",
       "    </tr>\n",
       "    <tr>\n",
       "      <th>14274</th>\n",
       "      <td>0</td>\n",
       "      <td>354720.136289</td>\n",
       "      <td>67</td>\n",
       "      <td>среднее</td>\n",
       "      <td>1</td>\n",
       "      <td>в разводе</td>\n",
       "      <td>3</td>\n",
       "      <td>F</td>\n",
       "      <td>пенсионер</td>\n",
       "      <td>0</td>\n",
       "      <td>33767</td>\n",
       "      <td>покупка жилья</td>\n",
       "      <td>D</td>\n",
       "      <td>операции с недвижимостью</td>\n",
       "    </tr>\n",
       "    <tr>\n",
       "      <th>18682</th>\n",
       "      <td>0</td>\n",
       "      <td>362723.933052</td>\n",
       "      <td>49</td>\n",
       "      <td>среднее</td>\n",
       "      <td>1</td>\n",
       "      <td>в разводе</td>\n",
       "      <td>3</td>\n",
       "      <td>F</td>\n",
       "      <td>пенсионер</td>\n",
       "      <td>0</td>\n",
       "      <td>42782</td>\n",
       "      <td>операции с коммерческой недвижимостью</td>\n",
       "      <td>D</td>\n",
       "      <td>операции с недвижимостью</td>\n",
       "    </tr>\n",
       "  </tbody>\n",
       "</table>\n",
       "</div>"
      ],
      "text/plain": [
       "       children  days_employed  dob_years education  education_id  \\\n",
       "4467          0  395420.485663         50   среднее             1   \n",
       "8093          0  346622.215355         54   среднее             1   \n",
       "12948         0  341781.253706         60   среднее             1   \n",
       "14274         0  354720.136289         67   среднее             1   \n",
       "18682         0  362723.933052         49   среднее             1   \n",
       "\n",
       "      family_status  family_status_id gender income_type  debt  total_income  \\\n",
       "4467      в разводе                 3      F   пенсионер     0         42218   \n",
       "8093      в разводе                 3      F   пенсионер     0         34312   \n",
       "12948     в разводе                 3      F   пенсионер     0         42819   \n",
       "14274     в разводе                 3      F   пенсионер     0         33767   \n",
       "18682     в разводе                 3      F   пенсионер     0         42782   \n",
       "\n",
       "                                     purpose total_income_category  \\\n",
       "4467                                   жилье                     D   \n",
       "8093       покупка коммерческой недвижимости                     D   \n",
       "12948                покупка жилья для сдачи                     D   \n",
       "14274                          покупка жилья                     D   \n",
       "18682  операции с коммерческой недвижимостью                     D   \n",
       "\n",
       "               purpose_category  \n",
       "4467   операции с недвижимостью  \n",
       "8093   операции с недвижимостью  \n",
       "12948  операции с недвижимостью  \n",
       "14274  операции с недвижимостью  \n",
       "18682  операции с недвижимостью  "
      ]
     },
     "execution_count": 33,
     "metadata": {},
     "output_type": "execute_result"
    }
   ],
   "source": [
    "#просеем на основе полученных критериев датафрейм по самым низким рискам\n",
    "best_client = data[data['gender'] == 'F']\n",
    "best_client = best_client[data['children'] == 0]\n",
    "best_client = best_client[data['family_status'] == 'в разводе']\n",
    "best_client = best_client[data['total_income_category'] == 'D']\n",
    "best_client = best_client[data['purpose_category'] == 'операции с недвижимостью']\n",
    "best_client"
   ]
  },
  {
   "cell_type": "markdown",
   "id": "2b431eab",
   "metadata": {},
   "source": [
    "Один из портретов такого клиента: незамужняя пенсионерка со средним образованием без детей, покупающая жилье.\n",
    "\n",
    "Уточнение: фильтрация по критерию вдовства проигнорирована, не смотря на более низкие риски, в целях расширениях выборки."
   ]
  },
  {
   "cell_type": "markdown",
   "id": "8bcead82",
   "metadata": {},
   "source": [
    "Портрет клиента с высокими рисками задолженности обладает следующими чертами:\n",
    "1. мужчина\n",
    "2. с детьми\n",
    "3. не женатый\n",
    "4. с доходом 50001–200000\n",
    "5. кредит с целью покупки авто или прохождения образования"
   ]
  },
  {
   "cell_type": "code",
   "execution_count": 35,
   "id": "4166e55c",
   "metadata": {},
   "outputs": [
    {
     "name": "stderr",
     "output_type": "stream",
     "text": [
      "C:\\Users\\79991\\AppData\\Local\\Temp\\ipykernel_15916\\970313996.py:3: UserWarning: Boolean Series key will be reindexed to match DataFrame index.\n",
      "  worst_client = worst_client[data['children'] == 2]\n",
      "C:\\Users\\79991\\AppData\\Local\\Temp\\ipykernel_15916\\970313996.py:4: UserWarning: Boolean Series key will be reindexed to match DataFrame index.\n",
      "  worst_client = worst_client[data['family_status'] == 'Не женат / не замужем']\n",
      "C:\\Users\\79991\\AppData\\Local\\Temp\\ipykernel_15916\\970313996.py:5: UserWarning: Boolean Series key will be reindexed to match DataFrame index.\n",
      "  worst_client = worst_client[data['total_income_category'] == 'C']\n",
      "C:\\Users\\79991\\AppData\\Local\\Temp\\ipykernel_15916\\970313996.py:6: UserWarning: Boolean Series key will be reindexed to match DataFrame index.\n",
      "  worst_client = worst_client[data['purpose_category'] == 'операции с автомобилем']\n"
     ]
    },
    {
     "data": {
      "text/html": [
       "<div>\n",
       "<style scoped>\n",
       "    .dataframe tbody tr th:only-of-type {\n",
       "        vertical-align: middle;\n",
       "    }\n",
       "\n",
       "    .dataframe tbody tr th {\n",
       "        vertical-align: top;\n",
       "    }\n",
       "\n",
       "    .dataframe thead th {\n",
       "        text-align: right;\n",
       "    }\n",
       "</style>\n",
       "<table border=\"1\" class=\"dataframe\">\n",
       "  <thead>\n",
       "    <tr style=\"text-align: right;\">\n",
       "      <th></th>\n",
       "      <th>children</th>\n",
       "      <th>days_employed</th>\n",
       "      <th>dob_years</th>\n",
       "      <th>education</th>\n",
       "      <th>education_id</th>\n",
       "      <th>family_status</th>\n",
       "      <th>family_status_id</th>\n",
       "      <th>gender</th>\n",
       "      <th>income_type</th>\n",
       "      <th>debt</th>\n",
       "      <th>total_income</th>\n",
       "      <th>purpose</th>\n",
       "      <th>total_income_category</th>\n",
       "      <th>purpose_category</th>\n",
       "    </tr>\n",
       "  </thead>\n",
       "  <tbody>\n",
       "    <tr>\n",
       "      <th>341</th>\n",
       "      <td>2</td>\n",
       "      <td>211.332106</td>\n",
       "      <td>33</td>\n",
       "      <td>среднее</td>\n",
       "      <td>1</td>\n",
       "      <td>Не женат / не замужем</td>\n",
       "      <td>4</td>\n",
       "      <td>F</td>\n",
       "      <td>сотрудник</td>\n",
       "      <td>0</td>\n",
       "      <td>98522</td>\n",
       "      <td>сделка с автомобилем</td>\n",
       "      <td>C</td>\n",
       "      <td>операции с автомобилем</td>\n",
       "    </tr>\n",
       "    <tr>\n",
       "      <th>1561</th>\n",
       "      <td>2</td>\n",
       "      <td>1572.328285</td>\n",
       "      <td>43</td>\n",
       "      <td>среднее</td>\n",
       "      <td>1</td>\n",
       "      <td>Не женат / не замужем</td>\n",
       "      <td>4</td>\n",
       "      <td>F</td>\n",
       "      <td>сотрудник</td>\n",
       "      <td>0</td>\n",
       "      <td>142594</td>\n",
       "      <td>автомобиль</td>\n",
       "      <td>C</td>\n",
       "      <td>операции с автомобилем</td>\n",
       "    </tr>\n",
       "    <tr>\n",
       "      <th>2934</th>\n",
       "      <td>2</td>\n",
       "      <td>1169.141954</td>\n",
       "      <td>40</td>\n",
       "      <td>среднее</td>\n",
       "      <td>1</td>\n",
       "      <td>Не женат / не замужем</td>\n",
       "      <td>4</td>\n",
       "      <td>F</td>\n",
       "      <td>сотрудник</td>\n",
       "      <td>0</td>\n",
       "      <td>98616</td>\n",
       "      <td>на покупку подержанного автомобиля</td>\n",
       "      <td>C</td>\n",
       "      <td>операции с автомобилем</td>\n",
       "    </tr>\n",
       "    <tr>\n",
       "      <th>4698</th>\n",
       "      <td>2</td>\n",
       "      <td>1977.445600</td>\n",
       "      <td>42</td>\n",
       "      <td>начальное</td>\n",
       "      <td>3</td>\n",
       "      <td>Не женат / не замужем</td>\n",
       "      <td>4</td>\n",
       "      <td>F</td>\n",
       "      <td>сотрудник</td>\n",
       "      <td>1</td>\n",
       "      <td>115973</td>\n",
       "      <td>на покупку своего автомобиля</td>\n",
       "      <td>C</td>\n",
       "      <td>операции с автомобилем</td>\n",
       "    </tr>\n",
       "    <tr>\n",
       "      <th>4850</th>\n",
       "      <td>2</td>\n",
       "      <td>1040.092955</td>\n",
       "      <td>37</td>\n",
       "      <td>среднее</td>\n",
       "      <td>1</td>\n",
       "      <td>Не женат / не замужем</td>\n",
       "      <td>4</td>\n",
       "      <td>F</td>\n",
       "      <td>госслужащий</td>\n",
       "      <td>0</td>\n",
       "      <td>79888</td>\n",
       "      <td>на покупку автомобиля</td>\n",
       "      <td>C</td>\n",
       "      <td>операции с автомобилем</td>\n",
       "    </tr>\n",
       "    <tr>\n",
       "      <th>4869</th>\n",
       "      <td>2</td>\n",
       "      <td>327.565107</td>\n",
       "      <td>27</td>\n",
       "      <td>высшее</td>\n",
       "      <td>0</td>\n",
       "      <td>Не женат / не замужем</td>\n",
       "      <td>4</td>\n",
       "      <td>F</td>\n",
       "      <td>сотрудник</td>\n",
       "      <td>0</td>\n",
       "      <td>125955</td>\n",
       "      <td>сделка с автомобилем</td>\n",
       "      <td>C</td>\n",
       "      <td>операции с автомобилем</td>\n",
       "    </tr>\n",
       "    <tr>\n",
       "      <th>5405</th>\n",
       "      <td>2</td>\n",
       "      <td>1791.374445</td>\n",
       "      <td>30</td>\n",
       "      <td>высшее</td>\n",
       "      <td>0</td>\n",
       "      <td>Не женат / не замужем</td>\n",
       "      <td>4</td>\n",
       "      <td>F</td>\n",
       "      <td>компаньон</td>\n",
       "      <td>0</td>\n",
       "      <td>186770</td>\n",
       "      <td>на покупку своего автомобиля</td>\n",
       "      <td>C</td>\n",
       "      <td>операции с автомобилем</td>\n",
       "    </tr>\n",
       "    <tr>\n",
       "      <th>6481</th>\n",
       "      <td>2</td>\n",
       "      <td>1555.947387</td>\n",
       "      <td>47</td>\n",
       "      <td>высшее</td>\n",
       "      <td>0</td>\n",
       "      <td>Не женат / не замужем</td>\n",
       "      <td>4</td>\n",
       "      <td>F</td>\n",
       "      <td>компаньон</td>\n",
       "      <td>0</td>\n",
       "      <td>172357</td>\n",
       "      <td>на покупку автомобиля</td>\n",
       "      <td>C</td>\n",
       "      <td>операции с автомобилем</td>\n",
       "    </tr>\n",
       "    <tr>\n",
       "      <th>7481</th>\n",
       "      <td>2</td>\n",
       "      <td>1593.158977</td>\n",
       "      <td>39</td>\n",
       "      <td>среднее</td>\n",
       "      <td>1</td>\n",
       "      <td>Не женат / не замужем</td>\n",
       "      <td>4</td>\n",
       "      <td>F</td>\n",
       "      <td>госслужащий</td>\n",
       "      <td>0</td>\n",
       "      <td>139304</td>\n",
       "      <td>на покупку подержанного автомобиля</td>\n",
       "      <td>C</td>\n",
       "      <td>операции с автомобилем</td>\n",
       "    </tr>\n",
       "    <tr>\n",
       "      <th>9786</th>\n",
       "      <td>2</td>\n",
       "      <td>489.732166</td>\n",
       "      <td>26</td>\n",
       "      <td>среднее</td>\n",
       "      <td>1</td>\n",
       "      <td>Не женат / не замужем</td>\n",
       "      <td>4</td>\n",
       "      <td>F</td>\n",
       "      <td>сотрудник</td>\n",
       "      <td>0</td>\n",
       "      <td>193198</td>\n",
       "      <td>автомобиль</td>\n",
       "      <td>C</td>\n",
       "      <td>операции с автомобилем</td>\n",
       "    </tr>\n",
       "    <tr>\n",
       "      <th>14020</th>\n",
       "      <td>2</td>\n",
       "      <td>5249.240290</td>\n",
       "      <td>35</td>\n",
       "      <td>среднее</td>\n",
       "      <td>1</td>\n",
       "      <td>Не женат / не замужем</td>\n",
       "      <td>4</td>\n",
       "      <td>F</td>\n",
       "      <td>сотрудник</td>\n",
       "      <td>1</td>\n",
       "      <td>189728</td>\n",
       "      <td>приобретение автомобиля</td>\n",
       "      <td>C</td>\n",
       "      <td>операции с автомобилем</td>\n",
       "    </tr>\n",
       "    <tr>\n",
       "      <th>20204</th>\n",
       "      <td>2</td>\n",
       "      <td>355760.801975</td>\n",
       "      <td>57</td>\n",
       "      <td>среднее</td>\n",
       "      <td>1</td>\n",
       "      <td>Не женат / не замужем</td>\n",
       "      <td>4</td>\n",
       "      <td>F</td>\n",
       "      <td>пенсионер</td>\n",
       "      <td>0</td>\n",
       "      <td>138880</td>\n",
       "      <td>сделка с подержанным автомобилем</td>\n",
       "      <td>C</td>\n",
       "      <td>операции с автомобилем</td>\n",
       "    </tr>\n",
       "    <tr>\n",
       "      <th>20449</th>\n",
       "      <td>2</td>\n",
       "      <td>113.210908</td>\n",
       "      <td>38</td>\n",
       "      <td>среднее</td>\n",
       "      <td>1</td>\n",
       "      <td>Не женат / не замужем</td>\n",
       "      <td>4</td>\n",
       "      <td>F</td>\n",
       "      <td>сотрудник</td>\n",
       "      <td>0</td>\n",
       "      <td>109865</td>\n",
       "      <td>свой автомобиль</td>\n",
       "      <td>C</td>\n",
       "      <td>операции с автомобилем</td>\n",
       "    </tr>\n",
       "  </tbody>\n",
       "</table>\n",
       "</div>"
      ],
      "text/plain": [
       "       children  days_employed  dob_years  education  education_id  \\\n",
       "341           2     211.332106         33    среднее             1   \n",
       "1561          2    1572.328285         43    среднее             1   \n",
       "2934          2    1169.141954         40    среднее             1   \n",
       "4698          2    1977.445600         42  начальное             3   \n",
       "4850          2    1040.092955         37    среднее             1   \n",
       "4869          2     327.565107         27     высшее             0   \n",
       "5405          2    1791.374445         30     высшее             0   \n",
       "6481          2    1555.947387         47     высшее             0   \n",
       "7481          2    1593.158977         39    среднее             1   \n",
       "9786          2     489.732166         26    среднее             1   \n",
       "14020         2    5249.240290         35    среднее             1   \n",
       "20204         2  355760.801975         57    среднее             1   \n",
       "20449         2     113.210908         38    среднее             1   \n",
       "\n",
       "               family_status  family_status_id gender  income_type  debt  \\\n",
       "341    Не женат / не замужем                 4      F    сотрудник     0   \n",
       "1561   Не женат / не замужем                 4      F    сотрудник     0   \n",
       "2934   Не женат / не замужем                 4      F    сотрудник     0   \n",
       "4698   Не женат / не замужем                 4      F    сотрудник     1   \n",
       "4850   Не женат / не замужем                 4      F  госслужащий     0   \n",
       "4869   Не женат / не замужем                 4      F    сотрудник     0   \n",
       "5405   Не женат / не замужем                 4      F    компаньон     0   \n",
       "6481   Не женат / не замужем                 4      F    компаньон     0   \n",
       "7481   Не женат / не замужем                 4      F  госслужащий     0   \n",
       "9786   Не женат / не замужем                 4      F    сотрудник     0   \n",
       "14020  Не женат / не замужем                 4      F    сотрудник     1   \n",
       "20204  Не женат / не замужем                 4      F    пенсионер     0   \n",
       "20449  Не женат / не замужем                 4      F    сотрудник     0   \n",
       "\n",
       "       total_income                             purpose total_income_category  \\\n",
       "341           98522                сделка с автомобилем                     C   \n",
       "1561         142594                          автомобиль                     C   \n",
       "2934          98616  на покупку подержанного автомобиля                     C   \n",
       "4698         115973        на покупку своего автомобиля                     C   \n",
       "4850          79888               на покупку автомобиля                     C   \n",
       "4869         125955                сделка с автомобилем                     C   \n",
       "5405         186770        на покупку своего автомобиля                     C   \n",
       "6481         172357               на покупку автомобиля                     C   \n",
       "7481         139304  на покупку подержанного автомобиля                     C   \n",
       "9786         193198                          автомобиль                     C   \n",
       "14020        189728             приобретение автомобиля                     C   \n",
       "20204        138880    сделка с подержанным автомобилем                     C   \n",
       "20449        109865                     свой автомобиль                     C   \n",
       "\n",
       "             purpose_category  \n",
       "341    операции с автомобилем  \n",
       "1561   операции с автомобилем  \n",
       "2934   операции с автомобилем  \n",
       "4698   операции с автомобилем  \n",
       "4850   операции с автомобилем  \n",
       "4869   операции с автомобилем  \n",
       "5405   операции с автомобилем  \n",
       "6481   операции с автомобилем  \n",
       "7481   операции с автомобилем  \n",
       "9786   операции с автомобилем  \n",
       "14020  операции с автомобилем  \n",
       "20204  операции с автомобилем  \n",
       "20449  операции с автомобилем  "
      ]
     },
     "execution_count": 35,
     "metadata": {},
     "output_type": "execute_result"
    }
   ],
   "source": [
    "#просеем на основе полученных критериев датафрейм по самым высоким рискам\n",
    "worst_client = data[data['gender'] == 'F']\n",
    "worst_client = worst_client[data['children'] == 2]\n",
    "worst_client = worst_client[data['family_status'] == 'Не женат / не замужем']\n",
    "worst_client = worst_client[data['total_income_category'] == 'C']\n",
    "worst_client = worst_client[data['purpose_category'] == 'операции с автомобилем']\n",
    "worst_client"
   ]
  },
  {
   "cell_type": "markdown",
   "id": "345cb16e",
   "metadata": {},
   "source": [
    "Портрет высокорискового клиента неоднороден как в случае с пенсионеркой."
   ]
  }
 ],
 "metadata": {
  "ExecuteTimeLog": [
   {
    "duration": 54,
    "start_time": "2022-10-25T12:19:18.498Z"
   },
   {
    "duration": 713,
    "start_time": "2022-10-25T12:19:34.080Z"
   },
   {
    "duration": 24,
    "start_time": "2022-10-25T12:19:34.795Z"
   },
   {
    "duration": 16,
    "start_time": "2022-10-25T12:19:34.820Z"
   },
   {
    "duration": 10,
    "start_time": "2022-10-25T12:19:34.838Z"
   },
   {
    "duration": 35,
    "start_time": "2022-10-25T12:19:34.850Z"
   },
   {
    "duration": 4,
    "start_time": "2022-10-25T12:19:34.887Z"
   },
   {
    "duration": 17,
    "start_time": "2022-10-25T12:19:34.892Z"
   },
   {
    "duration": 30,
    "start_time": "2022-10-25T12:19:34.911Z"
   },
   {
    "duration": 10,
    "start_time": "2022-10-25T12:19:34.943Z"
   },
   {
    "duration": 5,
    "start_time": "2022-10-25T12:19:34.954Z"
   },
   {
    "duration": 52,
    "start_time": "2022-10-25T12:19:34.961Z"
   },
   {
    "duration": 36,
    "start_time": "2022-10-25T12:19:35.015Z"
   },
   {
    "duration": 10,
    "start_time": "2022-10-25T12:19:35.053Z"
   },
   {
    "duration": 18,
    "start_time": "2022-10-25T12:19:35.067Z"
   },
   {
    "duration": 25,
    "start_time": "2022-10-25T12:19:35.087Z"
   },
   {
    "duration": 29,
    "start_time": "2022-10-25T12:19:35.114Z"
   },
   {
    "duration": 5,
    "start_time": "2022-10-25T12:19:35.144Z"
   },
   {
    "duration": 14,
    "start_time": "2022-10-25T12:19:35.151Z"
   },
   {
    "duration": 12,
    "start_time": "2022-10-25T12:19:35.166Z"
   },
   {
    "duration": 3,
    "start_time": "2022-10-25T12:19:35.180Z"
   },
   {
    "duration": 13,
    "start_time": "2022-10-25T12:19:35.184Z"
   },
   {
    "duration": 15,
    "start_time": "2022-10-25T12:19:35.199Z"
   },
   {
    "duration": 7,
    "start_time": "2022-10-25T12:19:35.215Z"
   },
   {
    "duration": 6,
    "start_time": "2022-10-25T12:19:35.238Z"
   },
   {
    "duration": 6,
    "start_time": "2022-10-25T12:19:35.246Z"
   },
   {
    "duration": 30,
    "start_time": "2022-10-25T12:20:01.116Z"
   },
   {
    "duration": 4,
    "start_time": "2022-10-25T12:20:04.484Z"
   },
   {
    "duration": 13,
    "start_time": "2022-10-25T12:20:39.380Z"
   },
   {
    "duration": 17,
    "start_time": "2022-10-25T12:21:30.841Z"
   },
   {
    "duration": 23,
    "start_time": "2022-10-25T12:21:49.380Z"
   },
   {
    "duration": 13,
    "start_time": "2022-10-25T12:21:54.617Z"
   },
   {
    "duration": 13,
    "start_time": "2022-10-25T12:22:01.337Z"
   },
   {
    "duration": 14,
    "start_time": "2022-10-25T12:22:05.422Z"
   },
   {
    "duration": 12,
    "start_time": "2022-10-25T12:22:32.740Z"
   },
   {
    "duration": 55,
    "start_time": "2022-10-25T12:29:23.704Z"
   },
   {
    "duration": 76,
    "start_time": "2022-10-25T12:29:42.796Z"
   },
   {
    "duration": 49,
    "start_time": "2022-10-25T12:29:54.583Z"
   },
   {
    "duration": 54,
    "start_time": "2022-10-25T12:30:58.788Z"
   },
   {
    "duration": 7,
    "start_time": "2022-10-25T12:31:41.988Z"
   },
   {
    "duration": 5,
    "start_time": "2022-10-25T12:31:54.603Z"
   },
   {
    "duration": 4,
    "start_time": "2022-10-25T12:32:00.528Z"
   },
   {
    "duration": 49,
    "start_time": "2022-10-25T12:32:58.812Z"
   },
   {
    "duration": 7,
    "start_time": "2022-10-25T12:37:21.624Z"
   },
   {
    "duration": 377,
    "start_time": "2022-10-25T12:38:38.144Z"
   },
   {
    "duration": 400,
    "start_time": "2022-10-25T12:38:52.520Z"
   },
   {
    "duration": 23,
    "start_time": "2022-10-25T12:39:21.595Z"
   },
   {
    "duration": 7,
    "start_time": "2022-10-25T12:39:57.013Z"
   },
   {
    "duration": 8,
    "start_time": "2022-10-25T12:50:49.378Z"
   },
   {
    "duration": 14,
    "start_time": "2022-10-25T12:58:20.511Z"
   },
   {
    "duration": 10,
    "start_time": "2022-10-25T12:58:28.022Z"
   },
   {
    "duration": 7,
    "start_time": "2022-10-25T12:58:37.195Z"
   },
   {
    "duration": 11,
    "start_time": "2022-10-25T13:00:35.495Z"
   },
   {
    "duration": 5,
    "start_time": "2022-10-25T13:00:42.604Z"
   },
   {
    "duration": 13,
    "start_time": "2022-10-25T13:00:46.404Z"
   },
   {
    "duration": 8,
    "start_time": "2022-10-25T13:07:24.504Z"
   },
   {
    "duration": 10,
    "start_time": "2022-10-25T13:07:33.361Z"
   },
   {
    "duration": 4,
    "start_time": "2022-10-25T13:07:38.017Z"
   },
   {
    "duration": 7,
    "start_time": "2022-10-25T13:07:40.407Z"
   },
   {
    "duration": 8,
    "start_time": "2022-10-25T13:09:31.448Z"
   },
   {
    "duration": 6,
    "start_time": "2022-10-25T13:11:39.195Z"
   },
   {
    "duration": 5,
    "start_time": "2022-10-25T13:12:22.739Z"
   },
   {
    "duration": 9,
    "start_time": "2022-10-25T13:12:26.645Z"
   },
   {
    "duration": 5,
    "start_time": "2022-10-25T13:12:31.717Z"
   },
   {
    "duration": 7,
    "start_time": "2022-10-25T13:12:55.095Z"
   },
   {
    "duration": 6,
    "start_time": "2022-10-25T13:13:18.451Z"
   },
   {
    "duration": 6,
    "start_time": "2022-10-25T13:13:31.878Z"
   },
   {
    "duration": 9,
    "start_time": "2022-10-25T13:13:37.295Z"
   },
   {
    "duration": 6,
    "start_time": "2022-10-25T13:13:42.241Z"
   },
   {
    "duration": 6,
    "start_time": "2022-10-25T13:13:44.048Z"
   },
   {
    "duration": 6,
    "start_time": "2022-10-25T13:13:46.302Z"
   },
   {
    "duration": 7,
    "start_time": "2022-10-25T13:14:15.903Z"
   },
   {
    "duration": 7,
    "start_time": "2022-10-25T13:14:44.706Z"
   },
   {
    "duration": 7,
    "start_time": "2022-10-25T13:14:48.949Z"
   },
   {
    "duration": 6,
    "start_time": "2022-10-25T13:14:55.360Z"
   },
   {
    "duration": 4,
    "start_time": "2022-10-25T13:15:55.808Z"
   },
   {
    "duration": 6,
    "start_time": "2022-10-25T13:16:03.200Z"
   },
   {
    "duration": 5,
    "start_time": "2022-10-25T13:16:43.299Z"
   },
   {
    "duration": 19,
    "start_time": "2022-10-25T13:34:00.603Z"
   },
   {
    "duration": 10,
    "start_time": "2022-10-25T13:34:16.033Z"
   },
   {
    "duration": 16,
    "start_time": "2022-10-25T13:34:18.843Z"
   },
   {
    "duration": 39,
    "start_time": "2022-10-25T13:36:55.502Z"
   },
   {
    "duration": 21,
    "start_time": "2022-10-25T13:36:59.996Z"
   },
   {
    "duration": 15,
    "start_time": "2022-10-25T13:38:14.040Z"
   },
   {
    "duration": 644,
    "start_time": "2022-10-25T13:40:25.434Z"
   },
   {
    "duration": 463,
    "start_time": "2022-10-25T13:40:50.136Z"
   },
   {
    "duration": 22,
    "start_time": "2022-10-25T13:42:49.835Z"
   },
   {
    "duration": 21,
    "start_time": "2022-10-25T13:43:00.222Z"
   },
   {
    "duration": 26,
    "start_time": "2022-10-25T13:43:06.516Z"
   },
   {
    "duration": 483,
    "start_time": "2022-10-25T13:43:10.701Z"
   },
   {
    "duration": 5,
    "start_time": "2022-10-25T13:44:17.033Z"
   },
   {
    "duration": 21,
    "start_time": "2022-10-25T13:44:24.488Z"
   },
   {
    "duration": 6,
    "start_time": "2022-10-25T13:45:23.339Z"
   },
   {
    "duration": 32,
    "start_time": "2022-10-25T13:45:30.664Z"
   },
   {
    "duration": 7,
    "start_time": "2022-10-25T13:45:59.455Z"
   },
   {
    "duration": 11,
    "start_time": "2022-10-25T13:46:06.835Z"
   },
   {
    "duration": 25,
    "start_time": "2022-10-25T13:46:20.859Z"
   },
   {
    "duration": 8,
    "start_time": "2022-10-25T13:46:51.364Z"
   },
   {
    "duration": 22,
    "start_time": "2022-10-25T13:47:00.233Z"
   },
   {
    "duration": 10,
    "start_time": "2022-10-25T13:47:13.890Z"
   },
   {
    "duration": 7,
    "start_time": "2022-10-25T14:01:44.720Z"
   },
   {
    "duration": 12,
    "start_time": "2022-10-25T14:01:50.835Z"
   },
   {
    "duration": 5,
    "start_time": "2022-10-25T14:03:49.692Z"
   },
   {
    "duration": 4,
    "start_time": "2022-10-25T14:04:44.299Z"
   },
   {
    "duration": 7,
    "start_time": "2022-10-25T14:08:51.983Z"
   },
   {
    "duration": 13,
    "start_time": "2022-10-25T14:08:54.918Z"
   },
   {
    "duration": 9,
    "start_time": "2022-10-25T14:12:37.730Z"
   },
   {
    "duration": 20,
    "start_time": "2022-10-25T14:12:41.092Z"
   },
   {
    "duration": 5,
    "start_time": "2022-10-25T14:18:01.881Z"
   },
   {
    "duration": 45,
    "start_time": "2022-10-25T14:19:33.706Z"
   },
   {
    "duration": 51,
    "start_time": "2022-10-25T14:19:41.695Z"
   },
   {
    "duration": 5,
    "start_time": "2022-10-25T14:35:09.382Z"
   },
   {
    "duration": 9,
    "start_time": "2022-10-25T14:35:14.310Z"
   },
   {
    "duration": 7,
    "start_time": "2022-10-25T14:35:18.667Z"
   },
   {
    "duration": 5,
    "start_time": "2022-10-25T14:35:25.856Z"
   },
   {
    "duration": 8,
    "start_time": "2022-10-25T14:35:54.920Z"
   },
   {
    "duration": 12,
    "start_time": "2022-10-25T14:36:34.731Z"
   },
   {
    "duration": 5,
    "start_time": "2022-10-25T14:37:09.948Z"
   },
   {
    "duration": 5,
    "start_time": "2022-10-25T14:37:16.900Z"
   },
   {
    "duration": 5,
    "start_time": "2022-10-25T14:37:21.334Z"
   },
   {
    "duration": 7,
    "start_time": "2022-10-25T14:37:27.108Z"
   },
   {
    "duration": 17,
    "start_time": "2022-10-25T14:37:45.648Z"
   },
   {
    "duration": 18,
    "start_time": "2022-10-25T14:38:38.977Z"
   },
   {
    "duration": 4,
    "start_time": "2022-10-25T14:40:55.059Z"
   },
   {
    "duration": 3,
    "start_time": "2022-10-25T14:41:05.583Z"
   },
   {
    "duration": 6,
    "start_time": "2022-10-25T14:41:54.213Z"
   },
   {
    "duration": 5,
    "start_time": "2022-10-25T14:44:08.827Z"
   },
   {
    "duration": 4,
    "start_time": "2022-10-25T14:44:25.812Z"
   },
   {
    "duration": 6,
    "start_time": "2022-10-25T14:45:26.636Z"
   },
   {
    "duration": 5,
    "start_time": "2022-10-25T14:45:39.483Z"
   },
   {
    "duration": 6,
    "start_time": "2022-10-25T14:45:50.921Z"
   },
   {
    "duration": 8,
    "start_time": "2022-10-25T14:45:58.805Z"
   },
   {
    "duration": 7,
    "start_time": "2022-10-25T14:46:50.847Z"
   },
   {
    "duration": 5,
    "start_time": "2022-10-25T14:47:55.396Z"
   },
   {
    "duration": 6,
    "start_time": "2022-10-25T14:48:02.882Z"
   },
   {
    "duration": 6,
    "start_time": "2022-10-25T14:48:08.544Z"
   },
   {
    "duration": 12,
    "start_time": "2022-10-25T15:17:00.045Z"
   },
   {
    "duration": 18,
    "start_time": "2022-10-25T15:17:09.006Z"
   },
   {
    "duration": 16,
    "start_time": "2022-10-25T15:18:04.832Z"
   },
   {
    "duration": 28,
    "start_time": "2022-10-25T15:18:07.317Z"
   },
   {
    "duration": 14,
    "start_time": "2022-10-25T15:18:59.458Z"
   },
   {
    "duration": 19,
    "start_time": "2022-10-25T15:19:01.989Z"
   },
   {
    "duration": 14,
    "start_time": "2022-10-25T15:20:01.832Z"
   },
   {
    "duration": 21,
    "start_time": "2022-10-25T15:20:04.262Z"
   },
   {
    "duration": 14,
    "start_time": "2022-10-25T15:20:20.380Z"
   },
   {
    "duration": 15,
    "start_time": "2022-10-25T15:20:24.659Z"
   },
   {
    "duration": 10,
    "start_time": "2022-10-25T15:20:39.776Z"
   },
   {
    "duration": 10,
    "start_time": "2022-10-25T15:24:50.209Z"
   },
   {
    "duration": 8,
    "start_time": "2022-10-25T15:24:58.593Z"
   },
   {
    "duration": 9,
    "start_time": "2022-10-25T15:25:00.152Z"
   },
   {
    "duration": 8,
    "start_time": "2022-10-25T15:25:07.389Z"
   },
   {
    "duration": 6,
    "start_time": "2022-10-25T15:25:10.008Z"
   },
   {
    "duration": 42,
    "start_time": "2022-10-25T15:30:23.433Z"
   },
   {
    "duration": 15,
    "start_time": "2022-10-25T15:30:46.486Z"
   },
   {
    "duration": 8,
    "start_time": "2022-10-25T15:32:00.904Z"
   },
   {
    "duration": 6,
    "start_time": "2022-10-25T15:32:05.827Z"
   },
   {
    "duration": 7,
    "start_time": "2022-10-25T15:32:08.257Z"
   },
   {
    "duration": 17,
    "start_time": "2022-10-25T15:32:13.240Z"
   },
   {
    "duration": 15,
    "start_time": "2022-10-25T15:32:14.437Z"
   },
   {
    "duration": 9,
    "start_time": "2022-10-25T15:32:15.640Z"
   },
   {
    "duration": 7,
    "start_time": "2022-10-25T15:32:21.912Z"
   },
   {
    "duration": 9,
    "start_time": "2022-10-25T15:32:25.260Z"
   },
   {
    "duration": 10,
    "start_time": "2022-10-25T15:32:27.758Z"
   },
   {
    "duration": 11,
    "start_time": "2022-10-25T15:32:51.755Z"
   },
   {
    "duration": 8,
    "start_time": "2022-10-25T15:32:56.323Z"
   },
   {
    "duration": 9,
    "start_time": "2022-10-25T15:33:52.856Z"
   },
   {
    "duration": 20,
    "start_time": "2022-10-25T15:35:54.486Z"
   },
   {
    "duration": 28,
    "start_time": "2022-10-25T15:36:00.012Z"
   },
   {
    "duration": 6,
    "start_time": "2022-10-25T15:36:22.773Z"
   },
   {
    "duration": 8,
    "start_time": "2022-10-25T15:36:24.752Z"
   },
   {
    "duration": 11,
    "start_time": "2022-10-25T15:37:11.806Z"
   },
   {
    "duration": 8,
    "start_time": "2022-10-25T15:47:28.194Z"
   },
   {
    "duration": 6,
    "start_time": "2022-10-25T15:47:46.078Z"
   },
   {
    "duration": 6,
    "start_time": "2022-10-25T15:47:50.771Z"
   },
   {
    "duration": 6,
    "start_time": "2022-10-25T15:48:05.034Z"
   },
   {
    "duration": 10,
    "start_time": "2022-10-25T15:48:06.617Z"
   },
   {
    "duration": 11,
    "start_time": "2022-10-25T15:48:08.200Z"
   },
   {
    "duration": 5,
    "start_time": "2022-10-25T15:48:08.758Z"
   },
   {
    "duration": 8,
    "start_time": "2022-10-25T15:48:11.072Z"
   },
   {
    "duration": 5,
    "start_time": "2022-10-25T15:48:12.966Z"
   },
   {
    "duration": 11,
    "start_time": "2022-10-25T15:48:20.314Z"
   },
   {
    "duration": 72,
    "start_time": "2022-10-25T15:48:37.758Z"
   },
   {
    "duration": 15,
    "start_time": "2022-10-25T15:48:37.833Z"
   },
   {
    "duration": 15,
    "start_time": "2022-10-25T15:48:37.850Z"
   },
   {
    "duration": 8,
    "start_time": "2022-10-25T15:48:37.867Z"
   },
   {
    "duration": 31,
    "start_time": "2022-10-25T15:48:37.877Z"
   },
   {
    "duration": 3,
    "start_time": "2022-10-25T15:48:37.909Z"
   },
   {
    "duration": 10,
    "start_time": "2022-10-25T15:48:37.939Z"
   },
   {
    "duration": 4,
    "start_time": "2022-10-25T15:48:37.951Z"
   },
   {
    "duration": 7,
    "start_time": "2022-10-25T15:48:37.957Z"
   },
   {
    "duration": 4,
    "start_time": "2022-10-25T15:48:37.966Z"
   },
   {
    "duration": 35,
    "start_time": "2022-10-25T15:48:37.972Z"
   },
   {
    "duration": 39,
    "start_time": "2022-10-25T15:48:38.008Z"
   },
   {
    "duration": 5,
    "start_time": "2022-10-25T15:48:38.049Z"
   },
   {
    "duration": 11,
    "start_time": "2022-10-25T15:48:38.058Z"
   },
   {
    "duration": 23,
    "start_time": "2022-10-25T15:48:38.071Z"
   },
   {
    "duration": 15,
    "start_time": "2022-10-25T15:48:38.096Z"
   },
   {
    "duration": 4,
    "start_time": "2022-10-25T15:48:38.138Z"
   },
   {
    "duration": 14,
    "start_time": "2022-10-25T15:48:38.144Z"
   },
   {
    "duration": 17,
    "start_time": "2022-10-25T15:48:38.160Z"
   },
   {
    "duration": 4,
    "start_time": "2022-10-25T15:48:38.178Z"
   },
   {
    "duration": 17,
    "start_time": "2022-10-25T15:48:38.184Z"
   },
   {
    "duration": 7,
    "start_time": "2022-10-25T15:48:38.202Z"
   },
   {
    "duration": 6,
    "start_time": "2022-10-25T15:48:38.211Z"
   },
   {
    "duration": 20,
    "start_time": "2022-10-25T15:48:38.219Z"
   },
   {
    "duration": 4,
    "start_time": "2022-10-25T15:48:38.241Z"
   },
   {
    "duration": 7,
    "start_time": "2022-10-25T15:48:38.247Z"
   },
   {
    "duration": 7,
    "start_time": "2022-10-25T15:48:38.256Z"
   },
   {
    "duration": 9,
    "start_time": "2022-10-25T15:48:38.264Z"
   },
   {
    "duration": 4,
    "start_time": "2022-10-25T15:48:38.275Z"
   },
   {
    "duration": 14,
    "start_time": "2022-10-25T15:48:38.281Z"
   },
   {
    "duration": 5,
    "start_time": "2022-10-25T15:48:38.296Z"
   },
   {
    "duration": 50,
    "start_time": "2022-10-25T15:48:38.302Z"
   },
   {
    "duration": 18,
    "start_time": "2022-10-25T15:48:38.353Z"
   },
   {
    "duration": 21,
    "start_time": "2022-10-25T15:48:38.372Z"
   },
   {
    "duration": 18,
    "start_time": "2022-10-25T15:48:38.394Z"
   },
   {
    "duration": 25,
    "start_time": "2022-10-25T15:48:38.414Z"
   },
   {
    "duration": 5,
    "start_time": "2022-10-25T15:48:38.441Z"
   },
   {
    "duration": 7,
    "start_time": "2022-10-25T15:48:38.447Z"
   },
   {
    "duration": 5,
    "start_time": "2022-10-25T15:48:57.643Z"
   },
   {
    "duration": 72,
    "start_time": "2022-10-25T15:49:08.997Z"
   },
   {
    "duration": 15,
    "start_time": "2022-10-25T15:49:09.071Z"
   },
   {
    "duration": 21,
    "start_time": "2022-10-25T15:49:09.087Z"
   },
   {
    "duration": 32,
    "start_time": "2022-10-25T15:49:09.110Z"
   },
   {
    "duration": 34,
    "start_time": "2022-10-25T15:49:09.143Z"
   },
   {
    "duration": 3,
    "start_time": "2022-10-25T15:49:09.179Z"
   },
   {
    "duration": 12,
    "start_time": "2022-10-25T15:49:09.183Z"
   },
   {
    "duration": 8,
    "start_time": "2022-10-25T15:49:09.196Z"
   },
   {
    "duration": 7,
    "start_time": "2022-10-25T15:49:09.206Z"
   },
   {
    "duration": 24,
    "start_time": "2022-10-25T15:49:09.215Z"
   },
   {
    "duration": 37,
    "start_time": "2022-10-25T15:49:09.240Z"
   },
   {
    "duration": 10,
    "start_time": "2022-10-25T15:49:09.279Z"
   },
   {
    "duration": 3,
    "start_time": "2022-10-25T15:49:09.290Z"
   },
   {
    "duration": 14,
    "start_time": "2022-10-25T15:49:09.295Z"
   },
   {
    "duration": 34,
    "start_time": "2022-10-25T15:49:09.310Z"
   },
   {
    "duration": 19,
    "start_time": "2022-10-25T15:49:09.345Z"
   },
   {
    "duration": 4,
    "start_time": "2022-10-25T15:49:09.366Z"
   },
   {
    "duration": 11,
    "start_time": "2022-10-25T15:49:09.372Z"
   },
   {
    "duration": 7,
    "start_time": "2022-10-25T15:49:09.384Z"
   },
   {
    "duration": 4,
    "start_time": "2022-10-25T15:49:09.393Z"
   },
   {
    "duration": 45,
    "start_time": "2022-10-25T15:49:09.399Z"
   },
   {
    "duration": 5,
    "start_time": "2022-10-25T15:49:09.446Z"
   },
   {
    "duration": 7,
    "start_time": "2022-10-25T15:49:09.452Z"
   },
   {
    "duration": 6,
    "start_time": "2022-10-25T15:49:09.461Z"
   },
   {
    "duration": 7,
    "start_time": "2022-10-25T15:49:09.469Z"
   },
   {
    "duration": 10,
    "start_time": "2022-10-25T15:49:09.478Z"
   },
   {
    "duration": 13,
    "start_time": "2022-10-25T15:49:09.490Z"
   },
   {
    "duration": 11,
    "start_time": "2022-10-25T15:49:09.539Z"
   },
   {
    "duration": 5,
    "start_time": "2022-10-25T15:49:09.551Z"
   },
   {
    "duration": 15,
    "start_time": "2022-10-25T15:49:09.557Z"
   },
   {
    "duration": 5,
    "start_time": "2022-10-25T15:49:09.574Z"
   },
   {
    "duration": 15,
    "start_time": "2022-10-25T15:49:09.580Z"
   },
   {
    "duration": 8,
    "start_time": "2022-10-25T15:49:09.597Z"
   },
   {
    "duration": 47,
    "start_time": "2022-10-25T15:49:09.607Z"
   },
   {
    "duration": 54,
    "start_time": "2022-10-25T15:49:09.656Z"
   },
   {
    "duration": 10,
    "start_time": "2022-10-25T15:49:09.711Z"
   },
   {
    "duration": 18,
    "start_time": "2022-10-25T15:49:09.722Z"
   },
   {
    "duration": 5,
    "start_time": "2022-10-25T15:49:09.741Z"
   },
   {
    "duration": 5,
    "start_time": "2022-10-25T15:50:32.491Z"
   },
   {
    "duration": 80,
    "start_time": "2022-10-25T15:51:21.874Z"
   },
   {
    "duration": 15,
    "start_time": "2022-10-25T15:51:21.956Z"
   },
   {
    "duration": 19,
    "start_time": "2022-10-25T15:51:21.972Z"
   },
   {
    "duration": 10,
    "start_time": "2022-10-25T15:51:21.994Z"
   },
   {
    "duration": 56,
    "start_time": "2022-10-25T15:51:22.006Z"
   },
   {
    "duration": 3,
    "start_time": "2022-10-25T15:51:22.064Z"
   },
   {
    "duration": 12,
    "start_time": "2022-10-25T15:51:22.069Z"
   },
   {
    "duration": 5,
    "start_time": "2022-10-25T15:51:22.083Z"
   },
   {
    "duration": 8,
    "start_time": "2022-10-25T15:51:22.089Z"
   },
   {
    "duration": 4,
    "start_time": "2022-10-25T15:51:22.100Z"
   },
   {
    "duration": 55,
    "start_time": "2022-10-25T15:51:22.106Z"
   },
   {
    "duration": 10,
    "start_time": "2022-10-25T15:51:22.163Z"
   },
   {
    "duration": 7,
    "start_time": "2022-10-25T15:51:22.175Z"
   },
   {
    "duration": 12,
    "start_time": "2022-10-25T15:51:22.184Z"
   },
   {
    "duration": 20,
    "start_time": "2022-10-25T15:51:22.198Z"
   },
   {
    "duration": 19,
    "start_time": "2022-10-25T15:51:22.239Z"
   },
   {
    "duration": 3,
    "start_time": "2022-10-25T15:51:22.260Z"
   },
   {
    "duration": 12,
    "start_time": "2022-10-25T15:51:22.265Z"
   },
   {
    "duration": 6,
    "start_time": "2022-10-25T15:51:22.278Z"
   },
   {
    "duration": 5,
    "start_time": "2022-10-25T15:51:22.286Z"
   },
   {
    "duration": 11,
    "start_time": "2022-10-25T15:51:22.292Z"
   },
   {
    "duration": 5,
    "start_time": "2022-10-25T15:51:22.304Z"
   },
   {
    "duration": 37,
    "start_time": "2022-10-25T15:51:22.310Z"
   },
   {
    "duration": 9,
    "start_time": "2022-10-25T15:51:22.349Z"
   },
   {
    "duration": 9,
    "start_time": "2022-10-25T15:51:22.360Z"
   },
   {
    "duration": 9,
    "start_time": "2022-10-25T15:51:22.370Z"
   },
   {
    "duration": 7,
    "start_time": "2022-10-25T15:51:22.380Z"
   },
   {
    "duration": 24,
    "start_time": "2022-10-25T15:51:22.390Z"
   },
   {
    "duration": 27,
    "start_time": "2022-10-25T15:51:22.416Z"
   },
   {
    "duration": 11,
    "start_time": "2022-10-25T15:51:22.445Z"
   },
   {
    "duration": 10,
    "start_time": "2022-10-25T15:51:22.458Z"
   },
   {
    "duration": 5,
    "start_time": "2022-10-25T15:51:22.470Z"
   },
   {
    "duration": 11,
    "start_time": "2022-10-25T15:51:22.477Z"
   },
   {
    "duration": 51,
    "start_time": "2022-10-25T15:51:22.490Z"
   },
   {
    "duration": 28,
    "start_time": "2022-10-25T15:51:22.543Z"
   },
   {
    "duration": 13,
    "start_time": "2022-10-25T15:51:22.573Z"
   },
   {
    "duration": 5,
    "start_time": "2022-10-25T15:51:22.588Z"
   },
   {
    "duration": 7,
    "start_time": "2022-10-25T15:51:22.594Z"
   },
   {
    "duration": 8,
    "start_time": "2022-10-25T15:52:18.202Z"
   },
   {
    "duration": 18,
    "start_time": "2022-10-25T15:52:19.139Z"
   },
   {
    "duration": 24,
    "start_time": "2022-10-25T15:52:36.127Z"
   },
   {
    "duration": 18,
    "start_time": "2022-10-25T15:52:39.681Z"
   },
   {
    "duration": 8,
    "start_time": "2022-10-25T15:52:42.763Z"
   },
   {
    "duration": 11,
    "start_time": "2022-10-25T15:55:40.033Z"
   },
   {
    "duration": 4,
    "start_time": "2022-10-25T15:55:52.894Z"
   },
   {
    "duration": 10,
    "start_time": "2022-10-25T15:58:03.735Z"
   },
   {
    "duration": 16,
    "start_time": "2022-10-25T15:58:36.706Z"
   },
   {
    "duration": 10,
    "start_time": "2022-10-25T15:58:40.105Z"
   },
   {
    "duration": 9,
    "start_time": "2022-10-25T15:58:52.676Z"
   },
   {
    "duration": 13,
    "start_time": "2022-10-25T15:59:01.889Z"
   },
   {
    "duration": 10,
    "start_time": "2022-10-25T15:59:40.001Z"
   },
   {
    "duration": 6,
    "start_time": "2022-10-25T15:59:50.477Z"
   },
   {
    "duration": 10,
    "start_time": "2022-10-25T16:00:01.840Z"
   },
   {
    "duration": 16,
    "start_time": "2022-10-25T16:01:13.977Z"
   },
   {
    "duration": 13,
    "start_time": "2022-10-25T16:04:18.506Z"
   },
   {
    "duration": 7,
    "start_time": "2022-10-25T16:04:52.890Z"
   },
   {
    "duration": 6,
    "start_time": "2022-10-25T16:05:25.318Z"
   },
   {
    "duration": 8,
    "start_time": "2022-10-25T16:06:46.557Z"
   },
   {
    "duration": 11,
    "start_time": "2022-10-25T16:07:18.379Z"
   },
   {
    "duration": 30,
    "start_time": "2022-10-25T16:09:14.051Z"
   },
   {
    "duration": 28,
    "start_time": "2022-10-25T16:10:13.761Z"
   },
   {
    "duration": 32,
    "start_time": "2022-10-25T16:10:37.157Z"
   },
   {
    "duration": 31,
    "start_time": "2022-10-25T16:11:05.483Z"
   },
   {
    "duration": 7,
    "start_time": "2022-10-25T16:12:10.453Z"
   },
   {
    "duration": 6,
    "start_time": "2022-10-25T16:12:18.394Z"
   },
   {
    "duration": 6,
    "start_time": "2022-10-25T16:15:33.278Z"
   },
   {
    "duration": 5,
    "start_time": "2022-10-25T16:15:35.522Z"
   },
   {
    "duration": 11,
    "start_time": "2022-10-25T16:16:18.370Z"
   },
   {
    "duration": 8,
    "start_time": "2022-10-25T16:16:31.831Z"
   },
   {
    "duration": 9,
    "start_time": "2022-10-25T16:16:35.809Z"
   },
   {
    "duration": 10,
    "start_time": "2022-10-25T16:16:46.331Z"
   },
   {
    "duration": 12,
    "start_time": "2022-10-25T16:17:55.722Z"
   },
   {
    "duration": 16,
    "start_time": "2022-10-25T16:18:13.928Z"
   },
   {
    "duration": 12,
    "start_time": "2022-10-25T16:18:31.682Z"
   },
   {
    "duration": 13,
    "start_time": "2022-10-25T16:18:38.370Z"
   },
   {
    "duration": 13,
    "start_time": "2022-10-25T16:18:47.146Z"
   },
   {
    "duration": 19,
    "start_time": "2022-10-25T16:18:53.917Z"
   },
   {
    "duration": 11,
    "start_time": "2022-10-25T16:20:01.127Z"
   },
   {
    "duration": 13,
    "start_time": "2022-10-25T16:20:26.245Z"
   },
   {
    "duration": 12,
    "start_time": "2022-10-25T16:23:41.832Z"
   },
   {
    "duration": 11,
    "start_time": "2022-10-25T16:23:45.958Z"
   },
   {
    "duration": 43,
    "start_time": "2022-10-25T16:26:19.084Z"
   },
   {
    "duration": 12,
    "start_time": "2022-10-25T16:28:06.241Z"
   },
   {
    "duration": 14,
    "start_time": "2022-10-25T16:28:25.888Z"
   },
   {
    "duration": 13,
    "start_time": "2022-10-25T16:28:33.567Z"
   },
   {
    "duration": 12,
    "start_time": "2022-10-25T16:28:38.187Z"
   },
   {
    "duration": 13,
    "start_time": "2022-10-25T16:33:26.711Z"
   },
   {
    "duration": 11,
    "start_time": "2022-10-25T16:33:33.015Z"
   },
   {
    "duration": 76,
    "start_time": "2022-10-25T16:35:12.889Z"
   },
   {
    "duration": 15,
    "start_time": "2022-10-25T16:35:12.967Z"
   },
   {
    "duration": 15,
    "start_time": "2022-10-25T16:35:12.983Z"
   },
   {
    "duration": 9,
    "start_time": "2022-10-25T16:35:13.000Z"
   },
   {
    "duration": 51,
    "start_time": "2022-10-25T16:35:13.010Z"
   },
   {
    "duration": 4,
    "start_time": "2022-10-25T16:35:13.062Z"
   },
   {
    "duration": 10,
    "start_time": "2022-10-25T16:35:13.067Z"
   },
   {
    "duration": 4,
    "start_time": "2022-10-25T16:35:13.079Z"
   },
   {
    "duration": 8,
    "start_time": "2022-10-25T16:35:13.084Z"
   },
   {
    "duration": 5,
    "start_time": "2022-10-25T16:35:13.096Z"
   },
   {
    "duration": 62,
    "start_time": "2022-10-25T16:35:13.102Z"
   },
   {
    "duration": 9,
    "start_time": "2022-10-25T16:35:13.165Z"
   },
   {
    "duration": 5,
    "start_time": "2022-10-25T16:35:13.176Z"
   },
   {
    "duration": 11,
    "start_time": "2022-10-25T16:35:13.183Z"
   },
   {
    "duration": 17,
    "start_time": "2022-10-25T16:35:13.196Z"
   },
   {
    "duration": 37,
    "start_time": "2022-10-25T16:35:13.215Z"
   },
   {
    "duration": 4,
    "start_time": "2022-10-25T16:35:13.253Z"
   },
   {
    "duration": 11,
    "start_time": "2022-10-25T16:35:13.259Z"
   },
   {
    "duration": 6,
    "start_time": "2022-10-25T16:35:13.271Z"
   },
   {
    "duration": 5,
    "start_time": "2022-10-25T16:35:13.278Z"
   },
   {
    "duration": 12,
    "start_time": "2022-10-25T16:35:13.284Z"
   },
   {
    "duration": 4,
    "start_time": "2022-10-25T16:35:13.297Z"
   },
   {
    "duration": 8,
    "start_time": "2022-10-25T16:35:13.302Z"
   },
   {
    "duration": 6,
    "start_time": "2022-10-25T16:35:13.339Z"
   },
   {
    "duration": 8,
    "start_time": "2022-10-25T16:35:13.347Z"
   },
   {
    "duration": 6,
    "start_time": "2022-10-25T16:35:13.356Z"
   },
   {
    "duration": 18,
    "start_time": "2022-10-25T16:35:13.363Z"
   },
   {
    "duration": 7,
    "start_time": "2022-10-25T16:35:13.385Z"
   },
   {
    "duration": 11,
    "start_time": "2022-10-25T16:35:13.393Z"
   },
   {
    "duration": 38,
    "start_time": "2022-10-25T16:35:13.406Z"
   },
   {
    "duration": 46,
    "start_time": "2022-10-25T16:35:13.446Z"
   },
   {
    "duration": 12,
    "start_time": "2022-10-25T16:35:13.493Z"
   },
   {
    "duration": 10,
    "start_time": "2022-10-25T16:35:13.506Z"
   },
   {
    "duration": 8,
    "start_time": "2022-10-25T16:55:04.908Z"
   },
   {
    "duration": 35,
    "start_time": "2022-10-25T16:56:18.786Z"
   },
   {
    "duration": 10,
    "start_time": "2022-10-25T16:56:58.699Z"
   },
   {
    "duration": 32,
    "start_time": "2022-10-25T17:05:03.207Z"
   },
   {
    "duration": 30,
    "start_time": "2022-10-25T17:06:32.100Z"
   },
   {
    "duration": 20,
    "start_time": "2022-10-25T17:17:45.919Z"
   },
   {
    "duration": 360,
    "start_time": "2022-10-25T17:18:10.492Z"
   },
   {
    "duration": 6,
    "start_time": "2022-10-25T17:18:51.263Z"
   },
   {
    "duration": 9,
    "start_time": "2022-10-25T17:19:13.375Z"
   },
   {
    "duration": 6,
    "start_time": "2022-10-25T17:20:15.195Z"
   },
   {
    "duration": 9,
    "start_time": "2022-10-25T17:20:31.949Z"
   },
   {
    "duration": 12,
    "start_time": "2022-10-25T17:21:41.287Z"
   },
   {
    "duration": 18,
    "start_time": "2022-10-25T17:23:19.661Z"
   },
   {
    "duration": 30,
    "start_time": "2022-10-25T17:23:23.453Z"
   },
   {
    "duration": 25,
    "start_time": "2022-10-25T17:23:51.150Z"
   },
   {
    "duration": 30,
    "start_time": "2022-10-25T17:24:00.553Z"
   },
   {
    "duration": 26,
    "start_time": "2022-10-25T17:24:30.015Z"
   },
   {
    "duration": 20,
    "start_time": "2022-10-25T17:28:23.907Z"
   },
   {
    "duration": 25,
    "start_time": "2022-10-25T17:28:51.403Z"
   },
   {
    "duration": 46,
    "start_time": "2022-10-25T17:35:35.093Z"
   },
   {
    "duration": 24,
    "start_time": "2022-10-25T17:36:56.240Z"
   },
   {
    "duration": 25,
    "start_time": "2022-10-25T17:37:40.014Z"
   },
   {
    "duration": 25,
    "start_time": "2022-10-25T17:38:02.745Z"
   },
   {
    "duration": 21,
    "start_time": "2022-10-25T17:38:58.445Z"
   },
   {
    "duration": 29,
    "start_time": "2022-10-25T17:39:05.899Z"
   },
   {
    "duration": 20,
    "start_time": "2022-10-25T17:40:11.057Z"
   },
   {
    "duration": 22,
    "start_time": "2022-10-25T17:40:16.342Z"
   },
   {
    "duration": 18,
    "start_time": "2022-10-25T17:40:18.120Z"
   },
   {
    "duration": 16,
    "start_time": "2022-10-25T17:40:24.244Z"
   },
   {
    "duration": 19,
    "start_time": "2022-10-25T17:40:38.720Z"
   },
   {
    "duration": 17,
    "start_time": "2022-10-25T17:40:42.783Z"
   },
   {
    "duration": 19,
    "start_time": "2022-10-25T17:40:47.957Z"
   },
   {
    "duration": 27,
    "start_time": "2022-10-25T17:41:03.516Z"
   },
   {
    "duration": 20,
    "start_time": "2022-10-25T17:41:06.049Z"
   },
   {
    "duration": 17,
    "start_time": "2022-10-25T17:41:14.413Z"
   },
   {
    "duration": 28,
    "start_time": "2022-10-25T17:41:16.684Z"
   },
   {
    "duration": 28,
    "start_time": "2022-10-25T17:41:28.148Z"
   },
   {
    "duration": 26,
    "start_time": "2022-10-25T17:41:33.847Z"
   },
   {
    "duration": 77,
    "start_time": "2022-10-25T17:43:43.567Z"
   },
   {
    "duration": 16,
    "start_time": "2022-10-25T17:43:43.646Z"
   },
   {
    "duration": 16,
    "start_time": "2022-10-25T17:43:43.664Z"
   },
   {
    "duration": 11,
    "start_time": "2022-10-25T17:43:43.682Z"
   },
   {
    "duration": 64,
    "start_time": "2022-10-25T17:43:43.694Z"
   },
   {
    "duration": 4,
    "start_time": "2022-10-25T17:43:43.760Z"
   },
   {
    "duration": 12,
    "start_time": "2022-10-25T17:43:43.765Z"
   },
   {
    "duration": 4,
    "start_time": "2022-10-25T17:43:43.778Z"
   },
   {
    "duration": 7,
    "start_time": "2022-10-25T17:43:43.783Z"
   },
   {
    "duration": 8,
    "start_time": "2022-10-25T17:43:43.792Z"
   },
   {
    "duration": 55,
    "start_time": "2022-10-25T17:43:43.801Z"
   },
   {
    "duration": 8,
    "start_time": "2022-10-25T17:43:43.858Z"
   },
   {
    "duration": 5,
    "start_time": "2022-10-25T17:43:43.867Z"
   },
   {
    "duration": 13,
    "start_time": "2022-10-25T17:43:43.873Z"
   },
   {
    "duration": 19,
    "start_time": "2022-10-25T17:43:43.888Z"
   },
   {
    "duration": 37,
    "start_time": "2022-10-25T17:43:43.908Z"
   },
   {
    "duration": 5,
    "start_time": "2022-10-25T17:43:43.946Z"
   },
   {
    "duration": 11,
    "start_time": "2022-10-25T17:43:43.953Z"
   },
   {
    "duration": 6,
    "start_time": "2022-10-25T17:43:43.965Z"
   },
   {
    "duration": 4,
    "start_time": "2022-10-25T17:43:43.973Z"
   },
   {
    "duration": 11,
    "start_time": "2022-10-25T17:43:43.978Z"
   },
   {
    "duration": 5,
    "start_time": "2022-10-25T17:43:43.990Z"
   },
   {
    "duration": 43,
    "start_time": "2022-10-25T17:43:43.997Z"
   },
   {
    "duration": 7,
    "start_time": "2022-10-25T17:43:44.042Z"
   },
   {
    "duration": 7,
    "start_time": "2022-10-25T17:43:44.050Z"
   },
   {
    "duration": 7,
    "start_time": "2022-10-25T17:43:44.058Z"
   },
   {
    "duration": 17,
    "start_time": "2022-10-25T17:43:44.067Z"
   },
   {
    "duration": 7,
    "start_time": "2022-10-25T17:43:44.086Z"
   },
   {
    "duration": 45,
    "start_time": "2022-10-25T17:43:44.094Z"
   },
   {
    "duration": 32,
    "start_time": "2022-10-25T17:43:44.141Z"
   },
   {
    "duration": 13,
    "start_time": "2022-10-25T17:43:44.175Z"
   },
   {
    "duration": 11,
    "start_time": "2022-10-25T17:43:44.189Z"
   },
   {
    "duration": 53,
    "start_time": "2022-10-25T17:43:44.201Z"
   },
   {
    "duration": 27,
    "start_time": "2022-10-25T17:43:44.256Z"
   },
   {
    "duration": 432,
    "start_time": "2022-10-26T19:25:56.387Z"
   },
   {
    "duration": 22,
    "start_time": "2022-10-26T19:25:56.820Z"
   },
   {
    "duration": 13,
    "start_time": "2022-10-26T19:25:56.844Z"
   },
   {
    "duration": 9,
    "start_time": "2022-10-26T19:25:56.859Z"
   },
   {
    "duration": 34,
    "start_time": "2022-10-26T19:25:56.869Z"
   },
   {
    "duration": 3,
    "start_time": "2022-10-26T19:25:56.905Z"
   },
   {
    "duration": 24,
    "start_time": "2022-10-26T19:25:56.910Z"
   },
   {
    "duration": 8,
    "start_time": "2022-10-26T19:25:56.936Z"
   },
   {
    "duration": 8,
    "start_time": "2022-10-26T19:25:56.945Z"
   },
   {
    "duration": 5,
    "start_time": "2022-10-26T19:25:56.957Z"
   },
   {
    "duration": 35,
    "start_time": "2022-10-26T19:25:56.964Z"
   },
   {
    "duration": 36,
    "start_time": "2022-10-26T19:25:57.001Z"
   },
   {
    "duration": 4,
    "start_time": "2022-10-26T19:25:57.039Z"
   },
   {
    "duration": 12,
    "start_time": "2022-10-26T19:25:57.045Z"
   },
   {
    "duration": 23,
    "start_time": "2022-10-26T19:25:57.059Z"
   },
   {
    "duration": 19,
    "start_time": "2022-10-26T19:25:57.084Z"
   },
   {
    "duration": 31,
    "start_time": "2022-10-26T19:25:57.104Z"
   },
   {
    "duration": 14,
    "start_time": "2022-10-26T19:25:57.137Z"
   },
   {
    "duration": 10,
    "start_time": "2022-10-26T19:25:57.153Z"
   },
   {
    "duration": 7,
    "start_time": "2022-10-26T19:25:57.164Z"
   },
   {
    "duration": 13,
    "start_time": "2022-10-26T19:25:57.173Z"
   },
   {
    "duration": 7,
    "start_time": "2022-10-26T19:25:57.188Z"
   },
   {
    "duration": 11,
    "start_time": "2022-10-26T19:25:57.197Z"
   },
   {
    "duration": 23,
    "start_time": "2022-10-26T19:25:57.210Z"
   },
   {
    "duration": 8,
    "start_time": "2022-10-26T19:25:57.235Z"
   },
   {
    "duration": 6,
    "start_time": "2022-10-26T19:25:57.245Z"
   },
   {
    "duration": 21,
    "start_time": "2022-10-26T19:25:57.253Z"
   },
   {
    "duration": 6,
    "start_time": "2022-10-26T19:25:57.277Z"
   },
   {
    "duration": 13,
    "start_time": "2022-10-26T19:25:57.285Z"
   },
   {
    "duration": 62,
    "start_time": "2022-10-26T19:25:57.299Z"
   },
   {
    "duration": 11,
    "start_time": "2022-10-26T19:25:57.363Z"
   },
   {
    "duration": 11,
    "start_time": "2022-10-26T19:25:57.376Z"
   },
   {
    "duration": 51,
    "start_time": "2022-10-26T19:25:57.388Z"
   },
   {
    "duration": 24,
    "start_time": "2022-10-26T19:25:57.441Z"
   }
  ],
  "colab": {
   "name": "dpp_template_part2.ipynb",
   "provenance": []
  },
  "kernelspec": {
   "display_name": "Python 3 (ipykernel)",
   "language": "python",
   "name": "python3"
  },
  "language_info": {
   "codemirror_mode": {
    "name": "ipython",
    "version": 3
   },
   "file_extension": ".py",
   "mimetype": "text/x-python",
   "name": "python",
   "nbconvert_exporter": "python",
   "pygments_lexer": "ipython3",
   "version": "3.9.12"
  },
  "toc": {
   "base_numbering": 1,
   "nav_menu": {},
   "number_sections": true,
   "sideBar": true,
   "skip_h1_title": true,
   "title_cell": "Table of Contents",
   "title_sidebar": "Contents",
   "toc_cell": false,
   "toc_position": {},
   "toc_section_display": true,
   "toc_window_display": false
  }
 },
 "nbformat": 4,
 "nbformat_minor": 5
}
