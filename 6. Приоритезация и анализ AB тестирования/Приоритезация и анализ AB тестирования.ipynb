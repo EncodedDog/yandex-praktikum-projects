{
 "cells": [
  {
   "cell_type": "markdown",
   "metadata": {},
   "source": [
    "<h2>Общие вводные</h2>"
   ]
  },
  {
   "cell_type": "markdown",
   "metadata": {},
   "source": [
    "Основные данные для проекта: гипотезы с набором параметрои и датасет с информацией об A/B тестировании заказов."
   ]
  },
  {
   "cell_type": "markdown",
   "metadata": {},
   "source": [
    "Цель нашего проекта представлена двумя основными целями:\n",
    "1. проритизировать гипотезы по фреймворкам ICE и RICE, объяснить сложившуюся разницу\n",
    "2. Провести анализ A/B-тест заказов сделать выводы об их разницу"
   ]
  },
  {
   "cell_type": "markdown",
   "metadata": {},
   "source": [
    "Проект будет разделен на 2 части:\n",
    "1. \"Приоритизация\" гипотез\"\n",
    "2. Анализ A/B теста"
   ]
  },
  {
   "cell_type": "code",
   "execution_count": 1,
   "metadata": {},
   "outputs": [],
   "source": [
    "#импортируем необходимые библиотеки\n",
    "import pandas as pd\n",
    "import scipy.stats as stats\n",
    "import datetime as dt\n",
    "import numpy as np\n",
    "import matplotlib.pyplot as plt\n",
    "from pandas.plotting import register_matplotlib_converters\n",
    "import warnings\n",
    "# конвертеры, которые позволяют использовать типы pandas в matplotlib  \n",
    "register_matplotlib_converters()"
   ]
  },
  {
   "cell_type": "markdown",
   "metadata": {},
   "source": [
    "<h2>Приоритизация гипотез</h2>"
   ]
  },
  {
   "cell_type": "markdown",
   "metadata": {},
   "source": [
    "Основной список задач:\n",
    "- Применить фреймворк <b>ICE</b> для приоритизации гипотез. Отсортировать их по убыванию приоритета.\n",
    "- Примените фреймворк <b>RICE</b> для приоритизации гипотез. Отсортировать их по убыванию приоритета.\n",
    "- Указать, как изменилась приоритизация гипотез при применении RICE вместо ICE. Объяснить, почему так произошло."
   ]
  },
  {
   "cell_type": "code",
   "execution_count": 2,
   "metadata": {},
   "outputs": [],
   "source": [
    "#загружаем данные\n",
    "try:\n",
    "    hypothesis = pd.read_csv('/datasets/hypothesis.csv')\n",
    "except:\n",
    "    \"Ошибка загрузки файла\""
   ]
  },
  {
   "cell_type": "markdown",
   "metadata": {},
   "source": [
    "<h3>Приоритизация гипотез через фреймворк ICE</h3>"
   ]
  },
  {
   "cell_type": "markdown",
   "metadata": {},
   "source": [
    "Фреймворк ICE рассчитывается как:  \n",
    "$$ICE = \\frac{Impact * Confidence}{Efforts}$$"
   ]
  },
  {
   "cell_type": "code",
   "execution_count": 3,
   "metadata": {},
   "outputs": [],
   "source": [
    "#расширим колонки\n",
    "pd.options.display.max_colwidth = None"
   ]
  },
  {
   "cell_type": "code",
   "execution_count": 4,
   "metadata": {},
   "outputs": [
    {
     "data": {
      "text/html": [
       "<div>\n",
       "<style scoped>\n",
       "    .dataframe tbody tr th:only-of-type {\n",
       "        vertical-align: middle;\n",
       "    }\n",
       "\n",
       "    .dataframe tbody tr th {\n",
       "        vertical-align: top;\n",
       "    }\n",
       "\n",
       "    .dataframe thead th {\n",
       "        text-align: right;\n",
       "    }\n",
       "</style>\n",
       "<table border=\"1\" class=\"dataframe\">\n",
       "  <thead>\n",
       "    <tr style=\"text-align: right;\">\n",
       "      <th></th>\n",
       "      <th>Hypothesis</th>\n",
       "      <th>Reach</th>\n",
       "      <th>Impact</th>\n",
       "      <th>Confidence</th>\n",
       "      <th>Efforts</th>\n",
       "    </tr>\n",
       "  </thead>\n",
       "  <tbody>\n",
       "    <tr>\n",
       "      <th>0</th>\n",
       "      <td>Добавить два новых канала привлечения трафика, что позволит привлекать на 30% больше пользователей</td>\n",
       "      <td>3</td>\n",
       "      <td>10</td>\n",
       "      <td>8</td>\n",
       "      <td>6</td>\n",
       "    </tr>\n",
       "    <tr>\n",
       "      <th>1</th>\n",
       "      <td>Запустить собственную службу доставки, что сократит срок доставки заказов</td>\n",
       "      <td>2</td>\n",
       "      <td>5</td>\n",
       "      <td>4</td>\n",
       "      <td>10</td>\n",
       "    </tr>\n",
       "    <tr>\n",
       "      <th>2</th>\n",
       "      <td>Добавить блоки рекомендаций товаров на сайт интернет магазина, чтобы повысить конверсию и средний чек заказа</td>\n",
       "      <td>8</td>\n",
       "      <td>3</td>\n",
       "      <td>7</td>\n",
       "      <td>3</td>\n",
       "    </tr>\n",
       "    <tr>\n",
       "      <th>3</th>\n",
       "      <td>Изменить структура категорий, что увеличит конверсию, т.к. пользователи быстрее найдут нужный товар</td>\n",
       "      <td>8</td>\n",
       "      <td>3</td>\n",
       "      <td>3</td>\n",
       "      <td>8</td>\n",
       "    </tr>\n",
       "    <tr>\n",
       "      <th>4</th>\n",
       "      <td>Изменить цвет фона главной страницы, чтобы увеличить вовлеченность пользователей</td>\n",
       "      <td>3</td>\n",
       "      <td>1</td>\n",
       "      <td>1</td>\n",
       "      <td>1</td>\n",
       "    </tr>\n",
       "    <tr>\n",
       "      <th>5</th>\n",
       "      <td>Добавить страницу отзывов клиентов о магазине, что позволит увеличить количество заказов</td>\n",
       "      <td>3</td>\n",
       "      <td>2</td>\n",
       "      <td>2</td>\n",
       "      <td>3</td>\n",
       "    </tr>\n",
       "    <tr>\n",
       "      <th>6</th>\n",
       "      <td>Показать на главной странице баннеры с актуальными акциями и распродажами, чтобы увеличить конверсию</td>\n",
       "      <td>5</td>\n",
       "      <td>3</td>\n",
       "      <td>8</td>\n",
       "      <td>3</td>\n",
       "    </tr>\n",
       "    <tr>\n",
       "      <th>7</th>\n",
       "      <td>Добавить форму подписки на все основные страницы, чтобы собрать базу клиентов для email-рассылок</td>\n",
       "      <td>10</td>\n",
       "      <td>7</td>\n",
       "      <td>8</td>\n",
       "      <td>5</td>\n",
       "    </tr>\n",
       "    <tr>\n",
       "      <th>8</th>\n",
       "      <td>Запустить акцию, дающую скидку на товар в день рождения</td>\n",
       "      <td>1</td>\n",
       "      <td>9</td>\n",
       "      <td>9</td>\n",
       "      <td>5</td>\n",
       "    </tr>\n",
       "  </tbody>\n",
       "</table>\n",
       "</div>"
      ],
      "text/plain": [
       "                                                                                                     Hypothesis  \\\n",
       "0            Добавить два новых канала привлечения трафика, что позволит привлекать на 30% больше пользователей   \n",
       "1                                     Запустить собственную службу доставки, что сократит срок доставки заказов   \n",
       "2  Добавить блоки рекомендаций товаров на сайт интернет магазина, чтобы повысить конверсию и средний чек заказа   \n",
       "3           Изменить структура категорий, что увеличит конверсию, т.к. пользователи быстрее найдут нужный товар   \n",
       "4                              Изменить цвет фона главной страницы, чтобы увеличить вовлеченность пользователей   \n",
       "5                      Добавить страницу отзывов клиентов о магазине, что позволит увеличить количество заказов   \n",
       "6          Показать на главной странице баннеры с актуальными акциями и распродажами, чтобы увеличить конверсию   \n",
       "7              Добавить форму подписки на все основные страницы, чтобы собрать базу клиентов для email-рассылок   \n",
       "8                                                       Запустить акцию, дающую скидку на товар в день рождения   \n",
       "\n",
       "   Reach  Impact  Confidence  Efforts  \n",
       "0      3      10           8        6  \n",
       "1      2       5           4       10  \n",
       "2      8       3           7        3  \n",
       "3      8       3           3        8  \n",
       "4      3       1           1        1  \n",
       "5      3       2           2        3  \n",
       "6      5       3           8        3  \n",
       "7     10       7           8        5  \n",
       "8      1       9           9        5  "
      ]
     },
     "execution_count": 4,
     "metadata": {},
     "output_type": "execute_result"
    }
   ],
   "source": [
    "hypothesis"
   ]
  },
  {
   "cell_type": "code",
   "execution_count": 5,
   "metadata": {},
   "outputs": [],
   "source": [
    "hypothesis['ICE'] = round((hypothesis['Impact'] * hypothesis['Confidence']) / hypothesis['Efforts'], 2)"
   ]
  },
  {
   "cell_type": "code",
   "execution_count": 6,
   "metadata": {},
   "outputs": [
    {
     "data": {
      "text/html": [
       "<div>\n",
       "<style scoped>\n",
       "    .dataframe tbody tr th:only-of-type {\n",
       "        vertical-align: middle;\n",
       "    }\n",
       "\n",
       "    .dataframe tbody tr th {\n",
       "        vertical-align: top;\n",
       "    }\n",
       "\n",
       "    .dataframe thead th {\n",
       "        text-align: right;\n",
       "    }\n",
       "</style>\n",
       "<table border=\"1\" class=\"dataframe\">\n",
       "  <thead>\n",
       "    <tr style=\"text-align: right;\">\n",
       "      <th></th>\n",
       "      <th>Hypothesis</th>\n",
       "      <th>Reach</th>\n",
       "      <th>Impact</th>\n",
       "      <th>Confidence</th>\n",
       "      <th>Efforts</th>\n",
       "      <th>ICE</th>\n",
       "    </tr>\n",
       "  </thead>\n",
       "  <tbody>\n",
       "    <tr>\n",
       "      <th>8</th>\n",
       "      <td>Запустить акцию, дающую скидку на товар в день рождения</td>\n",
       "      <td>1</td>\n",
       "      <td>9</td>\n",
       "      <td>9</td>\n",
       "      <td>5</td>\n",
       "      <td>16.20</td>\n",
       "    </tr>\n",
       "    <tr>\n",
       "      <th>0</th>\n",
       "      <td>Добавить два новых канала привлечения трафика, что позволит привлекать на 30% больше пользователей</td>\n",
       "      <td>3</td>\n",
       "      <td>10</td>\n",
       "      <td>8</td>\n",
       "      <td>6</td>\n",
       "      <td>13.33</td>\n",
       "    </tr>\n",
       "    <tr>\n",
       "      <th>7</th>\n",
       "      <td>Добавить форму подписки на все основные страницы, чтобы собрать базу клиентов для email-рассылок</td>\n",
       "      <td>10</td>\n",
       "      <td>7</td>\n",
       "      <td>8</td>\n",
       "      <td>5</td>\n",
       "      <td>11.20</td>\n",
       "    </tr>\n",
       "    <tr>\n",
       "      <th>6</th>\n",
       "      <td>Показать на главной странице баннеры с актуальными акциями и распродажами, чтобы увеличить конверсию</td>\n",
       "      <td>5</td>\n",
       "      <td>3</td>\n",
       "      <td>8</td>\n",
       "      <td>3</td>\n",
       "      <td>8.00</td>\n",
       "    </tr>\n",
       "    <tr>\n",
       "      <th>2</th>\n",
       "      <td>Добавить блоки рекомендаций товаров на сайт интернет магазина, чтобы повысить конверсию и средний чек заказа</td>\n",
       "      <td>8</td>\n",
       "      <td>3</td>\n",
       "      <td>7</td>\n",
       "      <td>3</td>\n",
       "      <td>7.00</td>\n",
       "    </tr>\n",
       "    <tr>\n",
       "      <th>1</th>\n",
       "      <td>Запустить собственную службу доставки, что сократит срок доставки заказов</td>\n",
       "      <td>2</td>\n",
       "      <td>5</td>\n",
       "      <td>4</td>\n",
       "      <td>10</td>\n",
       "      <td>2.00</td>\n",
       "    </tr>\n",
       "    <tr>\n",
       "      <th>5</th>\n",
       "      <td>Добавить страницу отзывов клиентов о магазине, что позволит увеличить количество заказов</td>\n",
       "      <td>3</td>\n",
       "      <td>2</td>\n",
       "      <td>2</td>\n",
       "      <td>3</td>\n",
       "      <td>1.33</td>\n",
       "    </tr>\n",
       "    <tr>\n",
       "      <th>3</th>\n",
       "      <td>Изменить структура категорий, что увеличит конверсию, т.к. пользователи быстрее найдут нужный товар</td>\n",
       "      <td>8</td>\n",
       "      <td>3</td>\n",
       "      <td>3</td>\n",
       "      <td>8</td>\n",
       "      <td>1.12</td>\n",
       "    </tr>\n",
       "    <tr>\n",
       "      <th>4</th>\n",
       "      <td>Изменить цвет фона главной страницы, чтобы увеличить вовлеченность пользователей</td>\n",
       "      <td>3</td>\n",
       "      <td>1</td>\n",
       "      <td>1</td>\n",
       "      <td>1</td>\n",
       "      <td>1.00</td>\n",
       "    </tr>\n",
       "  </tbody>\n",
       "</table>\n",
       "</div>"
      ],
      "text/plain": [
       "                                                                                                     Hypothesis  \\\n",
       "8                                                       Запустить акцию, дающую скидку на товар в день рождения   \n",
       "0            Добавить два новых канала привлечения трафика, что позволит привлекать на 30% больше пользователей   \n",
       "7              Добавить форму подписки на все основные страницы, чтобы собрать базу клиентов для email-рассылок   \n",
       "6          Показать на главной странице баннеры с актуальными акциями и распродажами, чтобы увеличить конверсию   \n",
       "2  Добавить блоки рекомендаций товаров на сайт интернет магазина, чтобы повысить конверсию и средний чек заказа   \n",
       "1                                     Запустить собственную службу доставки, что сократит срок доставки заказов   \n",
       "5                      Добавить страницу отзывов клиентов о магазине, что позволит увеличить количество заказов   \n",
       "3           Изменить структура категорий, что увеличит конверсию, т.к. пользователи быстрее найдут нужный товар   \n",
       "4                              Изменить цвет фона главной страницы, чтобы увеличить вовлеченность пользователей   \n",
       "\n",
       "   Reach  Impact  Confidence  Efforts    ICE  \n",
       "8      1       9           9        5  16.20  \n",
       "0      3      10           8        6  13.33  \n",
       "7     10       7           8        5  11.20  \n",
       "6      5       3           8        3   8.00  \n",
       "2      8       3           7        3   7.00  \n",
       "1      2       5           4       10   2.00  \n",
       "5      3       2           2        3   1.33  \n",
       "3      8       3           3        8   1.12  \n",
       "4      3       1           1        1   1.00  "
      ]
     },
     "execution_count": 6,
     "metadata": {},
     "output_type": "execute_result"
    }
   ],
   "source": [
    "hypothesis.sort_values('ICE', ascending=False)"
   ]
  },
  {
   "cell_type": "markdown",
   "metadata": {},
   "source": [
    "Согласно оценке фреймворка ICE, первым делом стоит начать с гипотезы:\n",
    "> Запустить акцию, дающую скидку на товар в день рождения"
   ]
  },
  {
   "cell_type": "markdown",
   "metadata": {},
   "source": [
    "<h3>Приоритизация гипотез через фреймворк RICE</h3>"
   ]
  },
  {
   "cell_type": "markdown",
   "metadata": {},
   "source": [
    "Фреймворк RICE рассчитывается как:\n",
    "$$RICE = \\frac{Reach * Impact * Confidence}{Efforts}$$"
   ]
  },
  {
   "cell_type": "code",
   "execution_count": 7,
   "metadata": {},
   "outputs": [],
   "source": [
    "hypothesis['RICE'] = round((hypothesis['Impact'] * hypothesis['Confidence'] * hypothesis['Reach']) / hypothesis['Efforts'], 2)"
   ]
  },
  {
   "cell_type": "code",
   "execution_count": 8,
   "metadata": {},
   "outputs": [
    {
     "data": {
      "text/html": [
       "<div>\n",
       "<style scoped>\n",
       "    .dataframe tbody tr th:only-of-type {\n",
       "        vertical-align: middle;\n",
       "    }\n",
       "\n",
       "    .dataframe tbody tr th {\n",
       "        vertical-align: top;\n",
       "    }\n",
       "\n",
       "    .dataframe thead th {\n",
       "        text-align: right;\n",
       "    }\n",
       "</style>\n",
       "<table border=\"1\" class=\"dataframe\">\n",
       "  <thead>\n",
       "    <tr style=\"text-align: right;\">\n",
       "      <th></th>\n",
       "      <th>Hypothesis</th>\n",
       "      <th>Reach</th>\n",
       "      <th>Impact</th>\n",
       "      <th>Confidence</th>\n",
       "      <th>Efforts</th>\n",
       "      <th>ICE</th>\n",
       "      <th>RICE</th>\n",
       "    </tr>\n",
       "  </thead>\n",
       "  <tbody>\n",
       "    <tr>\n",
       "      <th>7</th>\n",
       "      <td>Добавить форму подписки на все основные страницы, чтобы собрать базу клиентов для email-рассылок</td>\n",
       "      <td>10</td>\n",
       "      <td>7</td>\n",
       "      <td>8</td>\n",
       "      <td>5</td>\n",
       "      <td>11.20</td>\n",
       "      <td>112.0</td>\n",
       "    </tr>\n",
       "    <tr>\n",
       "      <th>2</th>\n",
       "      <td>Добавить блоки рекомендаций товаров на сайт интернет магазина, чтобы повысить конверсию и средний чек заказа</td>\n",
       "      <td>8</td>\n",
       "      <td>3</td>\n",
       "      <td>7</td>\n",
       "      <td>3</td>\n",
       "      <td>7.00</td>\n",
       "      <td>56.0</td>\n",
       "    </tr>\n",
       "    <tr>\n",
       "      <th>0</th>\n",
       "      <td>Добавить два новых канала привлечения трафика, что позволит привлекать на 30% больше пользователей</td>\n",
       "      <td>3</td>\n",
       "      <td>10</td>\n",
       "      <td>8</td>\n",
       "      <td>6</td>\n",
       "      <td>13.33</td>\n",
       "      <td>40.0</td>\n",
       "    </tr>\n",
       "    <tr>\n",
       "      <th>6</th>\n",
       "      <td>Показать на главной странице баннеры с актуальными акциями и распродажами, чтобы увеличить конверсию</td>\n",
       "      <td>5</td>\n",
       "      <td>3</td>\n",
       "      <td>8</td>\n",
       "      <td>3</td>\n",
       "      <td>8.00</td>\n",
       "      <td>40.0</td>\n",
       "    </tr>\n",
       "    <tr>\n",
       "      <th>8</th>\n",
       "      <td>Запустить акцию, дающую скидку на товар в день рождения</td>\n",
       "      <td>1</td>\n",
       "      <td>9</td>\n",
       "      <td>9</td>\n",
       "      <td>5</td>\n",
       "      <td>16.20</td>\n",
       "      <td>16.2</td>\n",
       "    </tr>\n",
       "    <tr>\n",
       "      <th>3</th>\n",
       "      <td>Изменить структура категорий, что увеличит конверсию, т.к. пользователи быстрее найдут нужный товар</td>\n",
       "      <td>8</td>\n",
       "      <td>3</td>\n",
       "      <td>3</td>\n",
       "      <td>8</td>\n",
       "      <td>1.12</td>\n",
       "      <td>9.0</td>\n",
       "    </tr>\n",
       "    <tr>\n",
       "      <th>1</th>\n",
       "      <td>Запустить собственную службу доставки, что сократит срок доставки заказов</td>\n",
       "      <td>2</td>\n",
       "      <td>5</td>\n",
       "      <td>4</td>\n",
       "      <td>10</td>\n",
       "      <td>2.00</td>\n",
       "      <td>4.0</td>\n",
       "    </tr>\n",
       "    <tr>\n",
       "      <th>5</th>\n",
       "      <td>Добавить страницу отзывов клиентов о магазине, что позволит увеличить количество заказов</td>\n",
       "      <td>3</td>\n",
       "      <td>2</td>\n",
       "      <td>2</td>\n",
       "      <td>3</td>\n",
       "      <td>1.33</td>\n",
       "      <td>4.0</td>\n",
       "    </tr>\n",
       "    <tr>\n",
       "      <th>4</th>\n",
       "      <td>Изменить цвет фона главной страницы, чтобы увеличить вовлеченность пользователей</td>\n",
       "      <td>3</td>\n",
       "      <td>1</td>\n",
       "      <td>1</td>\n",
       "      <td>1</td>\n",
       "      <td>1.00</td>\n",
       "      <td>3.0</td>\n",
       "    </tr>\n",
       "  </tbody>\n",
       "</table>\n",
       "</div>"
      ],
      "text/plain": [
       "                                                                                                     Hypothesis  \\\n",
       "7              Добавить форму подписки на все основные страницы, чтобы собрать базу клиентов для email-рассылок   \n",
       "2  Добавить блоки рекомендаций товаров на сайт интернет магазина, чтобы повысить конверсию и средний чек заказа   \n",
       "0            Добавить два новых канала привлечения трафика, что позволит привлекать на 30% больше пользователей   \n",
       "6          Показать на главной странице баннеры с актуальными акциями и распродажами, чтобы увеличить конверсию   \n",
       "8                                                       Запустить акцию, дающую скидку на товар в день рождения   \n",
       "3           Изменить структура категорий, что увеличит конверсию, т.к. пользователи быстрее найдут нужный товар   \n",
       "1                                     Запустить собственную службу доставки, что сократит срок доставки заказов   \n",
       "5                      Добавить страницу отзывов клиентов о магазине, что позволит увеличить количество заказов   \n",
       "4                              Изменить цвет фона главной страницы, чтобы увеличить вовлеченность пользователей   \n",
       "\n",
       "   Reach  Impact  Confidence  Efforts    ICE   RICE  \n",
       "7     10       7           8        5  11.20  112.0  \n",
       "2      8       3           7        3   7.00   56.0  \n",
       "0      3      10           8        6  13.33   40.0  \n",
       "6      5       3           8        3   8.00   40.0  \n",
       "8      1       9           9        5  16.20   16.2  \n",
       "3      8       3           3        8   1.12    9.0  \n",
       "1      2       5           4       10   2.00    4.0  \n",
       "5      3       2           2        3   1.33    4.0  \n",
       "4      3       1           1        1   1.00    3.0  "
      ]
     },
     "execution_count": 8,
     "metadata": {},
     "output_type": "execute_result"
    }
   ],
   "source": [
    "hypothesis.sort_values('RICE', ascending=False)"
   ]
  },
  {
   "cell_type": "markdown",
   "metadata": {},
   "source": [
    "Выбранная в предыдущем пункте главная гипотеза о скидке на товар на денья рождения сместиласть аж на пятое место."
   ]
  },
  {
   "cell_type": "markdown",
   "metadata": {},
   "source": [
    "Первое место по оценке RICE заняла гипотеза:\n",
    "> Добавить форму подписки на все основные страницы, чтобы собрать базу клиентов для email-рассылок"
   ]
  },
  {
   "cell_type": "markdown",
   "metadata": {},
   "source": [
    "<b>Общий вывод<b>"
   ]
  },
  {
   "cell_type": "markdown",
   "metadata": {},
   "source": [
    "Таким образом мы увидели как добавление компонента Reach во фреймворк изменило ранжирование гипотез. Всё благодаря параметру Reach, который вносит степень охвата.\n",
    "Можно сказать, что из-за высокой степени охвата (Reach-показателя) наша гипотеза о добавлении формы подписки, которая отставала по показателям Impact и Confidence, значительно вырвалась вперед."
   ]
  },
  {
   "cell_type": "markdown",
   "metadata": {},
   "source": [
    "<h2>Анализ A/B тестирования</h2>"
   ]
  },
  {
   "cell_type": "markdown",
   "metadata": {},
   "source": [
    "<h3>Сравнение кумулятивных метрик</h3>"
   ]
  },
  {
   "cell_type": "markdown",
   "metadata": {},
   "source": [
    "Основной список задач:\n",
    "1. Построить график кумулятивной выручки по группам. Сделать выводы и предположения.\n",
    "2. Построить график кумулятивного среднего чека по группам. Сделать выводы и предположения.\n",
    "3. Построить график относительного изменения кумулятивного среднего чека группы B к группе A. Сделать выводы и предположения.\n",
    "4. Построить график кумулятивного среднего количества заказов на посетителя по группам. Сделать выводы и предположения.\n",
    "5. Построить график относительного изменения кумулятивного среднего количества заказов на посетителя группы B к группе A. Сделать выводы и предположения.\n",
    "6. Построить точечный график количества заказов по пользователям. Сделать выводы и предположения.\n",
    "7. Посчитайте 95-й и 99-й перцентили количества заказов на пользователя. Выбрать границу для определения аномальных пользователей.\n",
    "8. Построить точечный график стоимостей заказов. Сделать выводы и предположения.\n",
    "9. Посчитайте 95-й и 99-й перцентили стоимости заказов. Выбрать границу для определения аномальных заказов.\n",
    "10. Посчитайте статистическую значимость различий в среднем количестве заказов на посетителя между группами по «сырым» данным. Сделать выводы и предположения.\n",
    "11. Посчитайте статистическую значимость различий в среднем чеке заказа между группами по «сырым» данным. Сделать выводы и предположения.\n",
    "12. Посчитайте статистическую значимость различий в среднем количестве заказов на посетителя между группами по «очищенным» данным. Сделать выводы и предположения.\n",
    "13. Посчитайте статистическую значимость различий в среднем чеке заказа между группами по «очищенным» данным. Сделать выводы и предположения.\n",
    "14. Принять решение по результатам теста и объясните его"
   ]
  },
  {
   "cell_type": "code",
   "execution_count": 9,
   "metadata": {},
   "outputs": [],
   "source": [
    "#загружаем данные\n",
    "orders = pd.read_csv('/datasets/orders.csv')\n",
    "visitors = pd.read_csv('/datasets/visitors.csv')"
   ]
  },
  {
   "cell_type": "code",
   "execution_count": 10,
   "metadata": {},
   "outputs": [],
   "source": [
    "#преобразовываем даты\n",
    "orders['date'] = orders['date'].map(lambda x: dt.datetime.strptime(x, '%Y-%m-%d'))\n",
    "visitors['date'] = visitors['date'].map(lambda x: dt.datetime.strptime(x, '%Y-%m-%d'))"
   ]
  },
  {
   "cell_type": "code",
   "execution_count": 11,
   "metadata": {},
   "outputs": [],
   "source": [
    "#заменим названия колонок для удобства работы\n",
    "orders.columns = ['orderId', 'userId', 'date', 'revenue', 'group']"
   ]
  },
  {
   "cell_type": "markdown",
   "metadata": {},
   "source": [
    "<h4>Кумулятивная выручка по группам</h4>"
   ]
  },
  {
   "cell_type": "code",
   "execution_count": 12,
   "metadata": {},
   "outputs": [
    {
     "data": {
      "image/png": "[encoded data removed]",
      "text/plain": [
       "<Figure size 432x288 with 1 Axes>"
      ]
     },
     "metadata": {
      "needs_background": "light"
     },
     "output_type": "display_data"
    }
   ],
   "source": [
    "datesGroups = orders[['date','group']].drop_duplicates()\n",
    "\n",
    "ordersAggregated = datesGroups.apply(lambda x: orders[np.logical_and(orders['date'] <= x['date'], orders['group'] == x['group'])]\\\n",
    ".agg({'date' : 'max', 'group' : 'max', 'orderId' : 'nunique', 'userId' : 'nunique', 'revenue' : 'sum'}), axis=1).sort_values(by=['date','group'])\n",
    "\n",
    "visitorsAggregated = datesGroups.apply(lambda x: visitors[np.logical_and(visitors['date'] <= x['date'], visitors['group'] == x['group'])].agg({'date' : 'max', 'group' : 'max', 'visitors' : 'sum'}), axis=1).sort_values(by=['date','group'])\n",
    "\n",
    "# создаем массив уникальных пар значений дат и групп теста\n",
    "datesGroups = orders[['date','group']].drop_duplicates()\n",
    "\n",
    "# получаем агрегированные кумулятивные по дням данные о заказах \n",
    "ordersAggregated = datesGroups.apply(lambda x: orders[np.logical_and(orders['date'] <= x['date'], orders['group'] == x['group'])].agg({'date' : 'max', 'group' : 'max', 'orderId' : 'nunique', 'userId' : 'nunique', 'revenue' : 'sum'}), axis=1).sort_values(by=['date','group'])\n",
    "\n",
    "# получаем агрегированные кумулятивные по дням данные о посетителях интернет-магазина \n",
    "visitorsAggregated = datesGroups.apply(lambda x: visitors[np.logical_and(visitors['date'] <= x['date'], visitors['group'] == x['group'])].agg({'date' : 'max', 'group' : 'max', 'visitors' : 'sum'}), axis=1).sort_values(by=['date','group'])\n",
    "\n",
    "# объединяем кумулятивные данные в одной таблице и присваиваем ее столбцам понятные названия\n",
    "cumulativeData = ordersAggregated.merge(visitorsAggregated, left_on=['date', 'group'], right_on=['date', 'group'])\n",
    "cumulativeData.columns = ['date', 'group', 'orders', 'buyers', 'revenue', 'visitors']\n",
    "\n",
    "# датафрейм с кумулятивным количеством заказов и кумулятивной выручкой по дням в группе А\n",
    "cumulativeRevenueA = cumulativeData[cumulativeData['group']=='A'][['date','revenue', 'orders']]\n",
    "\n",
    "# датафрейм с кумулятивным количеством заказов и кумулятивной выручкой по дням в группе B\n",
    "cumulativeRevenueB = cumulativeData[cumulativeData['group']=='B'][['date','revenue', 'orders']]\n",
    "\n",
    "# Строим график выручки группы А\n",
    "plt.plot(cumulativeRevenueA['date'], cumulativeRevenueA['revenue'], label='A')\n",
    "\n",
    "# Строим график выручки группы B\n",
    "plt.plot(cumulativeRevenueB['date'], cumulativeRevenueB['revenue'], label='B')\n",
    "\n",
    "#разворачиваем подписи по оси X, добавляем подписи\n",
    "plt.xticks(rotation=35)\n",
    "\n",
    "plt.title('Кумулятивная выручка по группам')\n",
    "\n",
    "plt.ylabel('Выручка')\n",
    "\n",
    "plt.legend();"
   ]
  },
  {
   "cell_type": "markdown",
   "metadata": {},
   "source": [
    "\n",
    "Мы видим, что в группе B выручка стабильно больше чем в группе А, однако на графике видно резкий скачок, что может говорить о присутствии аномалий в данных."
   ]
  },
  {
   "cell_type": "markdown",
   "metadata": {},
   "source": [
    "<h4>Кумулятивная среднего чека по группам</h4>"
   ]
  },
  {
   "cell_type": "code",
   "execution_count": 13,
   "metadata": {},
   "outputs": [
    {
     "data": {
      "image/png": "[encoded data removed]",
      "text/plain": [
       "<Figure size 432x288 with 1 Axes>"
      ]
     },
     "metadata": {
      "needs_background": "light"
     },
     "output_type": "display_data"
    }
   ],
   "source": [
    "plt.plot(cumulativeRevenueA['date'], cumulativeRevenueA['revenue']/cumulativeRevenueA['orders'], label='A')\n",
    "\n",
    "plt.plot(cumulativeRevenueB['date'], cumulativeRevenueB['revenue']/cumulativeRevenueB['orders'], label='B')\n",
    "\n",
    "plt.xticks(rotation=35)\n",
    "\n",
    "plt.title('Кумулятивная среднего чека по группам')\n",
    "\n",
    "plt.ylabel('Размер ср. чека')\n",
    "\n",
    "plt.legend();"
   ]
  },
  {
   "cell_type": "markdown",
   "metadata": {},
   "source": [
    "Как и на предыдущем графике присутствует всплеск показателей в группе B. Что лишний наталкивает на мысль об аномально больших по выручке заказах."
   ]
  },
  {
   "cell_type": "markdown",
   "metadata": {},
   "source": [
    "<h4>Относительное изменение кумулятивного среднего чека группы B к группе A</h4>"
   ]
  },
  {
   "cell_type": "code",
   "execution_count": 14,
   "metadata": {},
   "outputs": [
    {
     "data": {
      "image/png": "[encoded data removed]",
      "text/plain": [
       "<Figure size 432x288 with 1 Axes>"
      ]
     },
     "metadata": {
      "needs_background": "light"
     },
     "output_type": "display_data"
    }
   ],
   "source": [
    "# собираем данные в одном датафрейме\n",
    "mergedCumulativeRevenue = cumulativeRevenueA.merge(cumulativeRevenueB, left_on='date', right_on='date', how='left', suffixes=['A', 'B'])\n",
    "\n",
    "# cтроим отношение средних чеков\n",
    "plt.plot(mergedCumulativeRevenue['date'], (mergedCumulativeRevenue['revenueB']/mergedCumulativeRevenue['ordersB'])/(mergedCumulativeRevenue['revenueA']/mergedCumulativeRevenue['ordersA'])-1)\n",
    "\n",
    "# добавляем ось X\n",
    "plt.axhline(y=0, color='black', linestyle='--')\n",
    "\n",
    "plt.title('Относительное изменение ср. чека')\n",
    "\n",
    "\n",
    "plt.xticks(rotation=35);"
   ]
  },
  {
   "cell_type": "markdown",
   "metadata": {},
   "source": [
    "Результаты тесты резко менялись в разные даты. Это могут быть заказы с аномальными параметрами."
   ]
  },
  {
   "cell_type": "markdown",
   "metadata": {},
   "source": [
    "<h4>Кумулятивная среднего количества заказов на посетителя по группам</h4>"
   ]
  },
  {
   "cell_type": "code",
   "execution_count": 15,
   "metadata": {
    "scrolled": true
   },
   "outputs": [
    {
     "data": {
      "image/png": "[encoded data removed]",
      "text/plain": [
       "<Figure size 432x288 with 1 Axes>"
      ]
     },
     "metadata": {
      "needs_background": "light"
     },
     "output_type": "display_data"
    }
   ],
   "source": [
    "# считаем кумулятивную конверсию\n",
    "cumulativeData['conversion'] = cumulativeData['orders']/cumulativeData['visitors']\n",
    "\n",
    "# отделяем данные по группе A\n",
    "cumulativeDataA = cumulativeData[cumulativeData['group']=='A']\n",
    "\n",
    "# отделяем данные по группе B\n",
    "cumulativeDataB = cumulativeData[cumulativeData['group']=='B']\n",
    "\n",
    "# строим графики\n",
    "plt.plot(cumulativeDataA['date'], cumulativeDataA['conversion'], label='A')\n",
    "plt.plot(cumulativeDataB['date'], cumulativeDataB['conversion'], label='B')\n",
    "\n",
    "plt.title('Кумулятивная среднего количества заказов на посетителя по группам')\n",
    "\n",
    "plt.ylabel('Конверсия')\n",
    "\n",
    "plt.xticks(rotation=35)\n",
    "\n",
    "plt.legend();"
   ]
  },
  {
   "cell_type": "markdown",
   "metadata": {},
   "source": [
    " \n",
    "На графике видно однозначно стабильное улучшение конверсии на человека: улучшение примерно на 4-5 п.п."
   ]
  },
  {
   "cell_type": "markdown",
   "metadata": {},
   "source": [
    "<h4>Относительное изменение кумулятивного среднего количества заказов на посетителя группы B к группе A</h4>"
   ]
  },
  {
   "cell_type": "code",
   "execution_count": 16,
   "metadata": {},
   "outputs": [
    {
     "data": {
      "image/png": "[encoded data removed]",
      "text/plain": [
       "<Figure size 432x288 with 1 Axes>"
      ]
     },
     "metadata": {
      "needs_background": "light"
     },
     "output_type": "display_data"
    }
   ],
   "source": [
    "#объединяем таблицы\n",
    "mergedCumulativeConversions = cumulativeDataA[['date','conversion']].merge(cumulativeDataB[['date','conversion']],\n",
    "                                                                           left_on='date',\n",
    "                                                                           right_on='date', how='left',\n",
    "                                                                           suffixes=['A', 'B'])\n",
    "\n",
    "#строим график\n",
    "plt.plot(mergedCumulativeConversions['date'],\n",
    "         mergedCumulativeConversions['conversionB']/mergedCumulativeConversions['conversionA']-1,\n",
    "         label=\"Относительный прирост конверсии группы B относительно группы A\")\n",
    "plt.xticks(rotation=35)\n",
    "plt.legend()\n",
    "\n",
    "plt.axhline(y=0, color='black', linestyle='--')\n",
    "plt.axhline(y=0.2, color='grey', linestyle='--');"
   ]
  },
  {
   "cell_type": "markdown",
   "metadata": {},
   "source": [
    "Почти с самого начала группа B лидирует, относительный прирост на уровне 10-15%"
   ]
  },
  {
   "cell_type": "markdown",
   "metadata": {},
   "source": [
    "<b>Общий вывод:</b>  \n",
    "Мы выявили, что разница в результатах теста в кумулятивных метрика присутствует, некоторые графики указывали на аномалии. Рассмотрим имеющиеся данные подробнее."
   ]
  },
  {
   "cell_type": "markdown",
   "metadata": {},
   "source": [
    "<h3>Анализ выбросов и всплесков</h3>"
   ]
  },
  {
   "cell_type": "markdown",
   "metadata": {},
   "source": [
    "<h4>Количество заказов по пользователям</h4>"
   ]
  },
  {
   "cell_type": "code",
   "execution_count": 17,
   "metadata": {},
   "outputs": [],
   "source": [
    "#группировка заказов по пользователям\n",
    "ordersByUsers = (\n",
    "    orders.groupby('userId', as_index=False)\n",
    "    .agg({'orderId': 'nunique'})\n",
    ")\n",
    "ordersByUsers.columns = ['userId', 'orders']"
   ]
  },
  {
   "cell_type": "code",
   "execution_count": 18,
   "metadata": {
    "scrolled": true
   },
   "outputs": [
    {
     "data": {
      "image/png": "[encoded data removed]",
      "text/plain": [
       "<Figure size 432x288 with 1 Axes>"
      ]
     },
     "metadata": {
      "needs_background": "light"
     },
     "output_type": "display_data"
    }
   ],
   "source": [
    "#строим график рассеивания заказов\n",
    "x_values = pd.Series(range(0, len(ordersByUsers)))\n",
    "plt.title('График рассеивания заказов')\n",
    "plt.ylabel('Количество заказов')\n",
    "plt.scatter(x_values, ordersByUsers['orders']);"
   ]
  },
  {
   "cell_type": "code",
   "execution_count": 19,
   "metadata": {},
   "outputs": [
    {
     "data": {
      "text/plain": [
       "array([1., 2., 4.])"
      ]
     },
     "execution_count": 19,
     "metadata": {},
     "output_type": "execute_result"
    }
   ],
   "source": [
    "#определим границу аномальных значений\n",
    "np.percentile(ordersByUsers['orders'], [90, 95, 99])"
   ]
  },
  {
   "cell_type": "markdown",
   "metadata": {},
   "source": [
    "Из точечного графика видно, что чаще всего количество заказов на одного пользователя 1 - 2. Но есть и гораздо большее количество заказов, приходящихся на 1-го человека: 8, 9 и даже 10+  \n",
    "Граница 95% значений заказов на одного пользователя пролегает на значении 3, иными словами 95% всех заказов пользователей не превышает 3 ед. на 1 пользователя."
   ]
  },
  {
   "cell_type": "markdown",
   "metadata": {},
   "source": [
    "<h4>Стоимость заказов</h4>"
   ]
  },
  {
   "cell_type": "code",
   "execution_count": 20,
   "metadata": {},
   "outputs": [
    {
     "data": {
      "image/png": "[encoded data removed]",
      "text/plain": [
       "<Figure size 432x288 with 1 Axes>"
      ]
     },
     "metadata": {
      "needs_background": "light"
     },
     "output_type": "display_data"
    }
   ],
   "source": [
    "#построим точечный график распределения выручек\n",
    "x_values = pd.Series(range(0, len(orders['revenue'])))\n",
    "plt.title('График рассеивания выручки')\n",
    "plt.ylabel('Размер выручки')\n",
    "plt.scatter(x_values, orders['revenue']);"
   ]
  },
  {
   "cell_type": "code",
   "execution_count": 21,
   "metadata": {
    "scrolled": true
   },
   "outputs": [
    {
     "data": {
      "text/plain": [
       "array([18168. , 28000. , 58233.2])"
      ]
     },
     "execution_count": 21,
     "metadata": {},
     "output_type": "execute_result"
    }
   ],
   "source": [
    "#определим границу аномальных значений\n",
    "np.percentile(orders['revenue'], [90, 95, 99])"
   ]
  },
  {
   "cell_type": "markdown",
   "metadata": {},
   "source": [
    " \n",
    "Размер выручки по большей части колеблется в пределах 20 000 тыс. р. 95-ый процентиль выручки равен 28 000 тыс. р. выручки.  \n",
    "Но присутствует и значительно отклоняющийся по стоимости заказ стоимостью 100 000+ тыс."
   ]
  },
  {
   "cell_type": "markdown",
   "metadata": {},
   "source": [
    "<b>Общий вывод:</b>  \n",
    "В данных по заказам присутствуют всплески значений выбивающиеся из общей картины: это пользователи с большим количеством заказов, или средник чек заказа значительно превышающий типичную картину, что вносит коррективы в общую картину A/B тестирования.  \n",
    "  Зафиксируем предел нормы показателей:\n",
    "- Норма количества заказов: не более 3-х\n",
    "- Норма среднего чека: не более 29 000 р."
   ]
  },
  {
   "cell_type": "markdown",
   "metadata": {},
   "source": [
    "<h3>Подсчет статистической значимости разниц групп A и B</h3>"
   ]
  },
  {
   "cell_type": "markdown",
   "metadata": {},
   "source": [
    "В нашем случае для подсчета статистической значимости будет удобно воспользоваться стат.методом Мана-Уитни. Преимущества данного метода в том, что они работают с рангами, — номерами значений в упорядоченном ряду, — никак не учитывая сами значения. Это позволяет работать с данными, где присутствуют выбросы."
   ]
  },
  {
   "cell_type": "markdown",
   "metadata": {},
   "source": [
    "Наши гипотезы звучат следующим образом:  \n",
    "- H0 - выборки не имеют статистически значимой разницы и одинаковы\n",
    "- H1 - выборки имеют статистически значимую разницу и не одинаковы  "
   ]
  },
  {
   "cell_type": "markdown",
   "metadata": {},
   "source": [
    "Порог статистической значимости 0.05"
   ]
  },
  {
   "cell_type": "code",
   "execution_count": 22,
   "metadata": {},
   "outputs": [],
   "source": [
    "#подготовим данные\n",
    "visitorsADaily = visitors[visitors['group'] == 'A'][['date', 'visitors']]\n",
    "visitorsADaily.columns = ['date', 'visitorsPerDateA']\n",
    "\n",
    "visitorsACummulative = visitorsADaily.apply(\n",
    "    lambda x: visitorsADaily[visitorsADaily['date'] <= x['date']].agg(\n",
    "        {'date': 'max', 'visitorsPerDateA': 'sum'}\n",
    "    ),\n",
    "    axis=1,\n",
    ")\n",
    "visitorsACummulative.columns = ['date', 'visitorsCummulativeA']\n",
    "\n",
    "visitorsBDaily = visitors[visitors['group'] == 'B'][['date', 'visitors']]\n",
    "visitorsBDaily.columns = ['date', 'visitorsPerDateB']\n",
    "\n",
    "visitorsBCummulative = visitorsBDaily.apply(\n",
    "    lambda x: visitorsBDaily[visitorsBDaily['date'] <= x['date']].agg(\n",
    "        {'date': 'max', 'visitorsPerDateB': 'sum'}\n",
    "    ),\n",
    "    axis=1,\n",
    ")\n",
    "visitorsBCummulative.columns = ['date', 'visitorsCummulativeB']\n",
    "\n",
    "ordersADaily = (\n",
    "    orders[orders['group'] == 'A'][['date', 'orderId', 'userId', 'revenue']]\n",
    "    .groupby('date', as_index=False)\n",
    "    .agg({'orderId': pd.Series.nunique, 'revenue': 'sum'})\n",
    ")\n",
    "ordersADaily.columns = ['date', 'ordersPerDateA', 'revenuePerDateA']\n",
    "\n",
    "ordersACummulative = ordersADaily.apply(\n",
    "    lambda x: ordersADaily[ordersADaily['date'] <= x['date']].agg(\n",
    "        {'date': 'max', 'ordersPerDateA': 'sum', 'revenuePerDateA': 'sum'}\n",
    "    ),\n",
    "    axis=1,\n",
    ").sort_values(by=['date'])\n",
    "ordersACummulative.columns = [\n",
    "    'date',\n",
    "    'ordersCummulativeA',\n",
    "    'revenueCummulativeA',\n",
    "]\n",
    "\n",
    "ordersBDaily = (\n",
    "    orders[orders['group'] == 'B'][['date', 'orderId', 'userId', 'revenue']]\n",
    "    .groupby('date', as_index=False)\n",
    "    .agg({'orderId': pd.Series.nunique, 'revenue': 'sum'})\n",
    ")\n",
    "ordersBDaily.columns = ['date', 'ordersPerDateB', 'revenuePerDateB']\n",
    "\n",
    "ordersBCummulative = ordersBDaily.apply(\n",
    "    lambda x: ordersBDaily[ordersBDaily['date'] <= x['date']].agg(\n",
    "        {'date': 'max', 'ordersPerDateB': 'sum', 'revenuePerDateB': 'sum'}\n",
    "    ),\n",
    "    axis=1,\n",
    ").sort_values(by=['date'])\n",
    "ordersBCummulative.columns = [\n",
    "    'date',\n",
    "    'ordersCummulativeB',\n",
    "    'revenueCummulativeB',\n",
    "]\n",
    "\n",
    "data = (\n",
    "    ordersADaily.merge(\n",
    "        ordersBDaily, left_on='date', right_on='date', how='left'\n",
    "    )\n",
    "    .merge(ordersACummulative, left_on='date', right_on='date', how='left')\n",
    "    .merge(ordersBCummulative, left_on='date', right_on='date', how='left')\n",
    "    .merge(visitorsADaily, left_on='date', right_on='date', how='left')\n",
    "    .merge(visitorsBDaily, left_on='date', right_on='date', how='left')\n",
    "    .merge(visitorsACummulative, left_on='date', right_on='date', how='left')\n",
    "    .merge(visitorsBCummulative, left_on='date', right_on='date', how='left')\n",
    ")"
   ]
  },
  {
   "cell_type": "markdown",
   "metadata": {},
   "source": [
    "<h4>Статистическая значимость различий в среднем количестве заказов на посетителя между группами по «сырым» данным</h4>"
   ]
  },
  {
   "cell_type": "markdown",
   "metadata": {},
   "source": [
    "Гипотезы:\n",
    "- H0 - различий в среднем количестве заказов на посетителя среди групп по сырым данным нет\n",
    "- H1 - различия в среднем количестве заказов на посетителя среди групп по сырым данным есть"
   ]
  },
  {
   "cell_type": "code",
   "execution_count": 23,
   "metadata": {},
   "outputs": [
    {
     "name": "stdout",
     "output_type": "stream",
     "text": [
      "p-value: 0.017. Нулевая гипотеза отвергнута\n",
      "Степень разности составила: 0.138\n"
     ]
    }
   ],
   "source": [
    "ordersByUsersA = (\n",
    "    orders[orders['group'] == 'A']\n",
    "    .groupby('userId', as_index=False)\n",
    "    .agg({'orderId': pd.Series.nunique})\n",
    ")\n",
    "ordersByUsersA.columns = ['userId', 'orders']\n",
    "\n",
    "ordersByUsersB = (\n",
    "    orders[orders['group'] == 'B']\n",
    "    .groupby('userId', as_index=False)\n",
    "    .agg({'orderId': pd.Series.nunique})\n",
    ")\n",
    "ordersByUsersB.columns = ['userId', 'orders']\n",
    "\n",
    "sampleA = pd.concat(\n",
    "    [\n",
    "        ordersByUsersA['orders'],\n",
    "        pd.Series(\n",
    "            0,\n",
    "            index=np.arange(\n",
    "                data['visitorsPerDateA'].sum() - len(ordersByUsersA['orders'])\n",
    "            ),\n",
    "            name='orders',\n",
    "        ),\n",
    "    ],\n",
    "    axis=0,\n",
    ")\n",
    "\n",
    "sampleB = pd.concat(\n",
    "    [\n",
    "        ordersByUsersB['orders'],\n",
    "        pd.Series(\n",
    "            0,\n",
    "            index=np.arange(\n",
    "                data['visitorsPerDateB'].sum() - len(ordersByUsersB['orders'])\n",
    "            ),\n",
    "            name='orders',\n",
    "        ),\n",
    "    ],\n",
    "    axis=0,\n",
    ")\n",
    "\n",
    "if stats.mannwhitneyu(sampleA, sampleB)[1] < 0.05:\n",
    "    print(\"p-value:\", \"{0:.3f}.\".format(stats.mannwhitneyu(sampleA, sampleB)[1]), \"Нулевая гипотеза отвергнута\")\n",
    "else:\n",
    "    print(\"p-value:\", \"{0:.3f}.\".format(stats.mannwhitneyu(sampleA, sampleB)[1]), \"Нулевая гипотеза не отвергнута\")\n",
    "    \n",
    "print(\"Степень разности составила:\", \"{0:.3f}\".format(sampleB.mean() / sampleA.mean() - 1))"
   ]
  },
  {
   "cell_type": "markdown",
   "metadata": {},
   "source": [
    "P-value ниже установленного порога статистической значимости, в таком случае мы можем говорить о существовании статистически значимой разнице A и B групп. Разница среднего количества заказов между группам 13,8%."
   ]
  },
  {
   "cell_type": "markdown",
   "metadata": {},
   "source": [
    "<h4>Статистическая значимость различий в среднем чеке заказа между группами по «сырым» данным</h4>"
   ]
  },
  {
   "cell_type": "markdown",
   "metadata": {},
   "source": [
    "Гипотезы:\n",
    "- H0 - различий в среднем чеке заказов на посетителя среди групп по сырым данным нет\n",
    "- H1 - различия в среднем чеке заказов на посетителя среди групп по сырым данным есть"
   ]
  },
  {
   "cell_type": "code",
   "execution_count": 24,
   "metadata": {},
   "outputs": [
    {
     "name": "stdout",
     "output_type": "stream",
     "text": [
      "p-value: 0.729. Нулевая гипотеза не отвергнута\n",
      "Степень разности составила: 0.259\n"
     ]
    }
   ],
   "source": [
    "if stats.mannwhitneyu(orders[orders['group']=='A']['revenue'], orders[orders['group']=='B']['revenue'])[1] < 0.05:\n",
    "    print(\"p-value:\", \"{0:.3f}.\".format(stats.mannwhitneyu(orders[orders['group']=='A']['revenue'],\n",
    "                                                           orders[orders['group']=='B']['revenue'])[1]),\n",
    "          \"Нулевая гипотеза отвергнута\"\n",
    "         )\n",
    "else:\n",
    "    print(\"p-value:\", \"{0:.3f}.\".format(stats.mannwhitneyu(orders[orders['group']=='A']['revenue'],\n",
    "                                                           orders[orders['group']=='B']['revenue'])[1]),\n",
    "          \"Нулевая гипотеза не отвергнута\"\n",
    "         )\n",
    "    \n",
    "print(\"Степень разности составила:\", '{0:.3f}'.format(orders[orders['group']=='B']['revenue'].mean()/orders[orders['group']=='A']['revenue'].mean()-1)) "
   ]
  },
  {
   "cell_type": "markdown",
   "metadata": {},
   "source": [
    "Статистически значимой разницы между чеками не обнаружено, однако степень разности между ними 25,9% это очень большой процент. Может ли дело быть в сильном отклонении от нормы в одной из групп? Сравним с очищенными данными."
   ]
  },
  {
   "cell_type": "markdown",
   "metadata": {},
   "source": [
    "<h4>Статистическая значимость различий в среднем количестве заказов на посетителя между группами по «очищенным» данным</h4>"
   ]
  },
  {
   "cell_type": "markdown",
   "metadata": {},
   "source": [
    "Гипотезы:\n",
    "- H0 - различий в среднем количестве заказов на посетителя среди групп по очищенным данным нет\n",
    "- H1 - различия в среднем количестве заказов на посетителя среди групп по очищенным данным есть"
   ]
  },
  {
   "cell_type": "code",
   "execution_count": 25,
   "metadata": {},
   "outputs": [],
   "source": [
    "#аномальное количество заказов > 3\n",
    "usersWithManyOrders = pd.concat(\n",
    "    [\n",
    "        ordersByUsersA[ordersByUsersA['orders'] > 3]['userId'],\n",
    "        ordersByUsersB[ordersByUsersB['orders'] > 3]['userId'],\n",
    "    ],\n",
    "    axis=0,\n",
    ")\n",
    "\n",
    "#аномально дорогие заказы > 29000\n",
    "usersWithExpensiveOrders = orders[orders['revenue'] > 29000]['userId']\n",
    "\n",
    "#пользователя с аномальными параметрами заказов\n",
    "abnormalUsers = (\n",
    "    pd.concat([usersWithManyOrders, usersWithExpensiveOrders], axis=0)\n",
    "    .drop_duplicates()\n",
    "    .sort_values()\n",
    ")"
   ]
  },
  {
   "cell_type": "markdown",
   "metadata": {},
   "source": [
    "Расчитаем статистическую значимость различия среднего количества заказов после удаления аномальных пользователей."
   ]
  },
  {
   "cell_type": "code",
   "execution_count": 26,
   "metadata": {
    "scrolled": true
   },
   "outputs": [
    {
     "name": "stdout",
     "output_type": "stream",
     "text": [
      "p-value: 0.018. Нулевая гипотеза отвергнута\n",
      "Степень разности составила: 0.259\n"
     ]
    }
   ],
   "source": [
    "sampleAFiltered = pd.concat(\n",
    "    [\n",
    "        ordersByUsersA[\n",
    "            np.logical_not(ordersByUsersA['userId'].isin(abnormalUsers))\n",
    "        ]['orders'],\n",
    "        pd.Series(\n",
    "            0,\n",
    "            index=np.arange(\n",
    "                data['visitorsPerDateA'].sum() - len(ordersByUsersA['orders'])\n",
    "            ),\n",
    "            name='orders',\n",
    "        ),\n",
    "    ],\n",
    "    axis=0,\n",
    ")\n",
    "\n",
    "sampleBFiltered = pd.concat(\n",
    "    [\n",
    "        ordersByUsersB[\n",
    "            np.logical_not(ordersByUsersB['userId'].isin(abnormalUsers))\n",
    "        ]['orders'],\n",
    "        pd.Series(\n",
    "            0,\n",
    "            index=np.arange(\n",
    "                data['visitorsPerDateB'].sum() - len(ordersByUsersB['orders'])\n",
    "            ),\n",
    "            name='orders',\n",
    "        ),\n",
    "    ],\n",
    "    axis=0,\n",
    ")\n",
    "\n",
    "if stats.mannwhitneyu(sampleAFiltered, sampleBFiltered)[1] < 0.05:\n",
    "    print(\"p-value:\", \"{0:.3f}.\".format(stats.mannwhitneyu(sampleAFiltered, sampleBFiltered)[1]),\n",
    "          \"Нулевая гипотеза отвергнута\"\n",
    "         )\n",
    "else:\n",
    "    print(\"p-value:\", \"{0:.3f}.\".format(stats.mannwhitneyu(sampleAFiltered, sampleBFiltered)[1]),\n",
    "          \"Нулевая гипотеза не отвергнута\"\n",
    "         )\n",
    "    \n",
    "print(\"Степень разности составила:\", '{0:.3f}'.format(orders[orders['group']=='B']['revenue'].mean()/orders[orders['group']=='A']['revenue'].mean()-1)) "
   ]
  },
  {
   "cell_type": "markdown",
   "metadata": {},
   "source": [
    "Картина изменилась: появилась статистическая значимость в количестве заказов между группами, как и степень разности. Теперь она равна 25,9%. Что же по среднему чеков?"
   ]
  },
  {
   "cell_type": "markdown",
   "metadata": {},
   "source": [
    "<h4>Статистическая значимость различий в среднем чеке заказа между группами по «очищенным» данным</h4>"
   ]
  },
  {
   "cell_type": "markdown",
   "metadata": {},
   "source": [
    "Гипотезы:\n",
    "- H0 - различий в среднем количестве чеке на посетителя среди групп по очищенным данным нет\n",
    "- H1 - различия в среднем чеке заказов на посетителя среди групп по очищенным данным есть"
   ]
  },
  {
   "cell_type": "code",
   "execution_count": 27,
   "metadata": {},
   "outputs": [
    {
     "name": "stdout",
     "output_type": "stream",
     "text": [
      "p-value: 0.964\n",
      "Степень разности составила: -0.019\n"
     ]
    }
   ],
   "source": [
    "\n",
    "print(\"p-value:\", \n",
    "    '{0:.3f}'.format(\n",
    "        stats.mannwhitneyu(\n",
    "            orders[\n",
    "                np.logical_and(\n",
    "                    orders['group'] == 'A',\n",
    "                    np.logical_not(orders['userId'].isin(abnormalUsers)),\n",
    "                )\n",
    "            ]['revenue'],\n",
    "            orders[\n",
    "                np.logical_and(\n",
    "                    orders['group'] == 'B',\n",
    "                    np.logical_not(orders['userId'].isin(abnormalUsers)),\n",
    "                )\n",
    "            ]['revenue']\n",
    "        )[1]\n",
    "    )\n",
    ")\n",
    "\n",
    "print(\"Степень разности составила:\", \n",
    "    \"{0:.3f}\".format(\n",
    "        orders[\n",
    "            np.logical_and(\n",
    "                orders['group'] == 'B',\n",
    "                np.logical_not(orders['userId'].isin(abnormalUsers)),\n",
    "            )\n",
    "        ]['revenue'].mean()\n",
    "        / orders[\n",
    "            np.logical_and(\n",
    "                orders['group'] == 'A',\n",
    "                np.logical_not(orders['userId'].isin(abnormalUsers)),\n",
    "            )\n",
    "        ]['revenue'].mean()\n",
    "        - 1\n",
    "    )\n",
    ")"
   ]
  },
  {
   "cell_type": "markdown",
   "metadata": {},
   "source": [
    "Теперь мы видим, что никакой статистической значимости в средних чеках групп A и B не обнаружено."
   ]
  },
  {
   "cell_type": "markdown",
   "metadata": {},
   "source": [
    "<b>Общий вывод:</b>  \n",
    "Присутствие значительных выбросов повиляло на статистические выводы о тесте. Очистив данные от них, мы получили прямо противоположные результаты: теперь разница в количестве заказов статистически значима, а разница среднего размера чека - нет."
   ]
  },
  {
   "cell_type": "markdown",
   "metadata": {},
   "source": [
    "<h3>Итоговый вывод:</h3>"
   ]
  },
  {
   "cell_type": "markdown",
   "metadata": {},
   "source": [
    "В результате A/B тестирования мы проверили каким образом могут себя вести данные и какие инструменты лучше использовать для сравнения разницы в группах, а именно:\n",
    "- кумулятивные метрики\n",
    "- графики\n",
    "- статистические тесты\n",
    "\n",
    "В кумулятивных метриках было заметно, что данные за некоторый период совершают резкие скачки в группе B.  \n",
    "Углубившись и проведя аналитику с помощью графиков рассеивания мы определили, что в наборе данных присутствуют аномальные значения, которые влияют на итоговые данные.  \n",
    "Отфльтровав обнаруженные выбросы и проанализировав очищенные данные мы пришли к выводу:\n",
    "\n",
    "<b>Между группами A и B присутствует статистически значимая разница и в группе B она направлена в положительную сторону по части влияния на количество заказов среди пользователей. Однако, тесты не выявили разницы в среднем чеке заказов совершаемых пользователей.</b>  \n",
    "Из чего можно предположить, что тестировалась гипотеза направленная на повторение заказов пользователями, а не увеличение размера среднего чека."
   ]
  }
 ],
 "metadata": {
  "ExecuteTimeLog": [
   {
    "duration": 71,
    "start_time": "2023-02-10T11:28:45.307Z"
   },
   {
    "duration": 88,
    "start_time": "2023-02-10T11:46:02.988Z"
   },
   {
    "duration": 382,
    "start_time": "2023-02-10T11:48:41.425Z"
   },
   {
    "duration": 63,
    "start_time": "2023-02-10T11:49:52.012Z"
   },
   {
    "duration": 15,
    "start_time": "2023-02-10T11:49:55.042Z"
   },
   {
    "duration": 8,
    "start_time": "2023-02-10T12:02:03.653Z"
   },
   {
    "duration": 8,
    "start_time": "2023-02-10T12:02:20.581Z"
   },
   {
    "duration": 6,
    "start_time": "2023-02-10T12:06:37.238Z"
   },
   {
    "duration": 60,
    "start_time": "2023-02-10T12:07:57.893Z"
   },
   {
    "duration": 10,
    "start_time": "2023-02-10T12:08:03.624Z"
   },
   {
    "duration": 81,
    "start_time": "2023-02-10T12:14:09.600Z"
   },
   {
    "duration": 7,
    "start_time": "2023-02-10T12:15:21.484Z"
   },
   {
    "duration": 4,
    "start_time": "2023-02-10T12:15:35.559Z"
   },
   {
    "duration": 8,
    "start_time": "2023-02-10T12:15:49.038Z"
   },
   {
    "duration": 5,
    "start_time": "2023-02-10T12:15:53.968Z"
   },
   {
    "duration": 3,
    "start_time": "2023-02-10T12:16:41.097Z"
   },
   {
    "duration": 4,
    "start_time": "2023-02-10T12:16:46.690Z"
   },
   {
    "duration": 10,
    "start_time": "2023-02-10T12:16:47.995Z"
   },
   {
    "duration": 7,
    "start_time": "2023-02-10T12:18:29.977Z"
   },
   {
    "duration": 1240,
    "start_time": "2023-02-10T12:18:44.996Z"
   },
   {
    "duration": 9,
    "start_time": "2023-02-10T12:18:49.530Z"
   },
   {
    "duration": 5,
    "start_time": "2023-02-10T12:19:51.651Z"
   },
   {
    "duration": 4,
    "start_time": "2023-02-10T12:19:56.350Z"
   },
   {
    "duration": 73,
    "start_time": "2023-02-10T12:21:01.486Z"
   },
   {
    "duration": 4,
    "start_time": "2023-02-10T14:02:10.014Z"
   },
   {
    "duration": 11,
    "start_time": "2023-02-10T14:02:10.209Z"
   },
   {
    "duration": 13,
    "start_time": "2023-02-10T14:05:42.296Z"
   },
   {
    "duration": 13,
    "start_time": "2023-02-10T14:05:43.940Z"
   },
   {
    "duration": 1847,
    "start_time": "2023-02-10T14:09:25.903Z"
   },
   {
    "duration": 16,
    "start_time": "2023-02-10T14:09:32.323Z"
   },
   {
    "duration": 1802,
    "start_time": "2023-02-10T14:10:07.169Z"
   },
   {
    "duration": 3,
    "start_time": "2023-02-10T14:15:45.570Z"
   },
   {
    "duration": 4,
    "start_time": "2023-02-10T14:15:48.384Z"
   },
   {
    "duration": 4,
    "start_time": "2023-02-10T14:16:03.464Z"
   },
   {
    "duration": 9,
    "start_time": "2023-02-10T14:16:19.933Z"
   },
   {
    "duration": 1854,
    "start_time": "2023-02-10T14:16:39.381Z"
   },
   {
    "duration": 5,
    "start_time": "2023-02-10T14:16:48.614Z"
   },
   {
    "duration": 4,
    "start_time": "2023-02-10T14:16:58.321Z"
   },
   {
    "duration": 472,
    "start_time": "2023-02-10T14:41:25.086Z"
   },
   {
    "duration": 165,
    "start_time": "2023-02-10T14:42:32.151Z"
   },
   {
    "duration": 48,
    "start_time": "2023-02-11T09:16:58.217Z"
   },
   {
    "duration": 7,
    "start_time": "2023-02-11T09:17:01.560Z"
   },
   {
    "duration": 836,
    "start_time": "2023-02-11T09:17:10.095Z"
   },
   {
    "duration": 78,
    "start_time": "2023-02-11T09:17:10.933Z"
   },
   {
    "duration": 14,
    "start_time": "2023-02-11T09:17:11.013Z"
   },
   {
    "duration": 5,
    "start_time": "2023-02-11T09:17:11.030Z"
   },
   {
    "duration": 12,
    "start_time": "2023-02-11T09:17:11.037Z"
   },
   {
    "duration": 9,
    "start_time": "2023-02-11T09:17:11.051Z"
   },
   {
    "duration": 30,
    "start_time": "2023-02-11T09:17:11.062Z"
   },
   {
    "duration": 18,
    "start_time": "2023-02-11T09:17:11.095Z"
   },
   {
    "duration": 157,
    "start_time": "2023-02-11T09:17:17.843Z"
   },
   {
    "duration": 12,
    "start_time": "2023-02-11T09:17:18.961Z"
   },
   {
    "duration": 260,
    "start_time": "2023-02-11T09:19:40.653Z"
   },
   {
    "duration": 11,
    "start_time": "2023-02-11T09:20:02.811Z"
   },
   {
    "duration": 17,
    "start_time": "2023-02-11T09:20:40.142Z"
   },
   {
    "duration": 211,
    "start_time": "2023-02-11T09:20:47.665Z"
   },
   {
    "duration": 3,
    "start_time": "2023-02-11T09:21:05.535Z"
   },
   {
    "duration": 35,
    "start_time": "2023-02-11T09:21:05.540Z"
   },
   {
    "duration": 10,
    "start_time": "2023-02-11T09:21:05.577Z"
   },
   {
    "duration": 14,
    "start_time": "2023-02-11T09:21:05.589Z"
   },
   {
    "duration": 26,
    "start_time": "2023-02-11T09:21:05.604Z"
   },
   {
    "duration": 28,
    "start_time": "2023-02-11T09:21:05.632Z"
   },
   {
    "duration": 39,
    "start_time": "2023-02-11T09:21:05.662Z"
   },
   {
    "duration": 24,
    "start_time": "2023-02-11T09:21:05.702Z"
   },
   {
    "duration": 62,
    "start_time": "2023-02-11T09:21:05.729Z"
   },
   {
    "duration": 15,
    "start_time": "2023-02-11T09:21:05.793Z"
   },
   {
    "duration": 8,
    "start_time": "2023-02-11T09:21:15.674Z"
   },
   {
    "duration": 10,
    "start_time": "2023-02-11T09:21:18.843Z"
   },
   {
    "duration": 9,
    "start_time": "2023-02-11T09:22:29.145Z"
   },
   {
    "duration": 14,
    "start_time": "2023-02-11T09:22:34.822Z"
   },
   {
    "duration": 58,
    "start_time": "2023-02-11T09:23:06.623Z"
   },
   {
    "duration": 205,
    "start_time": "2023-02-11T09:23:06.941Z"
   },
   {
    "duration": 217,
    "start_time": "2023-02-11T09:23:13.074Z"
   },
   {
    "duration": 3,
    "start_time": "2023-02-11T09:23:18.811Z"
   },
   {
    "duration": 28,
    "start_time": "2023-02-11T09:23:18.817Z"
   },
   {
    "duration": 8,
    "start_time": "2023-02-11T09:23:18.847Z"
   },
   {
    "duration": 12,
    "start_time": "2023-02-11T09:23:18.857Z"
   },
   {
    "duration": 11,
    "start_time": "2023-02-11T09:23:18.871Z"
   },
   {
    "duration": 6,
    "start_time": "2023-02-11T09:23:18.884Z"
   },
   {
    "duration": 14,
    "start_time": "2023-02-11T09:23:18.891Z"
   },
   {
    "duration": 10,
    "start_time": "2023-02-11T09:23:18.906Z"
   },
   {
    "duration": 50,
    "start_time": "2023-02-11T09:23:18.917Z"
   },
   {
    "duration": 12,
    "start_time": "2023-02-11T09:23:18.969Z"
   },
   {
    "duration": 12,
    "start_time": "2023-02-11T09:28:24.456Z"
   },
   {
    "duration": 3,
    "start_time": "2023-02-11T09:29:21.466Z"
   },
   {
    "duration": 10,
    "start_time": "2023-02-11T09:29:45.796Z"
   },
   {
    "duration": 16,
    "start_time": "2023-02-11T09:31:11.382Z"
   },
   {
    "duration": 12,
    "start_time": "2023-02-11T09:31:48.978Z"
   },
   {
    "duration": 3,
    "start_time": "2023-02-11T09:31:57.793Z"
   },
   {
    "duration": 12,
    "start_time": "2023-02-11T09:32:00.696Z"
   },
   {
    "duration": 548,
    "start_time": "2023-02-11T09:32:00.973Z"
   },
   {
    "duration": 562,
    "start_time": "2023-02-11T09:33:05.431Z"
   },
   {
    "duration": 438,
    "start_time": "2023-02-11T09:33:32.701Z"
   },
   {
    "duration": 857,
    "start_time": "2023-02-11T09:33:36.656Z"
   },
   {
    "duration": 700,
    "start_time": "2023-02-11T09:33:41.576Z"
   },
   {
    "duration": 744,
    "start_time": "2023-02-11T09:35:37.257Z"
   },
   {
    "duration": 712,
    "start_time": "2023-02-11T09:36:28.986Z"
   },
   {
    "duration": 707,
    "start_time": "2023-02-11T09:36:34.237Z"
   },
   {
    "duration": 777,
    "start_time": "2023-02-11T09:36:38.906Z"
   },
   {
    "duration": 172,
    "start_time": "2023-02-11T09:47:31.414Z"
   },
   {
    "duration": 160,
    "start_time": "2023-02-11T09:47:34.841Z"
   },
   {
    "duration": 172,
    "start_time": "2023-02-11T09:47:50.989Z"
   },
   {
    "duration": 336,
    "start_time": "2023-02-11T09:50:17.174Z"
   },
   {
    "duration": 288,
    "start_time": "2023-02-11T09:50:19.377Z"
   },
   {
    "duration": 176,
    "start_time": "2023-02-11T09:50:45.566Z"
   },
   {
    "duration": 261,
    "start_time": "2023-02-11T09:50:55.651Z"
   },
   {
    "duration": 176,
    "start_time": "2023-02-11T10:00:21.529Z"
   },
   {
    "duration": 200,
    "start_time": "2023-02-11T10:01:10.035Z"
   },
   {
    "duration": 209,
    "start_time": "2023-02-11T10:01:15.055Z"
   },
   {
    "duration": 265,
    "start_time": "2023-02-11T10:01:26.764Z"
   },
   {
    "duration": 322,
    "start_time": "2023-02-11T10:23:47.664Z"
   },
   {
    "duration": 269,
    "start_time": "2023-02-11T10:23:50.531Z"
   },
   {
    "duration": 339,
    "start_time": "2023-02-11T10:24:36.465Z"
   },
   {
    "duration": 323,
    "start_time": "2023-02-11T10:24:52.591Z"
   },
   {
    "duration": 9,
    "start_time": "2023-02-11T10:40:13.848Z"
   },
   {
    "duration": 8,
    "start_time": "2023-02-11T10:40:41.593Z"
   },
   {
    "duration": 9,
    "start_time": "2023-02-11T10:41:04.697Z"
   },
   {
    "duration": 108,
    "start_time": "2023-02-11T10:41:09.054Z"
   },
   {
    "duration": 103,
    "start_time": "2023-02-11T10:41:24.081Z"
   },
   {
    "duration": 9,
    "start_time": "2023-02-11T10:41:35.146Z"
   },
   {
    "duration": 8,
    "start_time": "2023-02-11T10:41:40.997Z"
   },
   {
    "duration": 124,
    "start_time": "2023-02-11T10:41:41.541Z"
   },
   {
    "duration": 4,
    "start_time": "2023-02-11T12:02:48.566Z"
   },
   {
    "duration": 3,
    "start_time": "2023-02-11T12:03:07.632Z"
   },
   {
    "duration": 5,
    "start_time": "2023-02-11T12:03:10.836Z"
   },
   {
    "duration": 4,
    "start_time": "2023-02-11T12:03:20.048Z"
   },
   {
    "duration": 5,
    "start_time": "2023-02-11T12:03:26.172Z"
   },
   {
    "duration": 5,
    "start_time": "2023-02-11T12:03:30.833Z"
   },
   {
    "duration": 144,
    "start_time": "2023-02-11T12:07:15.021Z"
   },
   {
    "duration": 134,
    "start_time": "2023-02-11T12:07:37.899Z"
   },
   {
    "duration": 6,
    "start_time": "2023-02-11T12:09:11.039Z"
   },
   {
    "duration": 54,
    "start_time": "2023-02-11T12:10:56.151Z"
   },
   {
    "duration": 142,
    "start_time": "2023-02-11T12:11:00.036Z"
   },
   {
    "duration": 164,
    "start_time": "2023-02-11T12:11:09.385Z"
   },
   {
    "duration": 288,
    "start_time": "2023-02-11T12:12:20.481Z"
   },
   {
    "duration": 170,
    "start_time": "2023-02-11T12:12:25.684Z"
   },
   {
    "duration": 510,
    "start_time": "2023-02-11T12:43:27.178Z"
   },
   {
    "duration": 195,
    "start_time": "2023-02-11T12:44:47.159Z"
   },
   {
    "duration": 165,
    "start_time": "2023-02-11T12:46:12.906Z"
   },
   {
    "duration": 214,
    "start_time": "2023-02-11T12:47:35.672Z"
   },
   {
    "duration": 204,
    "start_time": "2023-02-11T12:47:50.579Z"
   },
   {
    "duration": 210,
    "start_time": "2023-02-11T12:48:00.744Z"
   },
   {
    "duration": 204,
    "start_time": "2023-02-11T12:48:50.481Z"
   },
   {
    "duration": 185,
    "start_time": "2023-02-11T12:56:24.473Z"
   },
   {
    "duration": 185,
    "start_time": "2023-02-11T12:56:54.942Z"
   },
   {
    "duration": 15,
    "start_time": "2023-02-11T12:58:20.401Z"
   },
   {
    "duration": 16,
    "start_time": "2023-02-11T12:58:57.625Z"
   },
   {
    "duration": 8,
    "start_time": "2023-02-11T13:12:26.832Z"
   },
   {
    "duration": 27,
    "start_time": "2023-02-11T13:16:57.232Z"
   },
   {
    "duration": 45,
    "start_time": "2023-02-11T13:17:55.347Z"
   },
   {
    "duration": 39,
    "start_time": "2023-02-11T13:18:02.445Z"
   },
   {
    "duration": 50,
    "start_time": "2023-02-11T13:18:11.425Z"
   },
   {
    "duration": 30,
    "start_time": "2023-02-11T13:18:17.245Z"
   },
   {
    "duration": 62,
    "start_time": "2023-02-11T13:20:15.475Z"
   },
   {
    "duration": 46,
    "start_time": "2023-02-11T13:20:21.553Z"
   },
   {
    "duration": 14,
    "start_time": "2023-02-11T13:23:02.131Z"
   },
   {
    "duration": 13,
    "start_time": "2023-02-11T13:23:24.840Z"
   },
   {
    "duration": 14,
    "start_time": "2023-02-11T13:24:14.826Z"
   },
   {
    "duration": 396,
    "start_time": "2023-02-11T13:38:55.915Z"
   },
   {
    "duration": 778,
    "start_time": "2023-02-11T13:39:27.239Z"
   },
   {
    "duration": 769,
    "start_time": "2023-02-11T14:44:47.488Z"
   },
   {
    "duration": 754,
    "start_time": "2023-02-11T14:45:15.256Z"
   },
   {
    "duration": 776,
    "start_time": "2023-02-11T14:45:43.011Z"
   },
   {
    "duration": 716,
    "start_time": "2023-02-11T14:46:34.341Z"
   },
   {
    "duration": 761,
    "start_time": "2023-02-11T14:46:44.587Z"
   },
   {
    "duration": 765,
    "start_time": "2023-02-11T14:46:58.189Z"
   },
   {
    "duration": 206,
    "start_time": "2023-02-11T14:47:39.482Z"
   },
   {
    "duration": 282,
    "start_time": "2023-02-11T14:51:17.501Z"
   },
   {
    "duration": 317,
    "start_time": "2023-02-11T14:51:47.464Z"
   },
   {
    "duration": 234,
    "start_time": "2023-02-11T14:51:57.044Z"
   },
   {
    "duration": 128,
    "start_time": "2023-02-11T14:54:50.772Z"
   },
   {
    "duration": 117,
    "start_time": "2023-02-11T14:55:01.793Z"
   },
   {
    "duration": 152,
    "start_time": "2023-02-11T14:55:48.868Z"
   },
   {
    "duration": 172,
    "start_time": "2023-02-11T14:56:05.912Z"
   },
   {
    "duration": 1115,
    "start_time": "2023-02-11T17:05:23.754Z"
   },
   {
    "duration": 24,
    "start_time": "2023-02-11T17:05:24.871Z"
   },
   {
    "duration": 12,
    "start_time": "2023-02-11T17:05:24.897Z"
   },
   {
    "duration": 6,
    "start_time": "2023-02-11T17:05:24.911Z"
   },
   {
    "duration": 22,
    "start_time": "2023-02-11T17:05:24.920Z"
   },
   {
    "duration": 14,
    "start_time": "2023-02-11T17:05:24.944Z"
   },
   {
    "duration": 12,
    "start_time": "2023-02-11T17:05:24.960Z"
   },
   {
    "duration": 14,
    "start_time": "2023-02-11T17:05:24.974Z"
   },
   {
    "duration": 50,
    "start_time": "2023-02-11T17:05:24.991Z"
   },
   {
    "duration": 22,
    "start_time": "2023-02-11T17:05:25.045Z"
   },
   {
    "duration": 4,
    "start_time": "2023-02-11T17:05:25.069Z"
   },
   {
    "duration": 962,
    "start_time": "2023-02-11T17:05:25.075Z"
   },
   {
    "duration": 214,
    "start_time": "2023-02-11T17:05:26.038Z"
   },
   {
    "duration": 320,
    "start_time": "2023-02-11T17:05:26.254Z"
   },
   {
    "duration": 236,
    "start_time": "2023-02-11T17:05:26.576Z"
   },
   {
    "duration": 364,
    "start_time": "2023-02-11T17:05:26.813Z"
   },
   {
    "duration": 9,
    "start_time": "2023-02-11T17:05:27.180Z"
   },
   {
    "duration": 143,
    "start_time": "2023-02-11T17:05:27.191Z"
   },
   {
    "duration": 6,
    "start_time": "2023-02-11T17:05:27.339Z"
   },
   {
    "duration": 159,
    "start_time": "2023-02-11T17:05:27.347Z"
   },
   {
    "duration": 7,
    "start_time": "2023-02-11T17:05:27.508Z"
   },
   {
    "duration": 360,
    "start_time": "2023-02-11T17:05:27.517Z"
   },
   {
    "duration": 0,
    "start_time": "2023-02-11T17:05:27.880Z"
   },
   {
    "duration": 0,
    "start_time": "2023-02-11T17:05:27.882Z"
   },
   {
    "duration": 0,
    "start_time": "2023-02-11T17:05:27.883Z"
   },
   {
    "duration": 0,
    "start_time": "2023-02-11T17:05:27.885Z"
   },
   {
    "duration": 18,
    "start_time": "2023-02-11T17:05:38.563Z"
   },
   {
    "duration": 10,
    "start_time": "2023-02-11T17:05:44.028Z"
   },
   {
    "duration": 9,
    "start_time": "2023-02-11T17:05:47.519Z"
   },
   {
    "duration": 13,
    "start_time": "2023-02-11T17:05:49.220Z"
   },
   {
    "duration": 14,
    "start_time": "2023-02-11T17:05:51.521Z"
   },
   {
    "duration": 6,
    "start_time": "2023-02-12T10:04:46.852Z"
   },
   {
    "duration": 1247,
    "start_time": "2023-02-12T10:04:50.386Z"
   },
   {
    "duration": 4,
    "start_time": "2023-02-12T10:08:53.441Z"
   },
   {
    "duration": 100,
    "start_time": "2023-02-12T10:08:53.447Z"
   },
   {
    "duration": 12,
    "start_time": "2023-02-12T10:08:53.552Z"
   },
   {
    "duration": 7,
    "start_time": "2023-02-12T10:08:53.566Z"
   },
   {
    "duration": 10,
    "start_time": "2023-02-12T10:08:53.575Z"
   },
   {
    "duration": 7,
    "start_time": "2023-02-12T10:08:53.586Z"
   },
   {
    "duration": 14,
    "start_time": "2023-02-12T10:08:53.594Z"
   },
   {
    "duration": 11,
    "start_time": "2023-02-12T10:08:53.610Z"
   },
   {
    "duration": 3,
    "start_time": "2023-02-12T10:09:10.861Z"
   },
   {
    "duration": 9,
    "start_time": "2023-02-12T10:09:17.388Z"
   },
   {
    "duration": 2,
    "start_time": "2023-02-12T10:10:01.353Z"
   },
   {
    "duration": 10,
    "start_time": "2023-02-12T10:10:01.967Z"
   },
   {
    "duration": 4,
    "start_time": "2023-02-12T10:10:05.480Z"
   },
   {
    "duration": 11,
    "start_time": "2023-02-12T10:10:05.802Z"
   },
   {
    "duration": 4,
    "start_time": "2023-02-12T10:10:09.454Z"
   },
   {
    "duration": 11,
    "start_time": "2023-02-12T10:10:09.703Z"
   },
   {
    "duration": 9,
    "start_time": "2023-02-12T10:10:12.911Z"
   },
   {
    "duration": 9,
    "start_time": "2023-02-12T10:10:18.972Z"
   },
   {
    "duration": 3,
    "start_time": "2023-02-12T10:30:29.013Z"
   },
   {
    "duration": 30,
    "start_time": "2023-02-12T10:30:29.017Z"
   },
   {
    "duration": 3,
    "start_time": "2023-02-12T10:30:29.049Z"
   },
   {
    "duration": 21,
    "start_time": "2023-02-12T10:30:29.054Z"
   },
   {
    "duration": 5,
    "start_time": "2023-02-12T10:30:29.077Z"
   },
   {
    "duration": 12,
    "start_time": "2023-02-12T10:30:29.083Z"
   },
   {
    "duration": 8,
    "start_time": "2023-02-12T10:30:29.097Z"
   },
   {
    "duration": 15,
    "start_time": "2023-02-12T10:30:29.107Z"
   },
   {
    "duration": 159,
    "start_time": "2023-02-12T10:30:29.123Z"
   },
   {
    "duration": 12,
    "start_time": "2023-02-12T10:30:29.284Z"
   },
   {
    "duration": 6,
    "start_time": "2023-02-12T10:30:29.298Z"
   },
   {
    "duration": 793,
    "start_time": "2023-02-12T10:30:29.306Z"
   },
   {
    "duration": 195,
    "start_time": "2023-02-12T10:30:30.100Z"
   },
   {
    "duration": 327,
    "start_time": "2023-02-12T10:30:30.298Z"
   },
   {
    "duration": 252,
    "start_time": "2023-02-12T10:30:30.627Z"
   },
   {
    "duration": 290,
    "start_time": "2023-02-12T10:30:30.880Z"
   },
   {
    "duration": 6,
    "start_time": "2023-02-12T10:30:31.172Z"
   },
   {
    "duration": 143,
    "start_time": "2023-02-12T10:30:31.180Z"
   },
   {
    "duration": 5,
    "start_time": "2023-02-12T10:30:31.326Z"
   },
   {
    "duration": 150,
    "start_time": "2023-02-12T10:30:31.332Z"
   },
   {
    "duration": 4,
    "start_time": "2023-02-12T10:30:31.484Z"
   },
   {
    "duration": 242,
    "start_time": "2023-02-12T10:30:34.761Z"
   },
   {
    "duration": 249,
    "start_time": "2023-02-12T10:43:31.887Z"
   },
   {
    "duration": 223,
    "start_time": "2023-02-12T10:43:35.747Z"
   },
   {
    "duration": 228,
    "start_time": "2023-02-12T10:43:41.022Z"
   },
   {
    "duration": 16,
    "start_time": "2023-02-12T10:43:47.645Z"
   },
   {
    "duration": 8,
    "start_time": "2023-02-12T10:43:51.408Z"
   },
   {
    "duration": 61,
    "start_time": "2023-02-12T10:43:52.941Z"
   },
   {
    "duration": 13,
    "start_time": "2023-02-12T10:43:57.905Z"
   },
   {
    "duration": 197,
    "start_time": "2023-02-12T10:44:56.787Z"
   },
   {
    "duration": 14,
    "start_time": "2023-02-12T11:20:37.640Z"
   },
   {
    "duration": 14,
    "start_time": "2023-02-12T11:20:50.462Z"
   },
   {
    "duration": 13,
    "start_time": "2023-02-12T11:21:06.898Z"
   },
   {
    "duration": 1416,
    "start_time": "2023-02-12T14:53:43.507Z"
   },
   {
    "duration": 77,
    "start_time": "2023-02-12T14:53:44.925Z"
   },
   {
    "duration": 4,
    "start_time": "2023-02-12T14:53:45.004Z"
   },
   {
    "duration": 31,
    "start_time": "2023-02-12T14:53:45.010Z"
   },
   {
    "duration": 8,
    "start_time": "2023-02-12T14:53:45.043Z"
   },
   {
    "duration": 26,
    "start_time": "2023-02-12T14:53:45.053Z"
   },
   {
    "duration": 19,
    "start_time": "2023-02-12T14:53:45.082Z"
   },
   {
    "duration": 19,
    "start_time": "2023-02-12T14:53:45.103Z"
   },
   {
    "duration": 154,
    "start_time": "2023-02-12T14:53:45.124Z"
   },
   {
    "duration": 15,
    "start_time": "2023-02-12T14:53:45.281Z"
   },
   {
    "duration": 13,
    "start_time": "2023-02-12T14:53:45.298Z"
   },
   {
    "duration": 889,
    "start_time": "2023-02-12T14:53:45.312Z"
   },
   {
    "duration": 253,
    "start_time": "2023-02-12T14:53:46.203Z"
   },
   {
    "duration": 349,
    "start_time": "2023-02-12T14:53:46.458Z"
   },
   {
    "duration": 255,
    "start_time": "2023-02-12T14:53:46.808Z"
   },
   {
    "duration": 371,
    "start_time": "2023-02-12T14:53:47.066Z"
   },
   {
    "duration": 7,
    "start_time": "2023-02-12T14:53:47.439Z"
   },
   {
    "duration": 151,
    "start_time": "2023-02-12T14:53:47.448Z"
   },
   {
    "duration": 5,
    "start_time": "2023-02-12T14:53:47.600Z"
   },
   {
    "duration": 172,
    "start_time": "2023-02-12T14:53:47.607Z"
   },
   {
    "duration": 5,
    "start_time": "2023-02-12T14:53:47.780Z"
   },
   {
    "duration": 240,
    "start_time": "2023-02-12T14:53:47.787Z"
   },
   {
    "duration": 201,
    "start_time": "2023-02-12T14:53:48.029Z"
   },
   {
    "duration": 20,
    "start_time": "2023-02-12T14:53:48.233Z"
   },
   {
    "duration": 8,
    "start_time": "2023-02-12T14:53:48.255Z"
   },
   {
    "duration": 82,
    "start_time": "2023-02-12T14:53:48.265Z"
   },
   {
    "duration": 17,
    "start_time": "2023-02-12T14:53:48.349Z"
   }
  ],
  "kernelspec": {
   "display_name": "Python 3 (ipykernel)",
   "language": "python",
   "name": "python3"
  },
  "language_info": {
   "codemirror_mode": {
    "name": "ipython",
    "version": 3
   },
   "file_extension": ".py",
   "mimetype": "text/x-python",
   "name": "python",
   "nbconvert_exporter": "python",
   "pygments_lexer": "ipython3",
   "version": "3.9.12"
  },
  "toc": {
   "base_numbering": 1,
   "nav_menu": {},
   "number_sections": true,
   "sideBar": true,
   "skip_h1_title": true,
   "title_cell": "Table of Contents",
   "title_sidebar": "Contents",
   "toc_cell": false,
   "toc_position": {
    "height": "calc(100% - 180px)",
    "left": "10px",
    "top": "150px",
    "width": "286.075px"
   },
   "toc_section_display": true,
   "toc_window_display": false
  }
 },
 "nbformat": 4,
 "nbformat_minor": 2
}
